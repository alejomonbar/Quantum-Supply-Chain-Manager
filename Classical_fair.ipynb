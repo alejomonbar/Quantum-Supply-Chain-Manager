{
 "cells": [
  {
   "cell_type": "markdown",
   "metadata": {},
   "source": [
    "## Fair Model\n",
    "\n",
    "The fair model is designed from the data set that was made in the data analysis section and his can compare with the quantum models, for this will be with the use of neural networks to predict when there is a backorder and thus pass the data to the company responsible for the distribution and storage.\n",
    "\n",
    "\n",
    "In case you don't have installed tensorflow uncomment the following cell"
   ]
  },
  {
   "cell_type": "code",
   "execution_count": 1,
   "metadata": {},
   "outputs": [],
   "source": [
    "# !pip install --upgrade pip\n",
    "# !pip uninstall tensorflow --y\n",
    "# !pip install tensorflow"
   ]
  },
  {
   "cell_type": "markdown",
   "metadata": {},
   "source": [
    "In case you  dont want to work with GPU uncommenr the following cell"
   ]
  },
  {
   "cell_type": "code",
   "execution_count": 2,
   "metadata": {},
   "outputs": [],
   "source": [
    "import os\n",
    "os.environ['TF_CPP_MIN_LOG_LEVEL'] = '2'\n",
    "os.environ['CUDA_VISIBLE_DEVICES'] = '-1'"
   ]
  },
  {
   "cell_type": "markdown",
   "metadata": {},
   "source": [
    "Import the labraries as pandas to load the csv file, numpy for the seed, keras and tensorflow the framework for generate the machine learning methods as neurnal networks, and sklearn for the metrics."
   ]
  },
  {
   "cell_type": "code",
   "execution_count": 3,
   "metadata": {},
   "outputs": [],
   "source": [
    "# load csv file\n",
    "import pandas as pd\n",
    "\n",
    "# numpy to the seed \n",
    "import numpy as np\n",
    "\n",
    "# load csv fileframework to neural networks\n",
    "import tensorflow as tf\n",
    "\n",
    "#Method forthe  neural network\n",
    "from keras.regularizers import l2\n",
    "from keras.models import Sequential\n",
    "from keras.layers import Dense, Dropout\n",
    "\n",
    "#save as image the model summary\n",
    "from keras.utils.vis_utils import plot_model\n",
    "\n",
    "# librariesto plot\n",
    "import matplotlib.pyplot as plt\n",
    "%matplotlib inline  \n",
    "import seaborn as sns\n",
    "\n",
    "from sklearn.metrics import confusion_matrix, roc_curve, auc\n",
    "from sklearn.preprocessing import StandardScaler\n",
    "\n",
    "# demonstration of calculating metrics for a neural network model using sklearn\n",
    "from sklearn.metrics import accuracy_score\n",
    "from sklearn.metrics import precision_score\n",
    "from sklearn.metrics import recall_score\n",
    "from sklearn.metrics import f1_score\n",
    "from sklearn.metrics import cohen_kappa_score\n",
    "from sklearn.metrics import roc_auc_score\n",
    "\n",
    "import warnings\n",
    "warnings.filterwarnings(\"ignore\", category=DeprecationWarning) "
   ]
  },
  {
   "cell_type": "markdown",
   "metadata": {},
   "source": [
    "Load the train and test sets from the Data analysis module"
   ]
  },
  {
   "cell_type": "code",
   "execution_count": 4,
   "metadata": {},
   "outputs": [
    {
     "data": {
      "text/plain": [
       "(((2000, 16), (2000,)), ((6159, 16), (6159,)))"
      ]
     },
     "execution_count": 4,
     "metadata": {},
     "output_type": "execute_result"
    }
   ],
   "source": [
    "data_train = pd.read_csv(\"fair_train.csv\")\n",
    "X_train,y_train = data_train[data_train.columns[:16]].values, data_train[data_train.columns[16]].values\n",
    "\n",
    "data_test = pd.read_csv(\"classic_test.csv\")\n",
    "X_test,y_test = data_test[data_test.columns[:16]].values, data_test[data_test.columns[16]].values\n",
    "\n",
    "(X_train.shape, y_train.shape),(X_test.shape, y_test.shape)"
   ]
  },
  {
   "cell_type": "markdown",
   "metadata": {},
   "source": [
    "###### Random seed for reproducibility\n",
    "\n",
    "In the same case of reproducing the code it is important to consider the numpy seed, for this purpose the following cell is used"
   ]
  },
  {
   "cell_type": "code",
   "execution_count": 5,
   "metadata": {},
   "outputs": [],
   "source": [
    "np.random.seed(123)\n",
    "tf.random.set_seed(123)"
   ]
  },
  {
   "cell_type": "markdown",
   "metadata": {},
   "source": [
    "For neuran networks is important to normalize and check the distribution of the variables for that exist the variable StandarScaler that \n",
    "    - Scaling by Normalization or min-max scaling\n",
    "    - Scaling by mean and standard deviation or standardization\n",
    "    \n",
    "1. StandardScaler is a function used to standardize the data .\n",
    "2. Standardized value for x is computed as (x-mean(column))/standard deviation(column). "
   ]
  },
  {
   "cell_type": "code",
   "execution_count": 6,
   "metadata": {},
   "outputs": [],
   "source": [
    "scale = StandardScaler()"
   ]
  },
  {
   "cell_type": "code",
   "execution_count": 7,
   "metadata": {},
   "outputs": [
    {
     "data": {
      "text/html": [
       "<style>#sk-container-id-1 {color: black;background-color: white;}#sk-container-id-1 pre{padding: 0;}#sk-container-id-1 div.sk-toggleable {background-color: white;}#sk-container-id-1 label.sk-toggleable__label {cursor: pointer;display: block;width: 100%;margin-bottom: 0;padding: 0.3em;box-sizing: border-box;text-align: center;}#sk-container-id-1 label.sk-toggleable__label-arrow:before {content: \"▸\";float: left;margin-right: 0.25em;color: #696969;}#sk-container-id-1 label.sk-toggleable__label-arrow:hover:before {color: black;}#sk-container-id-1 div.sk-estimator:hover label.sk-toggleable__label-arrow:before {color: black;}#sk-container-id-1 div.sk-toggleable__content {max-height: 0;max-width: 0;overflow: hidden;text-align: left;background-color: #f0f8ff;}#sk-container-id-1 div.sk-toggleable__content pre {margin: 0.2em;color: black;border-radius: 0.25em;background-color: #f0f8ff;}#sk-container-id-1 input.sk-toggleable__control:checked~div.sk-toggleable__content {max-height: 200px;max-width: 100%;overflow: auto;}#sk-container-id-1 input.sk-toggleable__control:checked~label.sk-toggleable__label-arrow:before {content: \"▾\";}#sk-container-id-1 div.sk-estimator input.sk-toggleable__control:checked~label.sk-toggleable__label {background-color: #d4ebff;}#sk-container-id-1 div.sk-label input.sk-toggleable__control:checked~label.sk-toggleable__label {background-color: #d4ebff;}#sk-container-id-1 input.sk-hidden--visually {border: 0;clip: rect(1px 1px 1px 1px);clip: rect(1px, 1px, 1px, 1px);height: 1px;margin: -1px;overflow: hidden;padding: 0;position: absolute;width: 1px;}#sk-container-id-1 div.sk-estimator {font-family: monospace;background-color: #f0f8ff;border: 1px dotted black;border-radius: 0.25em;box-sizing: border-box;margin-bottom: 0.5em;}#sk-container-id-1 div.sk-estimator:hover {background-color: #d4ebff;}#sk-container-id-1 div.sk-parallel-item::after {content: \"\";width: 100%;border-bottom: 1px solid gray;flex-grow: 1;}#sk-container-id-1 div.sk-label:hover label.sk-toggleable__label {background-color: #d4ebff;}#sk-container-id-1 div.sk-serial::before {content: \"\";position: absolute;border-left: 1px solid gray;box-sizing: border-box;top: 0;bottom: 0;left: 50%;z-index: 0;}#sk-container-id-1 div.sk-serial {display: flex;flex-direction: column;align-items: center;background-color: white;padding-right: 0.2em;padding-left: 0.2em;position: relative;}#sk-container-id-1 div.sk-item {position: relative;z-index: 1;}#sk-container-id-1 div.sk-parallel {display: flex;align-items: stretch;justify-content: center;background-color: white;position: relative;}#sk-container-id-1 div.sk-item::before, #sk-container-id-1 div.sk-parallel-item::before {content: \"\";position: absolute;border-left: 1px solid gray;box-sizing: border-box;top: 0;bottom: 0;left: 50%;z-index: -1;}#sk-container-id-1 div.sk-parallel-item {display: flex;flex-direction: column;z-index: 1;position: relative;background-color: white;}#sk-container-id-1 div.sk-parallel-item:first-child::after {align-self: flex-end;width: 50%;}#sk-container-id-1 div.sk-parallel-item:last-child::after {align-self: flex-start;width: 50%;}#sk-container-id-1 div.sk-parallel-item:only-child::after {width: 0;}#sk-container-id-1 div.sk-dashed-wrapped {border: 1px dashed gray;margin: 0 0.4em 0.5em 0.4em;box-sizing: border-box;padding-bottom: 0.4em;background-color: white;}#sk-container-id-1 div.sk-label label {font-family: monospace;font-weight: bold;display: inline-block;line-height: 1.2em;}#sk-container-id-1 div.sk-label-container {text-align: center;}#sk-container-id-1 div.sk-container {/* jupyter's `normalize.less` sets `[hidden] { display: none; }` but bootstrap.min.css set `[hidden] { display: none !important; }` so we also need the `!important` here to be able to override the default hidden behavior on the sphinx rendered scikit-learn.org. See: https://github.com/scikit-learn/scikit-learn/issues/21755 */display: inline-block !important;position: relative;}#sk-container-id-1 div.sk-text-repr-fallback {display: none;}</style><div id=\"sk-container-id-1\" class=\"sk-top-container\"><div class=\"sk-text-repr-fallback\"><pre>StandardScaler()</pre><b>In a Jupyter environment, please rerun this cell to show the HTML representation or trust the notebook. <br />On GitHub, the HTML representation is unable to render, please try loading this page with nbviewer.org.</b></div><div class=\"sk-container\" hidden><div class=\"sk-item\"><div class=\"sk-estimator sk-toggleable\"><input class=\"sk-toggleable__control sk-hidden--visually\" id=\"sk-estimator-id-1\" type=\"checkbox\" checked><label for=\"sk-estimator-id-1\" class=\"sk-toggleable__label sk-toggleable__label-arrow\">StandardScaler</label><div class=\"sk-toggleable__content\"><pre>StandardScaler()</pre></div></div></div></div></div>"
      ],
      "text/plain": [
       "StandardScaler()"
      ]
     },
     "execution_count": 7,
     "metadata": {},
     "output_type": "execute_result"
    }
   ],
   "source": [
    "scale.fit(X_train)"
   ]
  },
  {
   "cell_type": "markdown",
   "metadata": {},
   "source": [
    "Apply the StandardScaler to the train and test sets"
   ]
  },
  {
   "cell_type": "code",
   "execution_count": 8,
   "metadata": {},
   "outputs": [],
   "source": [
    "X_train_std = scale.transform(X_train)\n",
    "X_test_std = scale.transform(X_test)"
   ]
  },
  {
   "cell_type": "markdown",
   "metadata": {},
   "source": [
    "Check the values after that"
   ]
  },
  {
   "cell_type": "code",
   "execution_count": 9,
   "metadata": {},
   "outputs": [
    {
     "data": {
      "text/plain": [
       "(array([-0.08878785,  0.99245064, -0.07217543, -0.12087906, -0.13114244,\n",
       "        -0.1312855 , -0.08861196, -0.08968266, -0.09519565, -0.10915324,\n",
       "        -0.07271837, -0.07898323,  0.27210453,  0.19214586, -0.09095412,\n",
       "         0.3788279 ]),\n",
       " 0)"
      ]
     },
     "execution_count": 9,
     "metadata": {},
     "output_type": "execute_result"
    }
   ],
   "source": [
    "X_train_std[1], y_train[1]"
   ]
  },
  {
   "cell_type": "markdown",
   "metadata": {},
   "source": [
    "## The model \n",
    "Using the same classicla model with a balance close to 50% for both classes."
   ]
  },
  {
   "cell_type": "code",
   "execution_count": 10,
   "metadata": {},
   "outputs": [
    {
     "name": "stderr",
     "output_type": "stream",
     "text": [
      "2022-07-26 22:36:35.981185: E tensorflow/stream_executor/cuda/cuda_driver.cc:271] failed call to cuInit: CUDA_ERROR_NO_DEVICE: no CUDA-capable device is detected\n"
     ]
    },
    {
     "data": {
      "image/png": "[encoded data removed]",
      "text/plain": [
       "<IPython.core.display.Image object>"
      ]
     },
     "execution_count": 10,
     "metadata": {},
     "output_type": "execute_result"
    }
   ],
   "source": [
    "model = Sequential()\n",
    "\n",
    "model.add(Dense(25, input_dim=16, activation='relu', kernel_regularizer=l2(1e-6),kernel_initializer=\"glorot_normal\"))\n",
    "model.add(Dropout(0.5))\n",
    "model.add(Dense(8, activation='relu',kernel_regularizer=l2(1e-6), kernel_initializer=\"glorot_normal\"))\n",
    "model.add(Dropout(0.5))\n",
    "\n",
    "model.add(Dense(1, activation='sigmoid',kernel_regularizer=l2(1e-6), kernel_initializer=\"glorot_normal\"))\n",
    "\n",
    "plot_model(model, to_file='model_plot.png', show_shapes=True, show_layer_names=True)"
   ]
  },
  {
   "cell_type": "markdown",
   "metadata": {},
   "source": [
    "Since they are unbalanced values, it is common to deal with the Area under the ROC Curve(AUC)\n",
    "\n",
    "this works  using True Positive Rate and False Positive Rate, where they are defined as :\n",
    "\n",
    "- **True Positive Rate (TPR)** is a synonym for recall and is therefore defined as follows:\n",
    "$$\n",
    "T P R=\\frac{T P}{T P+F N}\n",
    "$$\n",
    "- **False Positive Rate (FPR)** is defined as follows:\n",
    "$$\n",
    "F P R=\\frac{F P}{F P+T N}\n",
    "$$\n",
    "\n",
    "metric instead of accuracy, therefore both were selected to train the model with the Adam optimizer. Using binary crossentropy because is a binary classification \n",
    "\n",
    "$$\\operatorname{Loss}=-\\frac{1}{\\begin{array}{c}\n",
    "\\text { output } \\\\\n",
    "\\text { size }\n",
    "\\end{array}} \\sum_{i=1}^{\\substack{\\text { output } \\\\\n",
    "\\text { size }}} y_{i} \\cdot \\log \\hat{y}_{i}+\\left(1-y_{i}\\right) \\cdot \\log \\left(1-\\hat{y}_{i}\\right).\n",
    "$$"
   ]
  },
  {
   "cell_type": "code",
   "execution_count": 11,
   "metadata": {},
   "outputs": [],
   "source": [
    "# Compile model\n",
    "auc = tf.keras.metrics.AUC()\n",
    "model.compile(loss='binary_crossentropy', optimizer=\"Adam\", metrics=['accuracy',auc])"
   ]
  },
  {
   "cell_type": "markdown",
   "metadata": {},
   "source": [
    "Using 100 epochs a batch size of 32, with a validation split of 0.2 of the  train data"
   ]
  },
  {
   "cell_type": "code",
   "execution_count": 12,
   "metadata": {},
   "outputs": [
    {
     "name": "stdout",
     "output_type": "stream",
     "text": [
      "Epoch 1/100\n",
      "50/50 [==============================] - 1s 5ms/step - loss: 0.7900 - accuracy: 0.5556 - auc: 0.4721 - val_loss: 0.7819 - val_accuracy: 0.3125 - val_auc: 0.0000e+00\n",
      "Epoch 2/100\n",
      "50/50 [==============================] - 0s 1ms/step - loss: 0.7510 - accuracy: 0.5788 - auc: 0.5012 - val_loss: 0.7884 - val_accuracy: 0.2550 - val_auc: 0.0000e+00\n",
      "Epoch 3/100\n",
      "50/50 [==============================] - 0s 1ms/step - loss: 0.7148 - accuracy: 0.6056 - auc: 0.5008 - val_loss: 0.7906 - val_accuracy: 0.2450 - val_auc: 0.0000e+00\n",
      "Epoch 4/100\n",
      "50/50 [==============================] - 0s 925us/step - loss: 0.6828 - accuracy: 0.6181 - auc: 0.5406 - val_loss: 0.8101 - val_accuracy: 0.2175 - val_auc: 0.0000e+00\n",
      "Epoch 5/100\n",
      "50/50 [==============================] - 0s 1ms/step - loss: 0.6929 - accuracy: 0.6156 - auc: 0.5438 - val_loss: 0.8379 - val_accuracy: 0.1800 - val_auc: 0.0000e+00\n",
      "Epoch 6/100\n",
      "50/50 [==============================] - 0s 1ms/step - loss: 0.7060 - accuracy: 0.6194 - auc: 0.5278 - val_loss: 0.8362 - val_accuracy: 0.1750 - val_auc: 0.0000e+00\n",
      "Epoch 7/100\n",
      "50/50 [==============================] - 0s 1ms/step - loss: 0.6739 - accuracy: 0.6356 - auc: 0.5729 - val_loss: 0.8541 - val_accuracy: 0.1700 - val_auc: 0.0000e+00\n",
      "Epoch 8/100\n",
      "50/50 [==============================] - 0s 1ms/step - loss: 0.6793 - accuracy: 0.6319 - auc: 0.5484 - val_loss: 0.8561 - val_accuracy: 0.1625 - val_auc: 0.0000e+00\n",
      "Epoch 9/100\n",
      "50/50 [==============================] - 0s 1ms/step - loss: 0.6903 - accuracy: 0.6356 - auc: 0.5396 - val_loss: 0.8589 - val_accuracy: 0.1550 - val_auc: 0.0000e+00\n",
      "Epoch 10/100\n",
      "50/50 [==============================] - 0s 985us/step - loss: 0.6735 - accuracy: 0.6294 - auc: 0.5527 - val_loss: 0.8655 - val_accuracy: 0.1400 - val_auc: 0.0000e+00\n",
      "Epoch 11/100\n",
      "50/50 [==============================] - 0s 1ms/step - loss: 0.6720 - accuracy: 0.6381 - auc: 0.5636 - val_loss: 0.8764 - val_accuracy: 0.1225 - val_auc: 0.0000e+00\n",
      "Epoch 12/100\n",
      "50/50 [==============================] - 0s 1ms/step - loss: 0.6583 - accuracy: 0.6269 - auc: 0.5681 - val_loss: 0.8830 - val_accuracy: 0.1125 - val_auc: 0.0000e+00\n",
      "Epoch 13/100\n",
      "50/50 [==============================] - 0s 1ms/step - loss: 0.6693 - accuracy: 0.6344 - auc: 0.5895 - val_loss: 0.8937 - val_accuracy: 0.1150 - val_auc: 0.0000e+00\n",
      "Epoch 14/100\n",
      "50/50 [==============================] - 0s 1ms/step - loss: 0.6545 - accuracy: 0.6419 - auc: 0.5780 - val_loss: 0.8968 - val_accuracy: 0.1100 - val_auc: 0.0000e+00\n",
      "Epoch 15/100\n",
      "50/50 [==============================] - 0s 931us/step - loss: 0.6616 - accuracy: 0.6369 - auc: 0.5757 - val_loss: 0.8906 - val_accuracy: 0.1100 - val_auc: 0.0000e+00\n",
      "Epoch 16/100\n",
      "50/50 [==============================] - 0s 1ms/step - loss: 0.6418 - accuracy: 0.6494 - auc: 0.5974 - val_loss: 0.8928 - val_accuracy: 0.1175 - val_auc: 0.0000e+00\n",
      "Epoch 17/100\n",
      "50/50 [==============================] - 0s 1ms/step - loss: 0.6547 - accuracy: 0.6300 - auc: 0.5886 - val_loss: 0.9022 - val_accuracy: 0.1100 - val_auc: 0.0000e+00\n",
      "Epoch 18/100\n",
      "50/50 [==============================] - 0s 1ms/step - loss: 0.6508 - accuracy: 0.6406 - auc: 0.5902 - val_loss: 0.9179 - val_accuracy: 0.0900 - val_auc: 0.0000e+00\n",
      "Epoch 19/100\n",
      "50/50 [==============================] - 0s 939us/step - loss: 0.6498 - accuracy: 0.6456 - auc: 0.5855 - val_loss: 0.9025 - val_accuracy: 0.1025 - val_auc: 0.0000e+00\n",
      "Epoch 20/100\n",
      "50/50 [==============================] - 0s 1ms/step - loss: 0.6466 - accuracy: 0.6356 - auc: 0.6081 - val_loss: 0.9184 - val_accuracy: 0.1025 - val_auc: 0.0000e+00\n",
      "Epoch 21/100\n",
      "50/50 [==============================] - 0s 1ms/step - loss: 0.6414 - accuracy: 0.6463 - auc: 0.6011 - val_loss: 0.9119 - val_accuracy: 0.1050 - val_auc: 0.0000e+00\n",
      "Epoch 22/100\n",
      "50/50 [==============================] - 0s 1ms/step - loss: 0.6445 - accuracy: 0.6338 - auc: 0.6216 - val_loss: 0.9223 - val_accuracy: 0.1075 - val_auc: 0.0000e+00\n",
      "Epoch 23/100\n",
      "50/50 [==============================] - 0s 1ms/step - loss: 0.6397 - accuracy: 0.6456 - auc: 0.6131 - val_loss: 0.9237 - val_accuracy: 0.1100 - val_auc: 0.0000e+00\n",
      "Epoch 24/100\n",
      "50/50 [==============================] - 0s 1ms/step - loss: 0.6402 - accuracy: 0.6388 - auc: 0.6138 - val_loss: 0.9288 - val_accuracy: 0.1175 - val_auc: 0.0000e+00\n",
      "Epoch 25/100\n",
      "50/50 [==============================] - 0s 1ms/step - loss: 0.6430 - accuracy: 0.6419 - auc: 0.6146 - val_loss: 0.9257 - val_accuracy: 0.1200 - val_auc: 0.0000e+00\n",
      "Epoch 26/100\n",
      "50/50 [==============================] - 0s 1ms/step - loss: 0.6376 - accuracy: 0.6431 - auc: 0.6155 - val_loss: 0.9242 - val_accuracy: 0.1200 - val_auc: 0.0000e+00\n",
      "Epoch 27/100\n",
      "50/50 [==============================] - 0s 984us/step - loss: 0.6414 - accuracy: 0.6381 - auc: 0.6245 - val_loss: 0.9246 - val_accuracy: 0.1250 - val_auc: 0.0000e+00\n",
      "Epoch 28/100\n",
      "50/50 [==============================] - 0s 921us/step - loss: 0.6313 - accuracy: 0.6525 - auc: 0.6421 - val_loss: 0.9392 - val_accuracy: 0.1050 - val_auc: 0.0000e+00\n",
      "Epoch 29/100\n",
      "50/50 [==============================] - 0s 971us/step - loss: 0.6321 - accuracy: 0.6438 - auc: 0.6332 - val_loss: 0.9407 - val_accuracy: 0.1200 - val_auc: 0.0000e+00\n",
      "Epoch 30/100\n",
      "50/50 [==============================] - 0s 1ms/step - loss: 0.6452 - accuracy: 0.6425 - auc: 0.6086 - val_loss: 0.9394 - val_accuracy: 0.1100 - val_auc: 0.0000e+00\n",
      "Epoch 31/100\n",
      "50/50 [==============================] - 0s 852us/step - loss: 0.6378 - accuracy: 0.6469 - auc: 0.6224 - val_loss: 0.9324 - val_accuracy: 0.0975 - val_auc: 0.0000e+00\n",
      "Epoch 32/100\n",
      "50/50 [==============================] - 0s 941us/step - loss: 0.6303 - accuracy: 0.6500 - auc: 0.6382 - val_loss: 0.9405 - val_accuracy: 0.1100 - val_auc: 0.0000e+00\n",
      "Epoch 33/100\n",
      "50/50 [==============================] - 0s 949us/step - loss: 0.6330 - accuracy: 0.6475 - auc: 0.6408 - val_loss: 0.9412 - val_accuracy: 0.1250 - val_auc: 0.0000e+00\n",
      "Epoch 34/100\n",
      "50/50 [==============================] - 0s 968us/step - loss: 0.6406 - accuracy: 0.6369 - auc: 0.6385 - val_loss: 0.9325 - val_accuracy: 0.1225 - val_auc: 0.0000e+00\n",
      "Epoch 35/100\n",
      "50/50 [==============================] - 0s 1ms/step - loss: 0.6299 - accuracy: 0.6469 - auc: 0.6475 - val_loss: 0.9308 - val_accuracy: 0.1325 - val_auc: 0.0000e+00\n",
      "Epoch 36/100\n",
      "50/50 [==============================] - 0s 937us/step - loss: 0.6308 - accuracy: 0.6406 - auc: 0.6420 - val_loss: 0.9450 - val_accuracy: 0.1100 - val_auc: 0.0000e+00\n",
      "Epoch 37/100\n",
      "50/50 [==============================] - 0s 1ms/step - loss: 0.6337 - accuracy: 0.6494 - auc: 0.6395 - val_loss: 0.9366 - val_accuracy: 0.1125 - val_auc: 0.0000e+00\n",
      "Epoch 38/100\n",
      "50/50 [==============================] - 0s 977us/step - loss: 0.6381 - accuracy: 0.6388 - auc: 0.6302 - val_loss: 0.9399 - val_accuracy: 0.1000 - val_auc: 0.0000e+00\n",
      "Epoch 39/100\n",
      "50/50 [==============================] - 0s 996us/step - loss: 0.6338 - accuracy: 0.6419 - auc: 0.6477 - val_loss: 0.9522 - val_accuracy: 0.0725 - val_auc: 0.0000e+00\n",
      "Epoch 40/100\n",
      "50/50 [==============================] - 0s 1ms/step - loss: 0.6321 - accuracy: 0.6506 - auc: 0.6314 - val_loss: 0.9572 - val_accuracy: 0.0775 - val_auc: 0.0000e+00\n",
      "Epoch 41/100\n",
      "50/50 [==============================] - 0s 942us/step - loss: 0.6328 - accuracy: 0.6375 - auc: 0.6317 - val_loss: 0.9386 - val_accuracy: 0.1050 - val_auc: 0.0000e+00\n",
      "Epoch 42/100\n",
      "50/50 [==============================] - 0s 974us/step - loss: 0.6275 - accuracy: 0.6494 - auc: 0.6513 - val_loss: 0.9338 - val_accuracy: 0.1125 - val_auc: 0.0000e+00\n",
      "Epoch 43/100\n",
      "50/50 [==============================] - 0s 881us/step - loss: 0.6296 - accuracy: 0.6394 - auc: 0.6471 - val_loss: 0.9417 - val_accuracy: 0.1250 - val_auc: 0.0000e+00\n",
      "Epoch 44/100\n",
      "50/50 [==============================] - 0s 916us/step - loss: 0.6283 - accuracy: 0.6406 - auc: 0.6440 - val_loss: 0.9506 - val_accuracy: 0.1450 - val_auc: 0.0000e+00\n",
      "Epoch 45/100\n",
      "50/50 [==============================] - 0s 971us/step - loss: 0.6229 - accuracy: 0.6538 - auc: 0.6487 - val_loss: 0.9303 - val_accuracy: 0.1750 - val_auc: 0.0000e+00\n",
      "Epoch 46/100\n",
      "50/50 [==============================] - 0s 920us/step - loss: 0.6324 - accuracy: 0.6538 - auc: 0.6379 - val_loss: 0.9146 - val_accuracy: 0.1800 - val_auc: 0.0000e+00\n"
     ]
    },
    {
     "name": "stdout",
     "output_type": "stream",
     "text": [
      "Epoch 47/100\n",
      "50/50 [==============================] - 0s 943us/step - loss: 0.6226 - accuracy: 0.6525 - auc: 0.6539 - val_loss: 0.9226 - val_accuracy: 0.1800 - val_auc: 0.0000e+00\n",
      "Epoch 48/100\n",
      "50/50 [==============================] - 0s 883us/step - loss: 0.6185 - accuracy: 0.6519 - auc: 0.6671 - val_loss: 0.9242 - val_accuracy: 0.1925 - val_auc: 0.0000e+00\n",
      "Epoch 49/100\n",
      "50/50 [==============================] - 0s 987us/step - loss: 0.6222 - accuracy: 0.6650 - auc: 0.6532 - val_loss: 0.9066 - val_accuracy: 0.1925 - val_auc: 0.0000e+00\n",
      "Epoch 50/100\n",
      "50/50 [==============================] - 0s 1ms/step - loss: 0.6307 - accuracy: 0.6406 - auc: 0.6424 - val_loss: 0.9126 - val_accuracy: 0.1875 - val_auc: 0.0000e+00\n",
      "Epoch 51/100\n",
      "50/50 [==============================] - 0s 984us/step - loss: 0.6216 - accuracy: 0.6594 - auc: 0.6551 - val_loss: 0.9318 - val_accuracy: 0.1800 - val_auc: 0.0000e+00\n",
      "Epoch 52/100\n",
      "50/50 [==============================] - 0s 1ms/step - loss: 0.6218 - accuracy: 0.6500 - auc: 0.6575 - val_loss: 0.9431 - val_accuracy: 0.1675 - val_auc: 0.0000e+00\n",
      "Epoch 53/100\n",
      "50/50 [==============================] - 0s 1ms/step - loss: 0.6258 - accuracy: 0.6569 - auc: 0.6468 - val_loss: 0.9201 - val_accuracy: 0.1725 - val_auc: 0.0000e+00\n",
      "Epoch 54/100\n",
      "50/50 [==============================] - 0s 1ms/step - loss: 0.6268 - accuracy: 0.6513 - auc: 0.6483 - val_loss: 0.9188 - val_accuracy: 0.1725 - val_auc: 0.0000e+00\n",
      "Epoch 55/100\n",
      "50/50 [==============================] - 0s 924us/step - loss: 0.6269 - accuracy: 0.6450 - auc: 0.6560 - val_loss: 0.9255 - val_accuracy: 0.1575 - val_auc: 0.0000e+00\n",
      "Epoch 56/100\n",
      "50/50 [==============================] - 0s 993us/step - loss: 0.6154 - accuracy: 0.6637 - auc: 0.6645 - val_loss: 0.9294 - val_accuracy: 0.1750 - val_auc: 0.0000e+00\n",
      "Epoch 57/100\n",
      "50/50 [==============================] - 0s 1ms/step - loss: 0.6202 - accuracy: 0.6581 - auc: 0.6632 - val_loss: 0.9054 - val_accuracy: 0.2000 - val_auc: 0.0000e+00\n",
      "Epoch 58/100\n",
      "50/50 [==============================] - 0s 1ms/step - loss: 0.6242 - accuracy: 0.6406 - auc: 0.6604 - val_loss: 0.9267 - val_accuracy: 0.1850 - val_auc: 0.0000e+00\n",
      "Epoch 59/100\n",
      "50/50 [==============================] - 0s 883us/step - loss: 0.6196 - accuracy: 0.6438 - auc: 0.6639 - val_loss: 0.9070 - val_accuracy: 0.1925 - val_auc: 0.0000e+00\n",
      "Epoch 60/100\n",
      "50/50 [==============================] - 0s 1ms/step - loss: 0.6200 - accuracy: 0.6550 - auc: 0.6619 - val_loss: 0.9095 - val_accuracy: 0.1900 - val_auc: 0.0000e+00\n",
      "Epoch 61/100\n",
      "50/50 [==============================] - 0s 1ms/step - loss: 0.6198 - accuracy: 0.6594 - auc: 0.6761 - val_loss: 0.9090 - val_accuracy: 0.1925 - val_auc: 0.0000e+00\n",
      "Epoch 62/100\n",
      "50/50 [==============================] - 0s 1ms/step - loss: 0.6173 - accuracy: 0.6531 - auc: 0.6740 - val_loss: 0.9090 - val_accuracy: 0.1925 - val_auc: 0.0000e+00\n",
      "Epoch 63/100\n",
      "50/50 [==============================] - 0s 976us/step - loss: 0.6195 - accuracy: 0.6425 - auc: 0.6755 - val_loss: 0.9390 - val_accuracy: 0.1625 - val_auc: 0.0000e+00\n",
      "Epoch 64/100\n",
      "50/50 [==============================] - 0s 993us/step - loss: 0.6144 - accuracy: 0.6575 - auc: 0.6724 - val_loss: 0.9267 - val_accuracy: 0.1750 - val_auc: 0.0000e+00\n",
      "Epoch 65/100\n",
      "50/50 [==============================] - 0s 1ms/step - loss: 0.6160 - accuracy: 0.6506 - auc: 0.6732 - val_loss: 0.9140 - val_accuracy: 0.1750 - val_auc: 0.0000e+00\n",
      "Epoch 66/100\n",
      "50/50 [==============================] - 0s 1ms/step - loss: 0.6100 - accuracy: 0.6575 - auc: 0.6769 - val_loss: 0.9225 - val_accuracy: 0.1850 - val_auc: 0.0000e+00\n",
      "Epoch 67/100\n",
      "50/50 [==============================] - 0s 1ms/step - loss: 0.6133 - accuracy: 0.6675 - auc: 0.6604 - val_loss: 0.8931 - val_accuracy: 0.2100 - val_auc: 0.0000e+00\n",
      "Epoch 68/100\n",
      "50/50 [==============================] - 0s 891us/step - loss: 0.6067 - accuracy: 0.6600 - auc: 0.6927 - val_loss: 0.8971 - val_accuracy: 0.2025 - val_auc: 0.0000e+00\n",
      "Epoch 69/100\n",
      "50/50 [==============================] - 0s 999us/step - loss: 0.6168 - accuracy: 0.6531 - auc: 0.6624 - val_loss: 0.9056 - val_accuracy: 0.2025 - val_auc: 0.0000e+00\n",
      "Epoch 70/100\n",
      "50/50 [==============================] - 0s 955us/step - loss: 0.6119 - accuracy: 0.6488 - auc: 0.6794 - val_loss: 0.9053 - val_accuracy: 0.1950 - val_auc: 0.0000e+00\n",
      "Epoch 71/100\n",
      "50/50 [==============================] - 0s 964us/step - loss: 0.6074 - accuracy: 0.6644 - auc: 0.6822 - val_loss: 0.9026 - val_accuracy: 0.1975 - val_auc: 0.0000e+00\n",
      "Epoch 72/100\n",
      "50/50 [==============================] - 0s 972us/step - loss: 0.6141 - accuracy: 0.6594 - auc: 0.6694 - val_loss: 0.9244 - val_accuracy: 0.1800 - val_auc: 0.0000e+00\n",
      "Epoch 73/100\n",
      "50/50 [==============================] - 0s 1ms/step - loss: 0.6055 - accuracy: 0.6550 - auc: 0.6794 - val_loss: 0.9116 - val_accuracy: 0.1950 - val_auc: 0.0000e+00\n",
      "Epoch 74/100\n",
      "50/50 [==============================] - 0s 928us/step - loss: 0.6060 - accuracy: 0.6650 - auc: 0.6859 - val_loss: 0.9100 - val_accuracy: 0.2125 - val_auc: 0.0000e+00\n",
      "Epoch 75/100\n",
      "50/50 [==============================] - 0s 985us/step - loss: 0.6077 - accuracy: 0.6619 - auc: 0.6841 - val_loss: 0.9043 - val_accuracy: 0.2175 - val_auc: 0.0000e+00\n",
      "Epoch 76/100\n",
      "50/50 [==============================] - 0s 1ms/step - loss: 0.5996 - accuracy: 0.6706 - auc: 0.6940 - val_loss: 0.8941 - val_accuracy: 0.2125 - val_auc: 0.0000e+00\n",
      "Epoch 77/100\n",
      "50/50 [==============================] - 0s 1ms/step - loss: 0.6099 - accuracy: 0.6562 - auc: 0.6836 - val_loss: 0.9068 - val_accuracy: 0.2050 - val_auc: 0.0000e+00\n",
      "Epoch 78/100\n",
      "50/50 [==============================] - 0s 1ms/step - loss: 0.6037 - accuracy: 0.6631 - auc: 0.6994 - val_loss: 0.9070 - val_accuracy: 0.2100 - val_auc: 0.0000e+00\n",
      "Epoch 79/100\n",
      "50/50 [==============================] - 0s 918us/step - loss: 0.6056 - accuracy: 0.6662 - auc: 0.6879 - val_loss: 0.9047 - val_accuracy: 0.2150 - val_auc: 0.0000e+00\n",
      "Epoch 80/100\n",
      "50/50 [==============================] - 0s 979us/step - loss: 0.6007 - accuracy: 0.6612 - auc: 0.6960 - val_loss: 0.8826 - val_accuracy: 0.2075 - val_auc: 0.0000e+00\n",
      "Epoch 81/100\n",
      "50/50 [==============================] - 0s 1ms/step - loss: 0.5941 - accuracy: 0.6619 - auc: 0.7098 - val_loss: 0.8903 - val_accuracy: 0.2075 - val_auc: 0.0000e+00\n",
      "Epoch 82/100\n",
      "50/50 [==============================] - 0s 1ms/step - loss: 0.6027 - accuracy: 0.6625 - auc: 0.6920 - val_loss: 0.8758 - val_accuracy: 0.2050 - val_auc: 0.0000e+00\n",
      "Epoch 83/100\n",
      "50/50 [==============================] - 0s 883us/step - loss: 0.5995 - accuracy: 0.6694 - auc: 0.6894 - val_loss: 0.8714 - val_accuracy: 0.2175 - val_auc: 0.0000e+00\n",
      "Epoch 84/100\n",
      "50/50 [==============================] - 0s 886us/step - loss: 0.5980 - accuracy: 0.6562 - auc: 0.6988 - val_loss: 0.8871 - val_accuracy: 0.2000 - val_auc: 0.0000e+00\n",
      "Epoch 85/100\n",
      "50/50 [==============================] - 0s 1ms/step - loss: 0.5977 - accuracy: 0.6681 - auc: 0.6931 - val_loss: 0.8697 - val_accuracy: 0.2125 - val_auc: 0.0000e+00\n",
      "Epoch 86/100\n",
      "50/50 [==============================] - 0s 1ms/step - loss: 0.5958 - accuracy: 0.6600 - auc: 0.7068 - val_loss: 0.8840 - val_accuracy: 0.2150 - val_auc: 0.0000e+00\n",
      "Epoch 87/100\n",
      "50/50 [==============================] - 0s 1ms/step - loss: 0.6026 - accuracy: 0.6700 - auc: 0.6927 - val_loss: 0.8751 - val_accuracy: 0.2250 - val_auc: 0.0000e+00\n",
      "Epoch 88/100\n",
      "50/50 [==============================] - 0s 1ms/step - loss: 0.5970 - accuracy: 0.6769 - auc: 0.6915 - val_loss: 0.8696 - val_accuracy: 0.2200 - val_auc: 0.0000e+00\n",
      "Epoch 89/100\n",
      "50/50 [==============================] - 0s 1ms/step - loss: 0.5965 - accuracy: 0.6769 - auc: 0.7089 - val_loss: 0.8699 - val_accuracy: 0.2275 - val_auc: 0.0000e+00\n",
      "Epoch 90/100\n",
      "50/50 [==============================] - 0s 1ms/step - loss: 0.5909 - accuracy: 0.6744 - auc: 0.7120 - val_loss: 0.8797 - val_accuracy: 0.2250 - val_auc: 0.0000e+00\n",
      "Epoch 91/100\n",
      "50/50 [==============================] - 0s 967us/step - loss: 0.5919 - accuracy: 0.6662 - auc: 0.7109 - val_loss: 0.8753 - val_accuracy: 0.2275 - val_auc: 0.0000e+00\n",
      "Epoch 92/100\n",
      "50/50 [==============================] - 0s 1ms/step - loss: 0.5972 - accuracy: 0.6650 - auc: 0.7005 - val_loss: 0.8778 - val_accuracy: 0.2175 - val_auc: 0.0000e+00\n"
     ]
    },
    {
     "name": "stdout",
     "output_type": "stream",
     "text": [
      "Epoch 93/100\n",
      "50/50 [==============================] - 0s 859us/step - loss: 0.5982 - accuracy: 0.6587 - auc: 0.7104 - val_loss: 0.8648 - val_accuracy: 0.2225 - val_auc: 0.0000e+00\n",
      "Epoch 94/100\n",
      "50/50 [==============================] - 0s 900us/step - loss: 0.5874 - accuracy: 0.6781 - auc: 0.7151 - val_loss: 0.8816 - val_accuracy: 0.2300 - val_auc: 0.0000e+00\n",
      "Epoch 95/100\n",
      "50/50 [==============================] - 0s 1ms/step - loss: 0.5781 - accuracy: 0.6869 - auc: 0.7294 - val_loss: 0.8404 - val_accuracy: 0.2350 - val_auc: 0.0000e+00\n",
      "Epoch 96/100\n",
      "50/50 [==============================] - 0s 979us/step - loss: 0.5816 - accuracy: 0.6706 - auc: 0.7241 - val_loss: 0.8642 - val_accuracy: 0.2375 - val_auc: 0.0000e+00\n",
      "Epoch 97/100\n",
      "50/50 [==============================] - 0s 938us/step - loss: 0.5828 - accuracy: 0.6781 - auc: 0.7192 - val_loss: 0.8466 - val_accuracy: 0.2425 - val_auc: 0.0000e+00\n",
      "Epoch 98/100\n",
      "50/50 [==============================] - 0s 912us/step - loss: 0.5835 - accuracy: 0.6850 - auc: 0.7225 - val_loss: 0.8818 - val_accuracy: 0.2725 - val_auc: 0.0000e+00\n",
      "Epoch 99/100\n",
      "50/50 [==============================] - 0s 1ms/step - loss: 0.5849 - accuracy: 0.6819 - auc: 0.7170 - val_loss: 0.8112 - val_accuracy: 0.3275 - val_auc: 0.0000e+00\n",
      "Epoch 100/100\n",
      "50/50 [==============================] - 0s 1ms/step - loss: 0.5854 - accuracy: 0.6744 - auc: 0.7210 - val_loss: 0.8544 - val_accuracy: 0.2550 - val_auc: 0.0000e+00\n"
     ]
    }
   ],
   "source": [
    "model_history = model.fit(X_train_std, y_train, epochs=100,\n",
    "                                        batch_size=32, \n",
    "                                        validation_split=0.2, shuffle=True)"
   ]
  },
  {
   "cell_type": "markdown",
   "metadata": {},
   "source": [
    "## Predictions\n",
    "\n",
    "After that we used the predictions  of the  train and test set"
   ]
  },
  {
   "cell_type": "code",
   "execution_count": 13,
   "metadata": {},
   "outputs": [],
   "source": [
    "train_pred = model.predict(X_train_std)\n",
    "test_pred = model.predict(X_test_std)"
   ]
  },
  {
   "cell_type": "markdown",
   "metadata": {},
   "source": [
    "to convert the predict values into the classes was designed an condition that looks as "
   ]
  },
  {
   "cell_type": "code",
   "execution_count": 14,
   "metadata": {},
   "outputs": [],
   "source": [
    "y_train_pred = (model.predict(X_train_std) > 0.5).astype(\"int32\")\n",
    "y_test_pred = (model.predict(X_test_std) > 0.5).astype(\"int32\")"
   ]
  },
  {
   "cell_type": "markdown",
   "metadata": {},
   "source": [
    "### Getting evaluation metrics and evaluating model performance\n",
    "\n",
    "Using different metrics as \n",
    "\n",
    "- accuracy\n",
    "- precision\n",
    "- recall\n",
    "- f1 score\n",
    "- cohen_kappa\n",
    "- roc_auc\n",
    "\n",
    "\n",
    "The results of the train are important to check the F1 score and ROC AUC, they are \n",
    "\n",
    "- F1 score: 0.413999\n",
    "- ROC AUC: 0.606500\n",
    "\n",
    "they are worst with respect the imbalance but good to comapre with a quantum model"
   ]
  },
  {
   "cell_type": "code",
   "execution_count": 15,
   "metadata": {},
   "outputs": [
    {
     "name": "stdout",
     "output_type": "stream",
     "text": [
      "Accuracy: 0.606500\n",
      "Precision: 0.810496\n",
      "Recall: 0.278000\n",
      "F1 score: 0.413999\n",
      "Cohens kappa: 0.213000\n",
      "ROC AUC: 0.606500\n",
      "[[935  65]\n",
      " [722 278]]\n"
     ]
    },
    {
     "data": {
      "image/png": "[encoded data removed]",
      "text/plain": [
       "<Figure size 432x288 with 2 Axes>"
      ]
     },
     "metadata": {
      "needs_background": "light"
     },
     "output_type": "display_data"
    }
   ],
   "source": [
    "accuracy = accuracy_score(y_train, y_train_pred)\n",
    "print('Accuracy: %f' % accuracy)\n",
    "# precision tp / (tp + fp)\n",
    "precision = precision_score(y_train, y_train_pred)\n",
    "print('Precision: %f' % precision)\n",
    "# recall: tp / (tp + fn)\n",
    "recall = recall_score(y_train, y_train_pred)\n",
    "print('Recall: %f' % recall)\n",
    "# f1: 2 tp / (2 tp + fp + fn)\n",
    "f1 = f1_score(y_train, y_train_pred)\n",
    "print('F1 score: %f' % f1)\n",
    " \n",
    "# kappa\n",
    "kappa = cohen_kappa_score(y_train, y_train_pred)\n",
    "print('Cohens kappa: %f' % kappa)\n",
    "# ROC AUC\n",
    "auc = roc_auc_score(y_train, y_train_pred)\n",
    "print('ROC AUC: %f' % auc)\n",
    "# confusion matrix\n",
    "train_matrix = confusion_matrix(y_train, y_train_pred)\n",
    "print(train_matrix)\n",
    "ax = sns.heatmap(train_matrix, annot=True, cmap='Blues', fmt='g')\n",
    "\n",
    "ax.set_title('Seaborn Confusion Matrix with labels\\n\\n');\n",
    "ax.set_xlabel('\\nPredicted Values')\n",
    "ax.set_ylabel('Actual Values ');\n",
    "\n",
    "ax.xaxis.set_ticklabels(['0','1'])\n",
    "ax.yaxis.set_ticklabels(['0','1'])\n",
    "\n",
    "## Display the visualization of the Confusion Matrix.\n",
    "plt.show()"
   ]
  },
  {
   "cell_type": "markdown",
   "metadata": {},
   "source": [
    "The results of the test are important to check the F1 score and ROC AUC, they are \n",
    "\n",
    "- F1 score: 0.338028\n",
    "- ROC AUC: 0.598467\n",
    "\n",
    "they are worst with respect the imbalance but good to comapre with a quantum model"
   ]
  },
  {
   "cell_type": "code",
   "execution_count": 16,
   "metadata": {},
   "outputs": [
    {
     "name": "stdout",
     "output_type": "stream",
     "text": [
      "Accuracy: 0.809222\n",
      "Precision: 0.464396\n",
      "Recall: 0.265722\n",
      "F1 score: 0.338028\n",
      "Cohens kappa: 0.236103\n",
      "ROC AUC: 0.598467\n",
      "[[4684  346]\n",
      " [ 829  300]]\n"
     ]
    },
    {
     "data": {
      "image/png": "[encoded data removed]",
      "text/plain": [
       "<Figure size 432x288 with 2 Axes>"
      ]
     },
     "metadata": {
      "needs_background": "light"
     },
     "output_type": "display_data"
    }
   ],
   "source": [
    "accuracy = accuracy_score(y_test, y_test_pred)\n",
    "print('Accuracy: %f' % accuracy)\n",
    "# precision tp / (tp + fp)\n",
    "precision = precision_score(y_test, y_test_pred)\n",
    "print('Precision: %f' % precision)\n",
    "# recall: tp / (tp + fn)\n",
    "recall = recall_score(y_test, y_test_pred)\n",
    "print('Recall: %f' % recall)\n",
    "# f1: 2 tp / (2 tp + fp + fn)\n",
    "f1 = f1_score(y_test, y_test_pred)\n",
    "print('F1 score: %f' % f1)\n",
    " \n",
    "# kappa\n",
    "kappa = cohen_kappa_score(y_test, y_test_pred)\n",
    "print('Cohens kappa: %f' % kappa)\n",
    "# ROC AUC\n",
    "auc = roc_auc_score(y_test, y_test_pred)\n",
    "print('ROC AUC: %f' % auc)\n",
    "# confusion matrix\n",
    "test_matrix = confusion_matrix(y_test, y_test_pred)\n",
    "print(test_matrix)\n",
    "ax = sns.heatmap(test_matrix, annot=True, cmap='Blues', fmt='g')\n",
    "\n",
    "ax.set_title('Seaborn Confusion Matrix with labels\\n\\n');\n",
    "ax.set_xlabel('\\nPredicted Values')\n",
    "ax.set_ylabel('Actual Values ');\n",
    "\n",
    "ax.xaxis.set_ticklabels(['0','1'])\n",
    "ax.yaxis.set_ticklabels(['0','1'])\n",
    "\n",
    "## Display the visualization of the Confusion Matrix.\n",
    "plt.show()"
   ]
  }
 ],
 "metadata": {
  "kernelspec": {
   "display_name": "Python 3 (ipykernel)",
   "language": "python",
   "name": "python3"
  },
  "language_info": {
   "codemirror_mode": {
    "name": "ipython",
    "version": 3
   },
   "file_extension": ".py",
   "mimetype": "text/x-python",
   "name": "python",
   "nbconvert_exporter": "python",
   "pygments_lexer": "ipython3",
   "version": "3.8.8"
  },
  "toc": {
   "base_numbering": 1,
   "nav_menu": {},
   "number_sections": true,
   "sideBar": true,
   "skip_h1_title": false,
   "title_cell": "Table of Contents",
   "title_sidebar": "Contents",
   "toc_cell": false,
   "toc_position": {},
   "toc_section_display": true,
   "toc_window_display": false
  },
  "varInspector": {
   "cols": {
    "lenName": 16,
    "lenType": 16,
    "lenVar": 40
   },
   "kernels_config": {
    "python": {
     "delete_cmd_postfix": "",
     "delete_cmd_prefix": "del ",
     "library": "var_list.py",
     "varRefreshCmd": "print(var_dic_list())"
    },
    "r": {
     "delete_cmd_postfix": ") ",
     "delete_cmd_prefix": "rm(",
     "library": "var_list.r",
     "varRefreshCmd": "cat(var_dic_list()) "
    }
   },
   "types_to_exclude": [
    "module",
    "function",
    "builtin_function_or_method",
    "instance",
    "_Feature"
   ],
   "window_display": false
  }
 },
 "nbformat": 4,
 "nbformat_minor": 2
}
