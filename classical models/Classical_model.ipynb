{
 "cells": [
  {
   "cell_type": "markdown",
   "metadata": {},
   "source": [
    "## Classical Model\n",
    "\n",
    "The classical model is designed from the data set that was made in the data analysis section, for this will be with the use of neural networks to predict when there is a backorder and thus pass the data to the company responsible for the distribution and storage.\n",
    "\n",
    "\n",
    "In case you don't have installed tensorflow uncomment the following cell"
   ]
  },
  {
   "cell_type": "code",
   "execution_count": 1,
   "metadata": {},
   "outputs": [],
   "source": [
    "# !pip install --upgrade pip\n",
    "# !pip uninstall tensorflow --y\n",
    "# !pip install tensorflow"
   ]
  },
  {
   "cell_type": "markdown",
   "metadata": {},
   "source": [
    "In case you  dont want to work with GPU uncommenr the following cell"
   ]
  },
  {
   "cell_type": "code",
   "execution_count": 2,
   "metadata": {},
   "outputs": [],
   "source": [
    "#import os\n",
    "#os.environ['TF_CPP_MIN_LOG_LEVEL'] = '2'\n",
    "#os.environ['CUDA_VISIBLE_DEVICES'] = '-1'"
   ]
  },
  {
   "cell_type": "markdown",
   "metadata": {},
   "source": [
    "Import the labraries as pandas to load the csv file, numpy for the seed, keras and tensorflow the framework for generate the machine learning methods as neurnal networks, and sklearn for the metrics."
   ]
  },
  {
   "cell_type": "code",
   "execution_count": 3,
   "metadata": {},
   "outputs": [],
   "source": [
    "# load csv file\n",
    "import pandas as pd\n",
    "\n",
    "# numpy to the seed \n",
    "import numpy as np\n",
    "\n",
    "# load csv fileframework to neural networks\n",
    "import tensorflow as tf\n",
    "\n",
    "#Method forthe  neural network\n",
    "from keras.regularizers import l2\n",
    "from keras.models import Sequential\n",
    "from keras.layers import Dense, Dropout\n",
    "\n",
    "#save as image the model summary\n",
    "from keras.utils.vis_utils import plot_model\n",
    "\n",
    "# librariesto plot\n",
    "import matplotlib.pyplot as plt\n",
    "%matplotlib inline  \n",
    "import seaborn as sns\n",
    "\n",
    "from sklearn.metrics import confusion_matrix, roc_curve, auc\n",
    "from sklearn.preprocessing import StandardScaler\n",
    "\n",
    "# demonstration of calculating metrics for a neural network model using sklearn\n",
    "from sklearn.metrics import accuracy_score\n",
    "from sklearn.metrics import precision_score\n",
    "from sklearn.metrics import recall_score\n",
    "from sklearn.metrics import f1_score\n",
    "from sklearn.metrics import cohen_kappa_score\n",
    "from sklearn.metrics import roc_auc_score\n",
    "\n",
    "import warnings\n",
    "warnings.filterwarnings(\"ignore\", category=DeprecationWarning) "
   ]
  },
  {
   "cell_type": "markdown",
   "metadata": {},
   "source": [
    "Load the train and test sets from the Data analysis module"
   ]
  },
  {
   "cell_type": "code",
   "execution_count": 4,
   "metadata": {},
   "outputs": [
    {
     "data": {
      "text/plain": [
       "(((20164, 16), (20164,)), ((6159, 16), (6159,)))"
      ]
     },
     "execution_count": 4,
     "metadata": {},
     "output_type": "execute_result"
    }
   ],
   "source": [
    "data_train = pd.read_csv(\"classic_train.csv\")\n",
    "X_train,y_train = data_train[data_train.columns[:16]].values, data_train[data_train.columns[16]].values\n",
    "\n",
    "data_test = pd.read_csv(\"classic_test.csv\")\n",
    "X_test,y_test = data_test[data_test.columns[:16]].values, data_test[data_test.columns[16]].values\n",
    "\n",
    "(X_train.shape, y_train.shape),(X_test.shape, y_test.shape)"
   ]
  },
  {
   "cell_type": "markdown",
   "metadata": {},
   "source": [
    "###### Random seed for reproducibility\n",
    "\n",
    "In the same case of reproducing the code it is important to consider the numpy seed, for this purpose the following cell is used"
   ]
  },
  {
   "cell_type": "code",
   "execution_count": 5,
   "metadata": {},
   "outputs": [],
   "source": [
    "np.random.seed(123)\n",
    "tf.random.set_seed(123)"
   ]
  },
  {
   "cell_type": "markdown",
   "metadata": {},
   "source": [
    "For neuran networks is important to normalize and check the distribution of the variables for that exist the variable StandarScaler that \n",
    "    - Scaling by Normalization or min-max scaling\n",
    "    - Scaling by mean and standard deviation or standardization\n",
    "    \n",
    "1. StandardScaler is a function used to standardize the data .\n",
    "2. Standardized value for x is computed as (x-mean(column))/standard deviation(column). "
   ]
  },
  {
   "cell_type": "code",
   "execution_count": 6,
   "metadata": {},
   "outputs": [],
   "source": [
    "scale = StandardScaler()"
   ]
  },
  {
   "cell_type": "code",
   "execution_count": 7,
   "metadata": {},
   "outputs": [
    {
     "data": {
      "text/html": [
       "<style>#sk-container-id-1 {color: black;background-color: white;}#sk-container-id-1 pre{padding: 0;}#sk-container-id-1 div.sk-toggleable {background-color: white;}#sk-container-id-1 label.sk-toggleable__label {cursor: pointer;display: block;width: 100%;margin-bottom: 0;padding: 0.3em;box-sizing: border-box;text-align: center;}#sk-container-id-1 label.sk-toggleable__label-arrow:before {content: \"▸\";float: left;margin-right: 0.25em;color: #696969;}#sk-container-id-1 label.sk-toggleable__label-arrow:hover:before {color: black;}#sk-container-id-1 div.sk-estimator:hover label.sk-toggleable__label-arrow:before {color: black;}#sk-container-id-1 div.sk-toggleable__content {max-height: 0;max-width: 0;overflow: hidden;text-align: left;background-color: #f0f8ff;}#sk-container-id-1 div.sk-toggleable__content pre {margin: 0.2em;color: black;border-radius: 0.25em;background-color: #f0f8ff;}#sk-container-id-1 input.sk-toggleable__control:checked~div.sk-toggleable__content {max-height: 200px;max-width: 100%;overflow: auto;}#sk-container-id-1 input.sk-toggleable__control:checked~label.sk-toggleable__label-arrow:before {content: \"▾\";}#sk-container-id-1 div.sk-estimator input.sk-toggleable__control:checked~label.sk-toggleable__label {background-color: #d4ebff;}#sk-container-id-1 div.sk-label input.sk-toggleable__control:checked~label.sk-toggleable__label {background-color: #d4ebff;}#sk-container-id-1 input.sk-hidden--visually {border: 0;clip: rect(1px 1px 1px 1px);clip: rect(1px, 1px, 1px, 1px);height: 1px;margin: -1px;overflow: hidden;padding: 0;position: absolute;width: 1px;}#sk-container-id-1 div.sk-estimator {font-family: monospace;background-color: #f0f8ff;border: 1px dotted black;border-radius: 0.25em;box-sizing: border-box;margin-bottom: 0.5em;}#sk-container-id-1 div.sk-estimator:hover {background-color: #d4ebff;}#sk-container-id-1 div.sk-parallel-item::after {content: \"\";width: 100%;border-bottom: 1px solid gray;flex-grow: 1;}#sk-container-id-1 div.sk-label:hover label.sk-toggleable__label {background-color: #d4ebff;}#sk-container-id-1 div.sk-serial::before {content: \"\";position: absolute;border-left: 1px solid gray;box-sizing: border-box;top: 0;bottom: 0;left: 50%;z-index: 0;}#sk-container-id-1 div.sk-serial {display: flex;flex-direction: column;align-items: center;background-color: white;padding-right: 0.2em;padding-left: 0.2em;position: relative;}#sk-container-id-1 div.sk-item {position: relative;z-index: 1;}#sk-container-id-1 div.sk-parallel {display: flex;align-items: stretch;justify-content: center;background-color: white;position: relative;}#sk-container-id-1 div.sk-item::before, #sk-container-id-1 div.sk-parallel-item::before {content: \"\";position: absolute;border-left: 1px solid gray;box-sizing: border-box;top: 0;bottom: 0;left: 50%;z-index: -1;}#sk-container-id-1 div.sk-parallel-item {display: flex;flex-direction: column;z-index: 1;position: relative;background-color: white;}#sk-container-id-1 div.sk-parallel-item:first-child::after {align-self: flex-end;width: 50%;}#sk-container-id-1 div.sk-parallel-item:last-child::after {align-self: flex-start;width: 50%;}#sk-container-id-1 div.sk-parallel-item:only-child::after {width: 0;}#sk-container-id-1 div.sk-dashed-wrapped {border: 1px dashed gray;margin: 0 0.4em 0.5em 0.4em;box-sizing: border-box;padding-bottom: 0.4em;background-color: white;}#sk-container-id-1 div.sk-label label {font-family: monospace;font-weight: bold;display: inline-block;line-height: 1.2em;}#sk-container-id-1 div.sk-label-container {text-align: center;}#sk-container-id-1 div.sk-container {/* jupyter's `normalize.less` sets `[hidden] { display: none; }` but bootstrap.min.css set `[hidden] { display: none !important; }` so we also need the `!important` here to be able to override the default hidden behavior on the sphinx rendered scikit-learn.org. See: https://github.com/scikit-learn/scikit-learn/issues/21755 */display: inline-block !important;position: relative;}#sk-container-id-1 div.sk-text-repr-fallback {display: none;}</style><div id=\"sk-container-id-1\" class=\"sk-top-container\"><div class=\"sk-text-repr-fallback\"><pre>StandardScaler()</pre><b>In a Jupyter environment, please rerun this cell to show the HTML representation or trust the notebook. <br />On GitHub, the HTML representation is unable to render, please try loading this page with nbviewer.org.</b></div><div class=\"sk-container\" hidden><div class=\"sk-item\"><div class=\"sk-estimator sk-toggleable\"><input class=\"sk-toggleable__control sk-hidden--visually\" id=\"sk-estimator-id-1\" type=\"checkbox\" checked><label for=\"sk-estimator-id-1\" class=\"sk-toggleable__label sk-toggleable__label-arrow\">StandardScaler</label><div class=\"sk-toggleable__content\"><pre>StandardScaler()</pre></div></div></div></div></div>"
      ],
      "text/plain": [
       "StandardScaler()"
      ]
     },
     "execution_count": 7,
     "metadata": {},
     "output_type": "execute_result"
    }
   ],
   "source": [
    "scale.fit(X_train)"
   ]
  },
  {
   "cell_type": "markdown",
   "metadata": {},
   "source": [
    "Apply the StandardScaler to the train and test sets"
   ]
  },
  {
   "cell_type": "code",
   "execution_count": 8,
   "metadata": {},
   "outputs": [],
   "source": [
    "X_train_std = scale.transform(X_train)\n",
    "X_test_std = scale.transform(X_test)"
   ]
  },
  {
   "cell_type": "markdown",
   "metadata": {},
   "source": [
    "Check the values after that"
   ]
  },
  {
   "cell_type": "code",
   "execution_count": 9,
   "metadata": {},
   "outputs": [
    {
     "data": {
      "text/plain": [
       "(array([-0.05809688,  0.9007084 , -0.05940273, -0.08941685, -0.09168696,\n",
       "        -0.09086958, -0.0999199 , -0.10131375, -0.0994877 , -0.10213846,\n",
       "        -0.101395  , -0.0780332 ,  0.27081242,  0.1817839 , -0.05455819,\n",
       "         0.39386915]),\n",
       " 0)"
      ]
     },
     "execution_count": 9,
     "metadata": {},
     "output_type": "execute_result"
    }
   ],
   "source": [
    "X_train_std[1], y_train[1]"
   ]
  },
  {
   "cell_type": "markdown",
   "metadata": {},
   "source": [
    "## The model \n",
    "After providing different layers, from 5 to 3, from 30 to 25 initial layer with 16 parameters out of the 21 initial ones, and the activation functions relu, sigmoid, tanh the following model was considered as the one with the best accuracy, precision,auc, and recall."
   ]
  },
  {
   "cell_type": "code",
   "execution_count": 10,
   "metadata": {},
   "outputs": [
    {
     "name": "stderr",
     "output_type": "stream",
     "text": [
      "2022-07-26 22:21:19.396826: E tensorflow/stream_executor/cuda/cuda_driver.cc:271] failed call to cuInit: CUDA_ERROR_NO_DEVICE: no CUDA-capable device is detected\n"
     ]
    },
    {
     "data": {
      "image/png": "[encoded data removed]",
      "text/plain": [
       "<IPython.core.display.Image object>"
      ]
     },
     "execution_count": 10,
     "metadata": {},
     "output_type": "execute_result"
    }
   ],
   "source": [
    "model = Sequential()\n",
    "\n",
    "model.add(Dense(25, input_dim=16, activation='relu', kernel_regularizer=l2(1e-6),kernel_initializer=\"glorot_normal\"))\n",
    "model.add(Dropout(0.5))\n",
    "model.add(Dense(8, activation='relu',kernel_regularizer=l2(1e-6), kernel_initializer=\"glorot_normal\"))\n",
    "model.add(Dropout(0.5))\n",
    "\n",
    "model.add(Dense(1, activation='sigmoid',kernel_regularizer=l2(1e-6), kernel_initializer=\"glorot_normal\"))\n",
    "\n",
    "plot_model(model, to_file='model_plot.png', show_shapes=True, show_layer_names=True)"
   ]
  },
  {
   "cell_type": "markdown",
   "metadata": {},
   "source": [
    "Since they are unbalanced values, it is common to deal with the Area under the ROC Curve(AUC)\n",
    "\n",
    "this works  using True Positive Rate and False Positive Rate, where they are defined as :\n",
    "\n",
    "- **True Positive Rate (TPR)** is a synonym for recall and is therefore defined as follows:\n",
    "$$\n",
    "T P R=\\frac{T P}{T P+F N}\n",
    "$$\n",
    "- **False Positive Rate (FPR)** is defined as follows:\n",
    "$$\n",
    "F P R=\\frac{F P}{F P+T N}\n",
    "$$\n",
    "\n",
    "metric instead of accuracy, therefore both were selected to train the model with the Adam optimizer. Using binary crossentropy because is a binary classification \n",
    "\n",
    "$$\\operatorname{Loss}=-\\frac{1}{\\begin{array}{c}\n",
    "\\text { output } \\\\\n",
    "\\text { size }\n",
    "\\end{array}} \\sum_{i=1}^{\\substack{\\text { output } \\\\\n",
    "\\text { size }}} y_{i} \\cdot \\log \\hat{y}_{i}+\\left(1-y_{i}\\right) \\cdot \\log \\left(1-\\hat{y}_{i}\\right).\n",
    "$$"
   ]
  },
  {
   "cell_type": "code",
   "execution_count": 11,
   "metadata": {},
   "outputs": [],
   "source": [
    "# Compile model\n",
    "auc = tf.keras.metrics.AUC()\n",
    "model.compile(loss='binary_crossentropy', optimizer=\"Adam\", metrics=['accuracy',auc])"
   ]
  },
  {
   "cell_type": "markdown",
   "metadata": {},
   "source": [
    "Using 100 epochs a batch size of 32, with a validation split of 0.2 of the  train data"
   ]
  },
  {
   "cell_type": "code",
   "execution_count": 12,
   "metadata": {},
   "outputs": [
    {
     "name": "stdout",
     "output_type": "stream",
     "text": [
      "Epoch 1/100\n",
      "505/505 [==============================] - 1s 1ms/step - loss: 0.6919 - accuracy: 0.6124 - auc: 0.5360 - val_loss: 0.8783 - val_accuracy: 0.1009 - val_auc: 0.0000e+00\n",
      "Epoch 2/100\n",
      "505/505 [==============================] - 0s 867us/step - loss: 0.6591 - accuracy: 0.6317 - auc: 0.5755 - val_loss: 0.8877 - val_accuracy: 0.0955 - val_auc: 0.0000e+00\n",
      "Epoch 3/100\n",
      "505/505 [==============================] - 0s 811us/step - loss: 0.6516 - accuracy: 0.6308 - auc: 0.5905 - val_loss: 0.9018 - val_accuracy: 0.1022 - val_auc: 0.0000e+00\n",
      "Epoch 4/100\n",
      "505/505 [==============================] - 0s 799us/step - loss: 0.6470 - accuracy: 0.6327 - auc: 0.6130 - val_loss: 0.9335 - val_accuracy: 0.1039 - val_auc: 0.0000e+00\n",
      "Epoch 5/100\n",
      "505/505 [==============================] - 0s 801us/step - loss: 0.6457 - accuracy: 0.6353 - auc: 0.6178 - val_loss: 0.9209 - val_accuracy: 0.1084 - val_auc: 0.0000e+00\n",
      "Epoch 6/100\n",
      "505/505 [==============================] - 0s 763us/step - loss: 0.6366 - accuracy: 0.6386 - auc: 0.6353 - val_loss: 0.9070 - val_accuracy: 0.1589 - val_auc: 0.0000e+00\n",
      "Epoch 7/100\n",
      "505/505 [==============================] - 0s 727us/step - loss: 0.6352 - accuracy: 0.6391 - auc: 0.6432 - val_loss: 0.9160 - val_accuracy: 0.1575 - val_auc: 0.0000e+00\n",
      "Epoch 8/100\n",
      "505/505 [==============================] - 0s 796us/step - loss: 0.6325 - accuracy: 0.6457 - auc: 0.6533 - val_loss: 0.9010 - val_accuracy: 0.1800 - val_auc: 0.0000e+00\n",
      "Epoch 9/100\n",
      "505/505 [==============================] - 0s 891us/step - loss: 0.6303 - accuracy: 0.6486 - auc: 0.6643 - val_loss: 0.8253 - val_accuracy: 0.2232 - val_auc: 0.0000e+00\n",
      "Epoch 10/100\n",
      "505/505 [==============================] - 0s 829us/step - loss: 0.6236 - accuracy: 0.6520 - auc: 0.6747 - val_loss: 0.8584 - val_accuracy: 0.2249 - val_auc: 0.0000e+00\n",
      "Epoch 11/100\n",
      "505/505 [==============================] - 0s 838us/step - loss: 0.6162 - accuracy: 0.6551 - auc: 0.6837 - val_loss: 0.8741 - val_accuracy: 0.2361 - val_auc: 0.0000e+00\n",
      "Epoch 12/100\n",
      "505/505 [==============================] - 0s 881us/step - loss: 0.6103 - accuracy: 0.6588 - auc: 0.6921 - val_loss: 0.8546 - val_accuracy: 0.2628 - val_auc: 0.0000e+00\n",
      "Epoch 13/100\n",
      "505/505 [==============================] - 0s 833us/step - loss: 0.6044 - accuracy: 0.6664 - auc: 0.7032 - val_loss: 0.8413 - val_accuracy: 0.3360 - val_auc: 0.0000e+00\n",
      "Epoch 14/100\n",
      "505/505 [==============================] - 0s 823us/step - loss: 0.5955 - accuracy: 0.6700 - auc: 0.7169 - val_loss: 0.7863 - val_accuracy: 0.4076 - val_auc: 0.0000e+00\n",
      "Epoch 15/100\n",
      "505/505 [==============================] - 0s 748us/step - loss: 0.5927 - accuracy: 0.6792 - auc: 0.7277 - val_loss: 0.8379 - val_accuracy: 0.3509 - val_auc: 0.0000e+00\n",
      "Epoch 16/100\n",
      "505/505 [==============================] - 0s 837us/step - loss: 0.5940 - accuracy: 0.6820 - auc: 0.7372 - val_loss: 0.7819 - val_accuracy: 0.3873 - val_auc: 0.0000e+00\n",
      "Epoch 17/100\n",
      "505/505 [==============================] - 0s 825us/step - loss: 0.5775 - accuracy: 0.6898 - auc: 0.7448 - val_loss: 0.7299 - val_accuracy: 0.4724 - val_auc: 0.0000e+00\n",
      "Epoch 18/100\n",
      "505/505 [==============================] - 0s 771us/step - loss: 0.5729 - accuracy: 0.6981 - auc: 0.7588 - val_loss: 0.7222 - val_accuracy: 0.4957 - val_auc: 0.0000e+00\n",
      "Epoch 19/100\n",
      "505/505 [==============================] - 0s 877us/step - loss: 0.5666 - accuracy: 0.7026 - auc: 0.7650 - val_loss: 0.7878 - val_accuracy: 0.4255 - val_auc: 0.0000e+00\n",
      "Epoch 20/100\n",
      "505/505 [==============================] - 0s 806us/step - loss: 0.5566 - accuracy: 0.7166 - auc: 0.7749 - val_loss: 0.7758 - val_accuracy: 0.4533 - val_auc: 0.0000e+00\n",
      "Epoch 21/100\n",
      "505/505 [==============================] - 0s 795us/step - loss: 0.5555 - accuracy: 0.7151 - auc: 0.7773 - val_loss: 0.6697 - val_accuracy: 0.6229 - val_auc: 0.0000e+00\n",
      "Epoch 22/100\n",
      "505/505 [==============================] - 0s 819us/step - loss: 0.5482 - accuracy: 0.7171 - auc: 0.7844 - val_loss: 0.8313 - val_accuracy: 0.4131 - val_auc: 0.0000e+00\n",
      "Epoch 23/100\n",
      "505/505 [==============================] - 0s 846us/step - loss: 0.5461 - accuracy: 0.7226 - auc: 0.7897 - val_loss: 0.6877 - val_accuracy: 0.5762 - val_auc: 0.0000e+00\n",
      "Epoch 24/100\n",
      "505/505 [==============================] - 0s 872us/step - loss: 0.5440 - accuracy: 0.7319 - auc: 0.7974 - val_loss: 0.7366 - val_accuracy: 0.5462 - val_auc: 0.0000e+00\n",
      "Epoch 25/100\n",
      "505/505 [==============================] - 0s 836us/step - loss: 0.5270 - accuracy: 0.7342 - auc: 0.8037 - val_loss: 0.7098 - val_accuracy: 0.5671 - val_auc: 0.0000e+00\n",
      "Epoch 26/100\n",
      "505/505 [==============================] - 0s 877us/step - loss: 0.5233 - accuracy: 0.7389 - auc: 0.8096 - val_loss: 0.6805 - val_accuracy: 0.6070 - val_auc: 0.0000e+00\n",
      "Epoch 27/100\n",
      "505/505 [==============================] - 0s 822us/step - loss: 0.5249 - accuracy: 0.7354 - auc: 0.8094 - val_loss: 0.6272 - val_accuracy: 0.6913 - val_auc: 0.0000e+00\n",
      "Epoch 28/100\n",
      "505/505 [==============================] - 0s 838us/step - loss: 0.5175 - accuracy: 0.7442 - auc: 0.8151 - val_loss: 0.6182 - val_accuracy: 0.6943 - val_auc: 0.0000e+00\n",
      "Epoch 29/100\n",
      "505/505 [==============================] - 0s 810us/step - loss: 0.5199 - accuracy: 0.7484 - auc: 0.8147 - val_loss: 0.6982 - val_accuracy: 0.6224 - val_auc: 0.0000e+00\n",
      "Epoch 30/100\n",
      "505/505 [==============================] - 0s 854us/step - loss: 0.5055 - accuracy: 0.7520 - auc: 0.8234 - val_loss: 0.6609 - val_accuracy: 0.6658 - val_auc: 0.0000e+00\n",
      "Epoch 31/100\n",
      "505/505 [==============================] - 0s 896us/step - loss: 0.5126 - accuracy: 0.7574 - auc: 0.8260 - val_loss: 0.5877 - val_accuracy: 0.7498 - val_auc: 0.0000e+00\n",
      "Epoch 32/100\n",
      "505/505 [==============================] - 0s 834us/step - loss: 0.5159 - accuracy: 0.7500 - auc: 0.8212 - val_loss: 0.6540 - val_accuracy: 0.6633 - val_auc: 0.0000e+00\n",
      "Epoch 33/100\n",
      "505/505 [==============================] - 0s 822us/step - loss: 0.5146 - accuracy: 0.7597 - auc: 0.8245 - val_loss: 0.6258 - val_accuracy: 0.6970 - val_auc: 0.0000e+00\n",
      "Epoch 34/100\n",
      "505/505 [==============================] - 0s 786us/step - loss: 0.5018 - accuracy: 0.7583 - auc: 0.8291 - val_loss: 0.5676 - val_accuracy: 0.7592 - val_auc: 0.0000e+00\n",
      "Epoch 35/100\n",
      "505/505 [==============================] - 0s 854us/step - loss: 0.5068 - accuracy: 0.7633 - auc: 0.8322 - val_loss: 0.6112 - val_accuracy: 0.7124 - val_auc: 0.0000e+00\n",
      "Epoch 36/100\n",
      "505/505 [==============================] - 0s 849us/step - loss: 0.4973 - accuracy: 0.7670 - auc: 0.8343 - val_loss: 0.5992 - val_accuracy: 0.7379 - val_auc: 0.0000e+00\n",
      "Epoch 37/100\n",
      "505/505 [==============================] - 0s 865us/step - loss: 0.4976 - accuracy: 0.7640 - auc: 0.8333 - val_loss: 0.5935 - val_accuracy: 0.7382 - val_auc: 0.0000e+00\n",
      "Epoch 38/100\n",
      "505/505 [==============================] - 0s 849us/step - loss: 0.4921 - accuracy: 0.7668 - auc: 0.8357 - val_loss: 0.7549 - val_accuracy: 0.5502 - val_auc: 0.0000e+00\n",
      "Epoch 39/100\n",
      "505/505 [==============================] - 0s 790us/step - loss: 0.4943 - accuracy: 0.7690 - auc: 0.8379 - val_loss: 0.5681 - val_accuracy: 0.7853 - val_auc: 0.0000e+00\n",
      "Epoch 40/100\n",
      "505/505 [==============================] - 0s 872us/step - loss: 0.5006 - accuracy: 0.7686 - auc: 0.8369 - val_loss: 0.5032 - val_accuracy: 0.8475 - val_auc: 0.0000e+00\n",
      "Epoch 41/100\n",
      "505/505 [==============================] - 0s 815us/step - loss: 0.4919 - accuracy: 0.7693 - auc: 0.8389 - val_loss: 0.6368 - val_accuracy: 0.6930 - val_auc: 0.0000e+00\n",
      "Epoch 42/100\n",
      "505/505 [==============================] - 0s 835us/step - loss: 0.4937 - accuracy: 0.7725 - auc: 0.8404 - val_loss: 0.7368 - val_accuracy: 0.5889 - val_auc: 0.0000e+00\n",
      "Epoch 43/100\n",
      "505/505 [==============================] - 0s 787us/step - loss: 0.4881 - accuracy: 0.7715 - auc: 0.8418 - val_loss: 0.6414 - val_accuracy: 0.6881 - val_auc: 0.0000e+00\n",
      "Epoch 44/100\n",
      "505/505 [==============================] - 0s 738us/step - loss: 0.4950 - accuracy: 0.7737 - auc: 0.8420 - val_loss: 0.5943 - val_accuracy: 0.7208 - val_auc: 0.0000e+00\n",
      "Epoch 45/100\n",
      "505/505 [==============================] - 0s 868us/step - loss: 0.4918 - accuracy: 0.7724 - auc: 0.8434 - val_loss: 0.6495 - val_accuracy: 0.6732 - val_auc: 0.0000e+00\n",
      "Epoch 46/100\n"
     ]
    },
    {
     "name": "stdout",
     "output_type": "stream",
     "text": [
      "505/505 [==============================] - 0s 840us/step - loss: 0.4958 - accuracy: 0.7736 - auc: 0.8388 - val_loss: 0.5870 - val_accuracy: 0.7347 - val_auc: 0.0000e+00\n",
      "Epoch 47/100\n",
      "505/505 [==============================] - 0s 875us/step - loss: 0.4902 - accuracy: 0.7706 - auc: 0.8400 - val_loss: 0.6352 - val_accuracy: 0.6861 - val_auc: 0.0000e+00\n",
      "Epoch 48/100\n",
      "505/505 [==============================] - 0s 828us/step - loss: 0.4825 - accuracy: 0.7768 - auc: 0.8447 - val_loss: 0.7777 - val_accuracy: 0.5715 - val_auc: 0.0000e+00\n",
      "Epoch 49/100\n",
      "505/505 [==============================] - 0s 837us/step - loss: 0.4880 - accuracy: 0.7709 - auc: 0.8431 - val_loss: 0.5927 - val_accuracy: 0.7458 - val_auc: 0.0000e+00\n",
      "Epoch 50/100\n",
      "505/505 [==============================] - 0s 803us/step - loss: 0.4906 - accuracy: 0.7757 - auc: 0.8408 - val_loss: 0.6759 - val_accuracy: 0.6539 - val_auc: 0.0000e+00\n",
      "Epoch 51/100\n",
      "505/505 [==============================] - 0s 847us/step - loss: 0.4868 - accuracy: 0.7815 - auc: 0.8461 - val_loss: 0.5484 - val_accuracy: 0.7882 - val_auc: 0.0000e+00\n",
      "Epoch 52/100\n",
      "505/505 [==============================] - 0s 873us/step - loss: 0.4852 - accuracy: 0.7754 - auc: 0.8435 - val_loss: 0.5275 - val_accuracy: 0.8220 - val_auc: 0.0000e+00\n",
      "Epoch 53/100\n",
      "505/505 [==============================] - 0s 893us/step - loss: 0.4794 - accuracy: 0.7766 - auc: 0.8454 - val_loss: 0.6832 - val_accuracy: 0.6566 - val_auc: 0.0000e+00\n",
      "Epoch 54/100\n",
      "505/505 [==============================] - 0s 816us/step - loss: 0.4796 - accuracy: 0.7789 - auc: 0.8466 - val_loss: 0.6179 - val_accuracy: 0.7109 - val_auc: 0.0000e+00\n",
      "Epoch 55/100\n",
      "505/505 [==============================] - 0s 820us/step - loss: 0.4935 - accuracy: 0.7809 - auc: 0.8469 - val_loss: 0.5937 - val_accuracy: 0.7392 - val_auc: 0.0000e+00\n",
      "Epoch 56/100\n",
      "505/505 [==============================] - 0s 789us/step - loss: 0.4759 - accuracy: 0.7791 - auc: 0.8475 - val_loss: 0.4764 - val_accuracy: 0.8510 - val_auc: 0.0000e+00\n",
      "Epoch 57/100\n",
      "505/505 [==============================] - 0s 860us/step - loss: 0.4798 - accuracy: 0.7747 - auc: 0.8440 - val_loss: 0.5888 - val_accuracy: 0.7297 - val_auc: 0.0000e+00\n",
      "Epoch 58/100\n",
      "505/505 [==============================] - 0s 768us/step - loss: 0.4831 - accuracy: 0.7817 - auc: 0.8478 - val_loss: 0.5824 - val_accuracy: 0.7342 - val_auc: 0.0000e+00\n",
      "Epoch 59/100\n",
      "505/505 [==============================] - 0s 795us/step - loss: 0.4680 - accuracy: 0.7813 - auc: 0.8521 - val_loss: 0.4844 - val_accuracy: 0.8468 - val_auc: 0.0000e+00\n",
      "Epoch 60/100\n",
      "505/505 [==============================] - 0s 886us/step - loss: 0.4792 - accuracy: 0.7786 - auc: 0.8470 - val_loss: 0.5883 - val_accuracy: 0.7585 - val_auc: 0.0000e+00\n",
      "Epoch 61/100\n",
      "505/505 [==============================] - 0s 778us/step - loss: 0.4983 - accuracy: 0.7777 - auc: 0.8426 - val_loss: 0.5907 - val_accuracy: 0.7424 - val_auc: 0.0000e+00\n",
      "Epoch 62/100\n",
      "505/505 [==============================] - 0s 921us/step - loss: 0.4779 - accuracy: 0.7788 - auc: 0.8480 - val_loss: 0.6015 - val_accuracy: 0.7188 - val_auc: 0.0000e+00\n",
      "Epoch 63/100\n",
      "505/505 [==============================] - 0s 755us/step - loss: 0.4800 - accuracy: 0.7811 - auc: 0.8506 - val_loss: 0.5652 - val_accuracy: 0.7736 - val_auc: 0.0000e+00\n",
      "Epoch 64/100\n",
      "505/505 [==============================] - 0s 739us/step - loss: 0.4794 - accuracy: 0.7799 - auc: 0.8484 - val_loss: 0.6192 - val_accuracy: 0.7156 - val_auc: 0.0000e+00\n",
      "Epoch 65/100\n",
      "505/505 [==============================] - 0s 861us/step - loss: 0.4642 - accuracy: 0.7860 - auc: 0.8552 - val_loss: 0.7117 - val_accuracy: 0.6050 - val_auc: 0.0000e+00\n",
      "Epoch 66/100\n",
      "505/505 [==============================] - 0s 857us/step - loss: 0.4725 - accuracy: 0.7853 - auc: 0.8521 - val_loss: 0.5953 - val_accuracy: 0.7540 - val_auc: 0.0000e+00\n",
      "Epoch 67/100\n",
      "505/505 [==============================] - 0s 850us/step - loss: 0.4763 - accuracy: 0.7801 - auc: 0.8499 - val_loss: 0.6139 - val_accuracy: 0.7141 - val_auc: 0.0000e+00\n",
      "Epoch 68/100\n",
      "505/505 [==============================] - 0s 820us/step - loss: 0.4679 - accuracy: 0.7805 - auc: 0.8514 - val_loss: 0.5585 - val_accuracy: 0.7677 - val_auc: 0.0000e+00\n",
      "Epoch 69/100\n",
      "505/505 [==============================] - 0s 832us/step - loss: 0.4684 - accuracy: 0.7852 - auc: 0.8536 - val_loss: 0.5196 - val_accuracy: 0.8225 - val_auc: 0.0000e+00\n",
      "Epoch 70/100\n",
      "505/505 [==============================] - 0s 851us/step - loss: 0.4639 - accuracy: 0.7876 - auc: 0.8591 - val_loss: 0.5331 - val_accuracy: 0.7900 - val_auc: 0.0000e+00\n",
      "Epoch 71/100\n",
      "505/505 [==============================] - 0s 848us/step - loss: 0.4710 - accuracy: 0.7915 - auc: 0.8578 - val_loss: 0.6381 - val_accuracy: 0.6987 - val_auc: 0.0000e+00\n",
      "Epoch 72/100\n",
      "505/505 [==============================] - 0s 790us/step - loss: 0.4633 - accuracy: 0.7893 - auc: 0.8589 - val_loss: 0.6863 - val_accuracy: 0.6301 - val_auc: 0.0000e+00\n",
      "Epoch 73/100\n",
      "505/505 [==============================] - 0s 834us/step - loss: 0.4720 - accuracy: 0.7832 - auc: 0.8526 - val_loss: 0.5496 - val_accuracy: 0.7699 - val_auc: 0.0000e+00\n",
      "Epoch 74/100\n",
      "505/505 [==============================] - 0s 782us/step - loss: 0.4746 - accuracy: 0.7836 - auc: 0.8523 - val_loss: 0.5422 - val_accuracy: 0.8068 - val_auc: 0.0000e+00\n",
      "Epoch 75/100\n",
      "505/505 [==============================] - 0s 779us/step - loss: 0.4640 - accuracy: 0.7915 - auc: 0.8579 - val_loss: 0.6497 - val_accuracy: 0.6345 - val_auc: 0.0000e+00\n",
      "Epoch 76/100\n",
      "505/505 [==============================] - 0s 788us/step - loss: 0.4684 - accuracy: 0.7902 - auc: 0.8566 - val_loss: 0.5474 - val_accuracy: 0.7625 - val_auc: 0.0000e+00\n",
      "Epoch 77/100\n",
      "505/505 [==============================] - 0s 870us/step - loss: 0.4666 - accuracy: 0.7907 - auc: 0.8586 - val_loss: 0.5374 - val_accuracy: 0.7684 - val_auc: 0.0000e+00\n",
      "Epoch 78/100\n",
      "505/505 [==============================] - 0s 744us/step - loss: 0.4686 - accuracy: 0.7836 - auc: 0.8539 - val_loss: 0.8293 - val_accuracy: 0.5802 - val_auc: 0.0000e+00\n",
      "Epoch 79/100\n",
      "505/505 [==============================] - 0s 744us/step - loss: 0.4613 - accuracy: 0.7923 - auc: 0.8589 - val_loss: 0.5516 - val_accuracy: 0.7642 - val_auc: 0.0000e+00\n",
      "Epoch 80/100\n",
      "505/505 [==============================] - 0s 785us/step - loss: 0.4730 - accuracy: 0.7889 - auc: 0.8535 - val_loss: 0.5186 - val_accuracy: 0.8175 - val_auc: 0.0000e+00\n",
      "Epoch 81/100\n",
      "505/505 [==============================] - 0s 828us/step - loss: 0.4671 - accuracy: 0.7859 - auc: 0.8560 - val_loss: 0.6123 - val_accuracy: 0.7389 - val_auc: 0.0000e+00\n",
      "Epoch 82/100\n",
      "505/505 [==============================] - 1s 991us/step - loss: 0.4652 - accuracy: 0.7907 - auc: 0.8577 - val_loss: 0.6431 - val_accuracy: 0.6648 - val_auc: 0.0000e+00\n",
      "Epoch 83/100\n",
      "505/505 [==============================] - 0s 834us/step - loss: 0.4948 - accuracy: 0.7720 - auc: 0.8370 - val_loss: 0.8067 - val_accuracy: 0.6097 - val_auc: 0.0000e+00\n",
      "Epoch 84/100\n",
      "505/505 [==============================] - 0s 832us/step - loss: 0.4730 - accuracy: 0.7853 - auc: 0.8524 - val_loss: 0.6278 - val_accuracy: 0.7146 - val_auc: 0.0000e+00\n",
      "Epoch 85/100\n",
      "505/505 [==============================] - 0s 856us/step - loss: 0.4739 - accuracy: 0.7817 - auc: 0.8512 - val_loss: 0.6225 - val_accuracy: 0.7079 - val_auc: 0.0000e+00\n",
      "Epoch 86/100\n",
      "505/505 [==============================] - 0s 787us/step - loss: 0.4724 - accuracy: 0.7860 - auc: 0.8503 - val_loss: 0.5613 - val_accuracy: 0.7687 - val_auc: 0.0000e+00\n",
      "Epoch 87/100\n",
      "505/505 [==============================] - 0s 767us/step - loss: 0.4658 - accuracy: 0.7837 - auc: 0.8537 - val_loss: 0.5207 - val_accuracy: 0.7887 - val_auc: 0.0000e+00\n",
      "Epoch 88/100\n",
      "505/505 [==============================] - 0s 808us/step - loss: 0.4671 - accuracy: 0.7813 - auc: 0.8522 - val_loss: 0.5451 - val_accuracy: 0.7674 - val_auc: 0.0000e+00\n",
      "Epoch 89/100\n",
      "505/505 [==============================] - 0s 795us/step - loss: 0.4709 - accuracy: 0.7856 - auc: 0.8567 - val_loss: 0.5303 - val_accuracy: 0.7751 - val_auc: 0.0000e+00\n",
      "Epoch 90/100\n",
      "505/505 [==============================] - 0s 701us/step - loss: 0.4676 - accuracy: 0.7892 - auc: 0.8552 - val_loss: 0.5618 - val_accuracy: 0.7808 - val_auc: 0.0000e+00\n",
      "Epoch 91/100\n"
     ]
    },
    {
     "name": "stdout",
     "output_type": "stream",
     "text": [
      "505/505 [==============================] - 0s 716us/step - loss: 0.4660 - accuracy: 0.7850 - auc: 0.8545 - val_loss: 0.5579 - val_accuracy: 0.7746 - val_auc: 0.0000e+00\n",
      "Epoch 92/100\n",
      "505/505 [==============================] - 0s 711us/step - loss: 0.4705 - accuracy: 0.7872 - auc: 0.8564 - val_loss: 0.5179 - val_accuracy: 0.7887 - val_auc: 0.0000e+00\n",
      "Epoch 93/100\n",
      "505/505 [==============================] - 0s 852us/step - loss: 0.4652 - accuracy: 0.7914 - auc: 0.8582 - val_loss: 0.5330 - val_accuracy: 0.7823 - val_auc: 0.0000e+00\n",
      "Epoch 94/100\n",
      "505/505 [==============================] - 0s 782us/step - loss: 0.4692 - accuracy: 0.7841 - auc: 0.8530 - val_loss: 0.5545 - val_accuracy: 0.7744 - val_auc: 0.0000e+00\n",
      "Epoch 95/100\n",
      "505/505 [==============================] - 0s 711us/step - loss: 0.4672 - accuracy: 0.7820 - auc: 0.8538 - val_loss: 0.4830 - val_accuracy: 0.8492 - val_auc: 0.0000e+00\n",
      "Epoch 96/100\n",
      "505/505 [==============================] - 0s 724us/step - loss: 0.4735 - accuracy: 0.7774 - auc: 0.8496 - val_loss: 0.6012 - val_accuracy: 0.7339 - val_auc: 0.0000e+00\n",
      "Epoch 97/100\n",
      "505/505 [==============================] - 0s 816us/step - loss: 0.4694 - accuracy: 0.7823 - auc: 0.8535 - val_loss: 0.4707 - val_accuracy: 0.8579 - val_auc: 0.0000e+00\n",
      "Epoch 98/100\n",
      "505/505 [==============================] - 0s 850us/step - loss: 0.4689 - accuracy: 0.7853 - auc: 0.8558 - val_loss: 0.5806 - val_accuracy: 0.7389 - val_auc: 0.0000e+00\n",
      "Epoch 99/100\n",
      "505/505 [==============================] - 0s 947us/step - loss: 0.4600 - accuracy: 0.7893 - auc: 0.8577 - val_loss: 0.4846 - val_accuracy: 0.8220 - val_auc: 0.0000e+00\n",
      "Epoch 100/100\n",
      "505/505 [==============================] - 0s 789us/step - loss: 0.4750 - accuracy: 0.7871 - auc: 0.8546 - val_loss: 0.5086 - val_accuracy: 0.7887 - val_auc: 0.0000e+00\n"
     ]
    }
   ],
   "source": [
    "model_history = model.fit(X_train_std, y_train, epochs=100,\n",
    "                                        batch_size=32, \n",
    "                                        validation_split=0.2, shuffle=True)"
   ]
  },
  {
   "cell_type": "markdown",
   "metadata": {},
   "source": [
    "## Predictions\n",
    "\n",
    "After that we used the predictions  of the  train and test set"
   ]
  },
  {
   "cell_type": "code",
   "execution_count": 13,
   "metadata": {},
   "outputs": [],
   "source": [
    "train_pred = model.predict(X_train_std)\n",
    "test_pred = model.predict(X_test_std)"
   ]
  },
  {
   "cell_type": "markdown",
   "metadata": {},
   "source": [
    "to convert the predict values into the classes was designed an condition that looks as "
   ]
  },
  {
   "cell_type": "code",
   "execution_count": 14,
   "metadata": {},
   "outputs": [],
   "source": [
    "y_train_pred = (model.predict(X_train_std) > 0.5).astype(\"int32\")\n",
    "y_test_pred = (model.predict(X_test_std) > 0.5).astype(\"int32\")"
   ]
  },
  {
   "cell_type": "markdown",
   "metadata": {},
   "source": [
    "### Getting evaluation metrics and evaluating model performance\n",
    "\n",
    "Using different metrics as \n",
    "\n",
    "- accuracy\n",
    "- precision\n",
    "- recall\n",
    "- f1 score\n",
    "- cohen_kappa\n",
    "- roc_auc\n",
    "\n",
    "\n",
    "The results of the train are important to check the F1 score and ROC AUC, they are \n",
    "\n",
    "- F1 score: 0.829091\n",
    "- ROC AUC: 0.836898\n",
    "\n",
    "that are good for a imbalance data set, where the goal is 1 for both"
   ]
  },
  {
   "cell_type": "code",
   "execution_count": 15,
   "metadata": {},
   "outputs": [
    {
     "name": "stdout",
     "output_type": "stream",
     "text": [
      "Accuracy: 0.836491\n",
      "Precision: 0.876192\n",
      "Recall: 0.786797\n",
      "F1 score: 0.829091\n",
      "Cohens kappa: 0.673233\n",
      "ROC AUC: 0.836898\n",
      "[[8870 1130]\n",
      " [2167 7997]]\n"
     ]
    },
    {
     "data": {
      "image/png": "[encoded data removed]",
      "text/plain": [
       "<Figure size 432x288 with 2 Axes>"
      ]
     },
     "metadata": {
      "needs_background": "light"
     },
     "output_type": "display_data"
    }
   ],
   "source": [
    "accuracy = accuracy_score(y_train, y_train_pred)\n",
    "print('Accuracy: %f' % accuracy)\n",
    "# precision tp / (tp + fp)\n",
    "precision = precision_score(y_train, y_train_pred)\n",
    "print('Precision: %f' % precision)\n",
    "# recall: tp / (tp + fn)\n",
    "recall = recall_score(y_train, y_train_pred)\n",
    "print('Recall: %f' % recall)\n",
    "# f1: 2 tp / (2 tp + fp + fn)\n",
    "f1 = f1_score(y_train, y_train_pred)\n",
    "print('F1 score: %f' % f1)\n",
    " \n",
    "# kappa\n",
    "kappa = cohen_kappa_score(y_train, y_train_pred)\n",
    "print('Cohens kappa: %f' % kappa)\n",
    "# ROC AUC\n",
    "auc = roc_auc_score(y_train, y_train_pred)\n",
    "print('ROC AUC: %f' % auc)\n",
    "# confusion matrix\n",
    "train_matrix = confusion_matrix(y_train, y_train_pred)\n",
    "print(train_matrix)\n",
    "ax = sns.heatmap(train_matrix, annot=True, cmap='Blues', fmt='g')\n",
    "\n",
    "ax.set_title('Seaborn Confusion Matrix with labels\\n\\n');\n",
    "ax.set_xlabel('\\nPredicted Values')\n",
    "ax.set_ylabel('Actual Values ');\n",
    "\n",
    "ax.xaxis.set_ticklabels(['0','1'])\n",
    "ax.yaxis.set_ticklabels(['0','1'])\n",
    "\n",
    "## Display the visualization of the Confusion Matrix.\n",
    "plt.show()"
   ]
  },
  {
   "cell_type": "markdown",
   "metadata": {},
   "source": [
    "The results of the test are important to check the F1 score and ROC AUC, they are \n",
    "\n",
    "- F1 score: 0.681327\n",
    "- ROC AUC: 0.833400\n",
    "\n",
    "that are good for a imbalance data set, where the goal is 1 for both"
   ]
  },
  {
   "cell_type": "code",
   "execution_count": 16,
   "metadata": {},
   "outputs": [
    {
     "name": "stdout",
     "output_type": "stream",
     "text": [
      "Accuracy: 0.865887\n",
      "Precision: 0.603554\n",
      "Recall: 0.782108\n",
      "F1 score: 0.681327\n",
      "Cohens kappa: 0.598178\n",
      "ROC AUC: 0.833400\n",
      "[[4450  580]\n",
      " [ 246  883]]\n"
     ]
    },
    {
     "data": {
      "image/png": "[encoded data removed]",
      "text/plain": [
       "<Figure size 432x288 with 2 Axes>"
      ]
     },
     "metadata": {
      "needs_background": "light"
     },
     "output_type": "display_data"
    }
   ],
   "source": [
    "accuracy = accuracy_score(y_test, y_test_pred)\n",
    "print('Accuracy: %f' % accuracy)\n",
    "# precision tp / (tp + fp)\n",
    "precision = precision_score(y_test, y_test_pred)\n",
    "print('Precision: %f' % precision)\n",
    "# recall: tp / (tp + fn)\n",
    "recall = recall_score(y_test, y_test_pred)\n",
    "print('Recall: %f' % recall)\n",
    "# f1: 2 tp / (2 tp + fp + fn)\n",
    "f1 = f1_score(y_test, y_test_pred)\n",
    "print('F1 score: %f' % f1)\n",
    " \n",
    "# kappa\n",
    "kappa = cohen_kappa_score(y_test, y_test_pred)\n",
    "print('Cohens kappa: %f' % kappa)\n",
    "# ROC AUC\n",
    "auc = roc_auc_score(y_test, y_test_pred)\n",
    "print('ROC AUC: %f' % auc)\n",
    "# confusion matrix\n",
    "test_matrix = confusion_matrix(y_test, y_test_pred)\n",
    "print(test_matrix)\n",
    "ax = sns.heatmap(test_matrix, annot=True, cmap='Blues', fmt='g')\n",
    "\n",
    "ax.set_title('Seaborn Confusion Matrix with labels\\n\\n');\n",
    "ax.set_xlabel('\\nPredicted Values')\n",
    "ax.set_ylabel('Actual Values ');\n",
    "\n",
    "ax.xaxis.set_ticklabels(['0','1'])\n",
    "ax.yaxis.set_ticklabels(['0','1'])\n",
    "\n",
    "## Display the visualization of the Confusion Matrix.\n",
    "plt.show()"
   ]
  }
 ],
 "metadata": {
  "kernelspec": {
   "display_name": "Python 3 (ipykernel)",
   "language": "python",
   "name": "python3"
  },
  "language_info": {
   "codemirror_mode": {
    "name": "ipython",
    "version": 3
   },
   "file_extension": ".py",
   "mimetype": "text/x-python",
   "name": "python",
   "nbconvert_exporter": "python",
   "pygments_lexer": "ipython3",
   "version": "3.8.8"
  },
  "toc": {
   "base_numbering": 1,
   "nav_menu": {},
   "number_sections": true,
   "sideBar": true,
   "skip_h1_title": false,
   "title_cell": "Table of Contents",
   "title_sidebar": "Contents",
   "toc_cell": false,
   "toc_position": {},
   "toc_section_display": true,
   "toc_window_display": false
  },
  "varInspector": {
   "cols": {
    "lenName": 16,
    "lenType": 16,
    "lenVar": 40
   },
   "kernels_config": {
    "python": {
     "delete_cmd_postfix": "",
     "delete_cmd_prefix": "del ",
     "library": "var_list.py",
     "varRefreshCmd": "print(var_dic_list())"
    },
    "r": {
     "delete_cmd_postfix": ") ",
     "delete_cmd_prefix": "rm(",
     "library": "var_list.r",
     "varRefreshCmd": "cat(var_dic_list()) "
    }
   },
   "types_to_exclude": [
    "module",
    "function",
    "builtin_function_or_method",
    "instance",
    "_Feature"
   ],
   "window_display": false
  }
 },
 "nbformat": 4,
 "nbformat_minor": 2
}
