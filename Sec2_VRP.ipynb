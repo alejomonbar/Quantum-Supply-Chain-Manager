{
 "cells": [
  {
   "cell_type": "markdown",
   "id": "d5c2ff2a",
   "metadata": {},
   "source": [
    "# Quantum Supply Chain Manager\n",
    "\n",
    "The quantum supply chain manager is a quantum solution for logistics problems. We use the power of quantum machine learning for product [backorder](https://www.investopedia.com/terms/b/backorder.asp) prediction and quantum optimization for finding the best route to pick those products with high demand to store them in strategic warehouses. With the first technique, our clients can be prepared for increasing the production of their products when they are in high demand. Once we have established a set of products needed during a period of time, we use our second solution, the vehicle routing problem (VRP) solution to find the optimal route for picking these products. This reduces considerably costs associated with logistics, transportation, backorders, and overstocking for our clients. In summary, these solutions will improve business in terms of client satisfaction, backorder and shipping transportation costs.\n",
    "\n",
    "<img src=\"./Images/QSCM.png\" width=900>\n",
    "\n",
    "### But, why this is important?\n",
    "\n",
    "Mainly, backorders indicate that the demand for a specific product was not well understood at a certain point in time and needs to be reevaluated. This has a high impact on the customers' loyalty and the company revenue. The solution to this problem must be increasing the production of the products with a high probability of backorder before that happen avoiding overstocking them which may result in high inventory costs. Using quantum neural networks (QNN), we can improve the predictability, the training size, and the number of variables for the backorder predictions.\n",
    "\n",
    "On the other hand, the VRP finds optimal solutions for picking products in terms of costs and time. The benefit of finding an optimal solution can represent a saving of up to 30% of the costs associated with transportation [1]. However, current techniques deal with up to 400 variables in a reasonable time. Soon with a growing e-market, the capabilities of such models will be overcome. In the near future, we will need systems able to solve thousands of variables in small periods of time. \n",
    "\n",
    "### Is this something that we cannot do with classical computation?\n",
    "\n",
    "The short answer is \"depends\", we can rely on the power of classical computation and heuristic methods to solve such a problem at **small scale**. At this moment, classical algorithms have the capacity of working with hundreds of variables to solve the VRP in a couple of minutes with a good quality compared with the best-known solutions (BKS) [2]. This means in small scenarios, this is a viable solution. However, as the e-market is expanding worldwide the requirement will be that of solving thousands of variables with good quality and in a reasonable time. The increment in variables number has a tendency to increase exponentially the time required to solve these problems on classical computers. This is an aspect that quantum computers can overcome, encoding large problems in a reasonable time and solving them much faster with quantum algorithms such as the quantum approximate optimization algorithm (QAOA).\n",
    "\n",
    "We foresee a future where quantum computers will reduce largely the costs associated with storage and transportation at a big scale thanks to the combination of forecasting backorders and route optimization.\n",
    "\n",
    "## Proof of Concept\n",
    "\n",
    "To show the applicability of our concept, we have used real data of some products in the [dataset backorder](https://github.com/akhiilkasare/Back-Order-Prediction-iNeuron). The dataset contains 23 variables including:\n",
    "\n",
    "|     |     |     | | | |\n",
    "| --- | --- | --- | - | - | - |\n",
    "| **sku** Product ID | **national_inv** Current inventory level for the part |**lead_time** Transit time for product | **in_transit_qty** Amount of product in transit from source|**forecast_3_month** Forecast sales for the next 3 months | **forecast_6_month** Forecast sales for the next 6 months|\n",
    "|**forecast_9_month** Forecast sales for the next 9 months|**sales_1_month** Sales quantity for the prior 1 month time period|**sales_3_month** Sales quantity for the prior 3 month time period |**sales_6_month** Sales quantity for the prior 6 month time period |**sales_9_month** Sales quantity for the prior 9 month time period |**min_bank** Minimum recommend amount to stock \n",
    "|**potential_issue** Source issue for part identified |**pieces_past_due** Parts overdue from source |**perf_6_month_avg** Source performance for prior 6 month period |**perf_12_month_avg** Source performance for prior 12 month period |**local_bo_qty** Amount of stock orders overdue|**deck_risk** Part risk flag\n",
    "|**oe_constraint** Part risk flag | **ppap_risk** Part risk flag | **stop_auto_buy** Part risk flag | **rev_stop** Part risk flag| **went_on_backorder** – Product actually went on backorder. <font color='green'>This is the target value</font>.\n",
    "\n",
    "\n",
    "The dataset contains 1687861 products of some companies with a portion of 11293 that went backorder. We take 2000 cases equally distributed between <font color='green'>True</font> and <font color='red'>False</font> backorders from the dataset to do the training of our QNN. Once, we can predict if a product is backorder we select a small dataset of backorder products to make an optimization using the VRP with QAOA and VQE to select the optimal route. The comparison of the VRP results are contrasted with those of [docplex](https://pypi.org/project/docplex/) a classical optimizer. \n",
    "\n",
    "# Outline\n",
    "\n",
    "1. Backorder prediction using a QNN\n",
    "\n",
    "    1.1 Setting the problem\n",
    "    1.2 The Ansatz encoding\n",
    "    1.3 Different ansatz solutions\n",
    "\n",
    "2. Vehicle routing problem solution.\n",
    "\n",
    "    2.1 Setting the problem \n",
    "    2.2 The QUBO representation of the vehicle routing problem \n",
    "    \n",
    "        2.2.1 Classical solution of the QUBO model\n",
    "        2.2.2 Quantum Solution of the QUBO model\n",
    "3. Conclusion and Future Work\n",
    "\n",
    "\n",
    "4. References\n",
    "\n",
    "# 1. Backorder Prediction\n",
    "\n",
    "This is about an order that cannot be fulfilled at a given time because there is not enough inventory or the item is out of stock, but you can guarantee delivery of the product in the future. Unlike the out-of-stock situation, in the backorder situation customers can purchase the items and place the order as they will be guaranteed a delivery in the future, i.e., it is an order with a delayed delivery date.\n",
    "\n",
    "## 1.1 Setting the problem\n",
    "\n",
    "- From the dataset of backorders, we analyze different size data model with a special case with 2000 sampes for training and 6159 for validation. This will simulate a case were a lack of results is presented.\n",
    "\n",
    "- Once the dataset is selected, 3 ansatz architectures for the QNN are analized multiscale entanglement renormalization ansatz (MERA) [3], tree tensor networks TTN [4], and matrix product state (MPS) [5]. \n",
    "\n",
    "- Next, the results of the QNN are compared against a classical neural network.\n",
    "\n",
    "## 1.2 The ansatz encoding\n",
    "\n",
    "For the quantum computing case, the following scheme is generated for each experiment and it has 3 different ansatz based on 3 tensor networks (TN) MERA, TTN, and MPS. With  only 10 variables we designed the amplitud embedding an one layer for each TN. The figure below shows the different ansatz choosed for the prediction of backorder.\n",
    "\n",
    "<img src=\"./Images/tensor.png\" width=800>\n",
    "\n",
    "## 1.3 Different ansatz solutions\n",
    "\n",
    "For the three different ansatzes presented in Sec 1.2, different architectures were tested. For the case of the MERA architecture 5 different architectures were trained, 1 Layer, 2 Layers, 4 Layers, 1 Layer with a standard scaler, and 1 layer with depolarizing noise of 0.2. For the case of MPS and TTN the architectures tested were 1 layer, 2 layers, and 4 layers. The results were compared against a classical neural network with 640 parameters. From all the architectures tested the best result was obtained with MERA and 1 layer. This architecture outperforms the best result with a classical neural network in almost all the different metrics presented in the table below. Most important, MERA 1 layer is able to reduce false positives which can result in overstocking. Another good point is that even with some noise the 1 layer model is able to give good results in terms of prediction as is shown in the confusion matrices shown below.\n",
    "\n",
    "<img src=\"./Images/Results-Ansatz.png\" width=800>\n",
    "\n",
    "\n",
    "\n",
    "# 2. Vehicle routing problem Solution\n",
    "\n",
    "Once we have the solution of the backorders predictions, we select some of them to do an optimization of the best route giving a set of *K* trucks using the Vehicle routing problem (VRP)\n",
    "\n",
    "\n",
    "## 2.1 Setting the problem \n",
    "\n",
    "- We take a subset of 10 companies that were predicted to have backorder of some products. \n",
    "- From the warehouse, where we collect all the products, and each company there is always a connection.\n",
    "- 3 trucks are chosen to collect the products. \n",
    "- Connections between companies are selected if the Euclidian distance is less than a threshold\n",
    "\n",
    "<img src=\"./Images/SettingTheProblem.png\" width=800>\n",
    "\n",
    "## 2.2 The QUBO representation of the vehicle routing problem \n",
    "\n",
    "To encode a problem as the Vehicle Routing Problem on a quantum computer it is needed to represent it as a quadratic unconstrained binary optimization ([QUBO](https://en.wikipedia.org/wiki/Quadratic_unconstrained_binary_optimization)) problem. In the QUBO representation, the cost function has linear and cuadratic terms and the constrains of the objective function are added as penalization to the cost function. The following function. In the Figure below, we are showing the objective function of the VRP:\n",
    "\n",
    "<img src=\"./Images/CostFunc.png\" width=800>\n",
    "\n",
    "The terms of the above equations are:\n",
    "<div class=\"alert alert-block alert-success\">\n",
    "    \n",
    "- C<sub>ij</sub> : We consider the cost associated with a specific route ij as a combination of distance, traffic, and other forecasted terms related to the disadvantages of taking the particular route on a specific day. \n",
    "\n",
    "- K: We find the solution for 3 trucks.\n",
    "</div>\n",
    "\n",
    "### 2.2.1 Classical solution of the QUBO model\n",
    "\n",
    "Using docplex, the python version of the optimization solver **cplex**, we obtain the result of the problem explained above. The Figure below shows the graph representation of the solution, where the edges observed are the connections between companies that minimize the cost function and satisfy all the constraints. This solution will be used in the rest of the notebook as the optimal solution.\n",
    "\n",
    "<img src=\"./Images/OptimalSolution.png\" width=400>\n",
    "\n",
    "### 2.2.2 Quantum Solution of the QUBO model\n",
    "\n",
    "Once we have the quadratic program of our model. We can use the qiskit optimization library to translate it into its QUBO representation. In this case, we have inequality constraints that in most cases need extra variables, known as **slack variables**. For this specific case, the number of variables increases from  68 to 196 to represent the inequality constraints. \n",
    "\n",
    "A further constraint is the number of qubits we can simulate. Unless we have a supercomputer, the best option to simulate programos with more than 20 qubits is using **qasm_simulator** from IBM in **runtime mode**. The maximum number of qubits we can simulate using the qasm_simulator is 32. For the case of real devices, we have a similar problem, we can only run experiments on a 7 qubits device (ibm_oslo, ibm_lagos) to which we have access.\n",
    "\n",
    "Therefore, using the previous solution we can reduce the number of variables choosing the optimal solution for the **slack variables**. For the variables that represent the routes of company i to company j we select the optimal for some of them and leave the quantum computer find the optimal solution for the rest in two cases:\n",
    "\n",
    "1) Using 7 variables and replace the orhers with the optimal solution. From the 7 variables left, 3 have a optimal solution equal to 1 and 4 equal to 0 (testing local machine and ibm_lagos **runtime**).\n",
    "\n",
    "2) Using 15 variables and replace the others with the optimal solution. From the variables left 5 have a optimal solution equal to 1 and 10 equal to 0 (testing qasm_simulator **runtime**).\n",
    "\n",
    "<img src=\"./Images/ProblemSolutions.png\" width=600>\n",
    "\n",
    "#### 7 Qubits Results\n",
    "\n",
    "We tested different models to see the applicability of the current model with ideal solutions using two classical optimizer ([SPSA](https://en.wikipedia.org/wiki/Simultaneous_perturbation_stochastic_approximation) and [COBYLA](https://qiskit.org/documentation/stubs/qiskit.algorithms.optimizers.COBYLA.html#:~:text=COBYLA%20is%20a%20numerical%20optimization,scipy.optimize.minimize%20COBYLA.)) for two quantum algorithms ([QAOA](https://qiskit.org/textbook/ch-applications/qaoa.html) with 2 layer repetitions and [VQE](https://pennylane.ai/qml/demos/tutorial_vqe.html) with ansatz [TwoLocal](https://qiskit.org/documentation/stubs/qiskit.circuit.library.TwoLocal.html), number of shots=1024 for both cases). Additionally, we run our model in *ibm_lagos* using [qiskit runtime](https://quantum-computing.ibm.com/lab/docs/iql/runtime/) with mitigated and unmitigated results with the same settings. The figure below shows the results for the different cases, we see that all the simulations reach the ideal solution shown in the graphs on the left, while the solution for the ibm_oslo and ibm_lagos experiments using COBYLA tries to go to the optimal solution, even though the noise is affecting them (Further experiments are needed to draw conclusion because at this point the max iterations were kept small).\n",
    "\n",
    "<img src=\"./Images/Sol7Qprint2.png\" width=1000>\n",
    "\n",
    "#### 15 Qubits Results\n",
    "\n",
    "For the case of 15 qubits, the solution includes only QAOA (with 3 layers repetitions) and VQE (with [TwoLocal ansatz](https://qiskit.org/documentation/stubs/qiskit.circuit.library.TwoLocal.html)) with the classic optimizer COBYLA. The results were obtained from qiskit runtime and the ideal simulator ibmq_qasm_simulator. As it is shown in the figure below the QAOA algorithm does not reach the solution while VQE can reach the solution. \n",
    "\n",
    "<img src=\"./Images/Sol15Q.png\" width=1000>\n",
    "\n",
    "# 3. Conclusion and Future Work\n",
    "\n",
    "\n",
    "# 3.2 Technical conclusions\n",
    "\n",
    "- The current devices as *ibm_lagos* is still too noisy to get back correct results with real devices for a 7 qubits problem using VQE.\n",
    "\n",
    "- It is important for the QUBO representation to choose a good penalty parameter when converting from a docplex model. The default penalty multiplier (similar to the Lagrange multiplier) for the equality and inequality constraints makes the penalty too large compared with the objective function. Therefore, the solver will lose soon the optimal direction. We have to set the penalty manually with a value of 15.\n",
    "\n",
    "- When planning for the objectives of this project. We wanted to make a simulation of the QAOA with 25 qubits, 3 repetitions, and COBYLA optimizer with max iterations of 100 using ibmq_qasm_simulator. Soon we realized we were overoptimistic. The maximum time we can simulate continuously in runtime mode is  14400 seconds and an iteration using COBYLA, 1 repetition of the QAOA and 20 qubits takes 700 seconds. Therefore, we have technically 20 iterations with that setting. We decided to downgrade our model to work with 15 qubits, 2 repetitions, and 100 max iterations.\n",
    "\n",
    "\n",
    "# 4. References\n",
    "\n",
    "[1] Psaraftis, H.N. (1988). Vehicle Routing: Methods and Studies. 16: 223–248.\n",
    "\n",
    "[2] Tan, S., & Yeh, W. (2021). applied sciences The Vehicle Routing Problem : State-of-the-Art Classification and Review. Applied Sciences, 11.\n",
    "\n",
    "[3] Cong, I., Choi, S., & Lukin, M. D. (2019). Quantum convolutional neural networks. Nature Physics, 15(12), 1273–1278. \n",
    "\n",
    "[4] Cheng, S., Wang, L., Xiang, T., & Zhang, P. (2019). Tree tensor networks for generative modeling. Physical Review B, 99(15), 1–10. https://doi.org/10.1103/PhysRevB.99.155131\n",
    "\n",
    "[5] Ran, S. J. (2020). Encoding of matrix product states into quantum circuits of one- A nd two-qubit gates. Physical Review A, 101(3), 1–7. https://doi.org/10.1103/PhysRevA.101.032310"
   ]
  },
  {
   "cell_type": "markdown",
   "id": "748bd647",
   "metadata": {},
   "source": [
    "#### Required libraries"
   ]
  },
  {
   "cell_type": "code",
   "execution_count": 1,
   "id": "35985a5f",
   "metadata": {},
   "outputs": [],
   "source": [
    "# %pip install qiskit \n",
    "# %pip install docplex\n",
    "# %pip install qiskit_optimization\n",
    "# %pip install networkx\n",
    "# %pip install geopandas\n",
    "# %pip install folium"
   ]
  },
  {
   "cell_type": "code",
   "execution_count": 1,
   "id": "96211d4f",
   "metadata": {},
   "outputs": [],
   "source": [
    "import networkx as nx\n",
    "import geopandas as gpd\n",
    "import folium\n",
    "\n",
    "import numpy as np \n",
    "import pandas as pd\n",
    "import matplotlib.pyplot as plt\n",
    "import itertools\n",
    "import time\n",
    "import random\n",
    "from IPython.display import display\n",
    "\n",
    "from qiskit import IBMQ\n",
    "from qiskit.algorithms import QAOA, VQE\n",
    "from qiskit.circuit.library import TwoLocal\n",
    "from qiskit.algorithms.optimizers import COBYLA, SPSA # Classical simulator\n",
    "from qiskit.providers.aer import AerSimulator\n",
    "\n",
    "from docplex.mp.model import Model\n",
    "from qiskit_optimization.runtime import QAOAClient, VQEClient\n",
    "from qiskit_optimization.converters import QuadraticProgramToQubo \n",
    "from qiskit_optimization.translators import from_docplex_mp\n",
    "from qiskit_optimization.algorithms import CplexOptimizer, MinimumEigenOptimizer"
   ]
  },
  {
   "cell_type": "markdown",
   "id": "39001f93",
   "metadata": {},
   "source": [
    "## Setting the problem \n",
    "\n",
    "- We take a subset of 10 companies that were predicted to have backorder of some products. \n",
    "- From the warehouse, where we collect all the products, and each company there is always a connection.\n",
    "- 3 trucks are chosen to collect the products. \n",
    "- Connections between companies were selected randomly to get an additional of 14 connections. \n",
    "- In terms of quantum computing resources this means 29 qubits because each connection means a qubit.\n"
   ]
  },
  {
   "cell_type": "code",
   "execution_count": 2,
   "id": "3fce7767",
   "metadata": {},
   "outputs": [],
   "source": [
    "path = gpd.datasets.get_path('nybb')\n",
    "df = gpd.read_file(path)"
   ]
  },
  {
   "cell_type": "markdown",
   "id": "388a4fe7",
   "metadata": {},
   "source": [
    "### Visualization on the map of the different companies from where we will be collecting the products"
   ]
  },
  {
   "cell_type": "code",
   "execution_count": 3,
   "id": "f934ae81",
   "metadata": {},
   "outputs": [
    {
     "data": {
      "text/html": [
       "<div style=\"width:100%;\"><div style=\"position:relative;width:100%;height:0;padding-bottom:60%;\"><span style=\"color:#565656\">Make this Notebook Trusted to load map: File -> Trust Notebook</span><iframe srcdoc=\"&lt;!DOCTYPE html&gt;\n",
       "&lt;head&gt;    \n",
       "    &lt;meta http-equiv=&quot;content-type&quot; content=&quot;text/html; charset=UTF-8&quot; /&gt;\n",
       "    \n",
       "        &lt;script&gt;\n",
       "            L_NO_TOUCH = false;\n",
       "            L_DISABLE_3D = false;\n",
       "        &lt;/script&gt;\n",
       "    \n",
       "    &lt;style&gt;html, body {width: 100%;height: 100%;margin: 0;padding: 0;}&lt;/style&gt;\n",
       "    &lt;style&gt;#map {position:absolute;top:0;bottom:0;right:0;left:0;}&lt;/style&gt;\n",
       "    &lt;script src=&quot;https://cdn.jsdelivr.net/npm/leaflet@1.6.0/dist/leaflet.js&quot;&gt;&lt;/script&gt;\n",
       "    &lt;script src=&quot;https://code.jquery.com/jquery-1.12.4.min.js&quot;&gt;&lt;/script&gt;\n",
       "    &lt;script src=&quot;https://maxcdn.bootstrapcdn.com/bootstrap/3.2.0/js/bootstrap.min.js&quot;&gt;&lt;/script&gt;\n",
       "    &lt;script src=&quot;https://cdnjs.cloudflare.com/ajax/libs/Leaflet.awesome-markers/2.0.2/leaflet.awesome-markers.js&quot;&gt;&lt;/script&gt;\n",
       "    &lt;link rel=&quot;stylesheet&quot; href=&quot;https://cdn.jsdelivr.net/npm/leaflet@1.6.0/dist/leaflet.css&quot;/&gt;\n",
       "    &lt;link rel=&quot;stylesheet&quot; href=&quot;https://maxcdn.bootstrapcdn.com/bootstrap/3.2.0/css/bootstrap.min.css&quot;/&gt;\n",
       "    &lt;link rel=&quot;stylesheet&quot; href=&quot;https://maxcdn.bootstrapcdn.com/bootstrap/3.2.0/css/bootstrap-theme.min.css&quot;/&gt;\n",
       "    &lt;link rel=&quot;stylesheet&quot; href=&quot;https://maxcdn.bootstrapcdn.com/font-awesome/4.6.3/css/font-awesome.min.css&quot;/&gt;\n",
       "    &lt;link rel=&quot;stylesheet&quot; href=&quot;https://cdnjs.cloudflare.com/ajax/libs/Leaflet.awesome-markers/2.0.2/leaflet.awesome-markers.css&quot;/&gt;\n",
       "    &lt;link rel=&quot;stylesheet&quot; href=&quot;https://cdn.jsdelivr.net/gh/python-visualization/folium/folium/templates/leaflet.awesome.rotate.min.css&quot;/&gt;\n",
       "    \n",
       "            &lt;meta name=&quot;viewport&quot; content=&quot;width=device-width,\n",
       "                initial-scale=1.0, maximum-scale=1.0, user-scalable=no&quot; /&gt;\n",
       "            &lt;style&gt;\n",
       "                #map_23ee97e5fcd8f01ee221dff59f2f9558 {\n",
       "                    position: relative;\n",
       "                    width: 100.0%;\n",
       "                    height: 100.0%;\n",
       "                    left: 0.0%;\n",
       "                    top: 0.0%;\n",
       "                }\n",
       "            &lt;/style&gt;\n",
       "        \n",
       "&lt;/head&gt;\n",
       "&lt;body&gt;    \n",
       "    \n",
       "            &lt;div class=&quot;folium-map&quot; id=&quot;map_23ee97e5fcd8f01ee221dff59f2f9558&quot; &gt;&lt;/div&gt;\n",
       "        \n",
       "&lt;/body&gt;\n",
       "&lt;script&gt;    \n",
       "    \n",
       "            var map_23ee97e5fcd8f01ee221dff59f2f9558 = L.map(\n",
       "                &quot;map_23ee97e5fcd8f01ee221dff59f2f9558&quot;,\n",
       "                {\n",
       "                    center: [40.7, -73.94],\n",
       "                    crs: L.CRS.EPSG3857,\n",
       "                    zoom: 10,\n",
       "                    zoomControl: true,\n",
       "                    preferCanvas: false,\n",
       "                }\n",
       "            );\n",
       "\n",
       "            \n",
       "\n",
       "        \n",
       "    \n",
       "            var tile_layer_dc36725d4fd96cf9834bcc8b79b0fba5 = L.tileLayer(\n",
       "                &quot;https://cartodb-basemaps-{s}.global.ssl.fastly.net/light_all/{z}/{x}/{y}.png&quot;,\n",
       "                {&quot;attribution&quot;: &quot;\\u0026copy; \\u003ca href=\\&quot;http://www.openstreetmap.org/copyright\\&quot;\\u003eOpenStreetMap\\u003c/a\\u003e contributors \\u0026copy; \\u003ca href=\\&quot;http://cartodb.com/attributions\\&quot;\\u003eCartoDB\\u003c/a\\u003e, CartoDB \\u003ca href =\\&quot;http://cartodb.com/attributions\\&quot;\\u003eattributions\\u003c/a\\u003e&quot;, &quot;detectRetina&quot;: false, &quot;maxNativeZoom&quot;: 12, &quot;maxZoom&quot;: 12, &quot;minZoom&quot;: 0, &quot;noWrap&quot;: false, &quot;opacity&quot;: 1, &quot;subdomains&quot;: &quot;abc&quot;, &quot;tms&quot;: false}\n",
       "            ).addTo(map_23ee97e5fcd8f01ee221dff59f2f9558);\n",
       "        \n",
       "    \n",
       "            var marker_28b2478f55687a4fc5e9b4980d5f368a = L.marker(\n",
       "                [40.596108722509776, -74.07540693920103],\n",
       "                {}\n",
       "            ).addTo(map_23ee97e5fcd8f01ee221dff59f2f9558);\n",
       "        \n",
       "    \n",
       "        var popup_73e27bb44420d2f0b484b34cd4b9038d = L.popup({&quot;maxWidth&quot;: &quot;100%&quot;});\n",
       "\n",
       "        \n",
       "            var html_27ff541d29fc185f4f2d039df2fdadf4 = $(`&lt;div id=&quot;html_27ff541d29fc185f4f2d039df2fdadf4&quot; style=&quot;width: 100.0%; height: 100.0%;&quot;&gt;Id: 0&lt;/div&gt;`)[0];\n",
       "            popup_73e27bb44420d2f0b484b34cd4b9038d.setContent(html_27ff541d29fc185f4f2d039df2fdadf4);\n",
       "        \n",
       "\n",
       "        marker_28b2478f55687a4fc5e9b4980d5f368a.bindPopup(popup_73e27bb44420d2f0b484b34cd4b9038d)\n",
       "        ;\n",
       "\n",
       "        \n",
       "    \n",
       "    \n",
       "            var marker_d57a38d7ce2a16407f43de8077480e40 = L.marker(\n",
       "                [40.668528910923165, -74.08105230064196],\n",
       "                {}\n",
       "            ).addTo(map_23ee97e5fcd8f01ee221dff59f2f9558);\n",
       "        \n",
       "    \n",
       "        var popup_1a05f85ab13e8feb6aa69745c1df30c8 = L.popup({&quot;maxWidth&quot;: &quot;100%&quot;});\n",
       "\n",
       "        \n",
       "            var html_48a935d7bad98337b80d2f2945e9cd3e = $(`&lt;div id=&quot;html_48a935d7bad98337b80d2f2945e9cd3e&quot; style=&quot;width: 100.0%; height: 100.0%;&quot;&gt;Id: 1&lt;/div&gt;`)[0];\n",
       "            popup_1a05f85ab13e8feb6aa69745c1df30c8.setContent(html_48a935d7bad98337b80d2f2945e9cd3e);\n",
       "        \n",
       "\n",
       "        marker_d57a38d7ce2a16407f43de8077480e40.bindPopup(popup_1a05f85ab13e8feb6aa69745c1df30c8)\n",
       "        ;\n",
       "\n",
       "        \n",
       "    \n",
       "    \n",
       "            var marker_7b8e9e264565fa7f9eb7a6c195fdf2ba = L.marker(\n",
       "                [40.9031710333525, -73.76462386279145],\n",
       "                {}\n",
       "            ).addTo(map_23ee97e5fcd8f01ee221dff59f2f9558);\n",
       "        \n",
       "    \n",
       "        var popup_6b8825d491f27a8f53a8be267c74c2e7 = L.popup({&quot;maxWidth&quot;: &quot;100%&quot;});\n",
       "\n",
       "        \n",
       "            var html_0e9a5324d5a7e0fedc9259c3dc3945a0 = $(`&lt;div id=&quot;html_0e9a5324d5a7e0fedc9259c3dc3945a0&quot; style=&quot;width: 100.0%; height: 100.0%;&quot;&gt;Id: 2&lt;/div&gt;`)[0];\n",
       "            popup_6b8825d491f27a8f53a8be267c74c2e7.setContent(html_0e9a5324d5a7e0fedc9259c3dc3945a0);\n",
       "        \n",
       "\n",
       "        marker_7b8e9e264565fa7f9eb7a6c195fdf2ba.bindPopup(popup_6b8825d491f27a8f53a8be267c74c2e7)\n",
       "        ;\n",
       "\n",
       "        \n",
       "    \n",
       "    \n",
       "            var marker_17d3d46bff5a5f18137f7833d424df36 = L.marker(\n",
       "                [40.807797223685164, -73.81126833649652],\n",
       "                {}\n",
       "            ).addTo(map_23ee97e5fcd8f01ee221dff59f2f9558);\n",
       "        \n",
       "    \n",
       "        var popup_0507928c7b033ba20d5930c070ff9727 = L.popup({&quot;maxWidth&quot;: &quot;100%&quot;});\n",
       "\n",
       "        \n",
       "            var html_0505ca5b9d4d159e95e67af44aedcee1 = $(`&lt;div id=&quot;html_0505ca5b9d4d159e95e67af44aedcee1&quot; style=&quot;width: 100.0%; height: 100.0%;&quot;&gt;Id: 3&lt;/div&gt;`)[0];\n",
       "            popup_0507928c7b033ba20d5930c070ff9727.setContent(html_0505ca5b9d4d159e95e67af44aedcee1);\n",
       "        \n",
       "\n",
       "        marker_17d3d46bff5a5f18137f7833d424df36.bindPopup(popup_0507928c7b033ba20d5930c070ff9727)\n",
       "        ;\n",
       "\n",
       "        \n",
       "    \n",
       "    \n",
       "            var marker_839b9fa3b6ee31d5cc33af096b126760 = L.marker(\n",
       "                [40.69840825044273, -73.89769263821798],\n",
       "                {}\n",
       "            ).addTo(map_23ee97e5fcd8f01ee221dff59f2f9558);\n",
       "        \n",
       "    \n",
       "        var popup_0ce42a3747d7894431b40e34dad22a55 = L.popup({&quot;maxWidth&quot;: &quot;100%&quot;});\n",
       "\n",
       "        \n",
       "            var html_411820f3daf075690379caa919612f35 = $(`&lt;div id=&quot;html_411820f3daf075690379caa919612f35&quot; style=&quot;width: 100.0%; height: 100.0%;&quot;&gt;Id: 4&lt;/div&gt;`)[0];\n",
       "            popup_0ce42a3747d7894431b40e34dad22a55.setContent(html_411820f3daf075690379caa919612f35);\n",
       "        \n",
       "\n",
       "        marker_839b9fa3b6ee31d5cc33af096b126760.bindPopup(popup_0ce42a3747d7894431b40e34dad22a55)\n",
       "        ;\n",
       "\n",
       "        \n",
       "    \n",
       "    \n",
       "            var marker_fdc6597294046d7fc8402c03bf39b230 = L.marker(\n",
       "                [40.78056645364654, -73.86730698469009],\n",
       "                {}\n",
       "            ).addTo(map_23ee97e5fcd8f01ee221dff59f2f9558);\n",
       "        \n",
       "    \n",
       "        var popup_ea19c0352adfe7c7d5f8c1ed65e3b458 = L.popup({&quot;maxWidth&quot;: &quot;100%&quot;});\n",
       "\n",
       "        \n",
       "            var html_7024f8af8ae48cfce57d28ff724bfb3a = $(`&lt;div id=&quot;html_7024f8af8ae48cfce57d28ff724bfb3a&quot; style=&quot;width: 100.0%; height: 100.0%;&quot;&gt;Id: 5&lt;/div&gt;`)[0];\n",
       "            popup_ea19c0352adfe7c7d5f8c1ed65e3b458.setContent(html_7024f8af8ae48cfce57d28ff724bfb3a);\n",
       "        \n",
       "\n",
       "        marker_fdc6597294046d7fc8402c03bf39b230.bindPopup(popup_ea19c0352adfe7c7d5f8c1ed65e3b458)\n",
       "        ;\n",
       "\n",
       "        \n",
       "    \n",
       "    \n",
       "            var marker_9b8f1f720d8275ca6a38466183b0508c = L.marker(\n",
       "                [40.853437610962374, -73.96059664398177],\n",
       "                {}\n",
       "            ).addTo(map_23ee97e5fcd8f01ee221dff59f2f9558);\n",
       "        \n",
       "    \n",
       "        var popup_7755849126dbac2c625317d0ad186df9 = L.popup({&quot;maxWidth&quot;: &quot;100%&quot;});\n",
       "\n",
       "        \n",
       "            var html_f1bdaad71049f9e92f0319e85cb0c405 = $(`&lt;div id=&quot;html_f1bdaad71049f9e92f0319e85cb0c405&quot; style=&quot;width: 100.0%; height: 100.0%;&quot;&gt;Id: 6&lt;/div&gt;`)[0];\n",
       "            popup_7755849126dbac2c625317d0ad186df9.setContent(html_f1bdaad71049f9e92f0319e85cb0c405);\n",
       "        \n",
       "\n",
       "        marker_9b8f1f720d8275ca6a38466183b0508c.bindPopup(popup_7755849126dbac2c625317d0ad186df9)\n",
       "        ;\n",
       "\n",
       "        \n",
       "    \n",
       "    \n",
       "            var marker_80186ec3ba5188dc00a84f4b5a80503f = L.marker(\n",
       "                [40.834878504194265, -73.8762309259004],\n",
       "                {}\n",
       "            ).addTo(map_23ee97e5fcd8f01ee221dff59f2f9558);\n",
       "        \n",
       "    \n",
       "        var popup_0e2ef1311a7be9c1d822dcb32338dab7 = L.popup({&quot;maxWidth&quot;: &quot;100%&quot;});\n",
       "\n",
       "        \n",
       "            var html_305bd61c09cd315bf14362b58a3b1aa0 = $(`&lt;div id=&quot;html_305bd61c09cd315bf14362b58a3b1aa0&quot; style=&quot;width: 100.0%; height: 100.0%;&quot;&gt;Id: 7&lt;/div&gt;`)[0];\n",
       "            popup_0e2ef1311a7be9c1d822dcb32338dab7.setContent(html_305bd61c09cd315bf14362b58a3b1aa0);\n",
       "        \n",
       "\n",
       "        marker_80186ec3ba5188dc00a84f4b5a80503f.bindPopup(popup_0e2ef1311a7be9c1d822dcb32338dab7)\n",
       "        ;\n",
       "\n",
       "        \n",
       "    \n",
       "    \n",
       "            var marker_dc3875d5f103e09330855beb6d66b1cb = L.marker(\n",
       "                [40.895296782430805, -73.82131451197903],\n",
       "                {}\n",
       "            ).addTo(map_23ee97e5fcd8f01ee221dff59f2f9558);\n",
       "        \n",
       "    \n",
       "        var popup_f445b164a1d72c3928ca1a2ef25e4cdf = L.popup({&quot;maxWidth&quot;: &quot;100%&quot;});\n",
       "\n",
       "        \n",
       "            var html_79ec05b100a64615cf74c559ab2a32e4 = $(`&lt;div id=&quot;html_79ec05b100a64615cf74c559ab2a32e4&quot; style=&quot;width: 100.0%; height: 100.0%;&quot;&gt;Id: 8&lt;/div&gt;`)[0];\n",
       "            popup_f445b164a1d72c3928ca1a2ef25e4cdf.setContent(html_79ec05b100a64615cf74c559ab2a32e4);\n",
       "        \n",
       "\n",
       "        marker_dc3875d5f103e09330855beb6d66b1cb.bindPopup(popup_f445b164a1d72c3928ca1a2ef25e4cdf)\n",
       "        ;\n",
       "\n",
       "        \n",
       "    \n",
       "    \n",
       "            var marker_c1f8d855db134cf43b2cbadfe763da8b = L.marker(\n",
       "                [41.03886091565263, -73.86403698540576],\n",
       "                {}\n",
       "            ).addTo(map_23ee97e5fcd8f01ee221dff59f2f9558);\n",
       "        \n",
       "    \n",
       "        var popup_b1a5354eb799df2eccea21543b702fe1 = L.popup({&quot;maxWidth&quot;: &quot;100%&quot;});\n",
       "\n",
       "        \n",
       "            var html_7eedca88acfbd052a0cb5a6c1674db80 = $(`&lt;div id=&quot;html_7eedca88acfbd052a0cb5a6c1674db80&quot; style=&quot;width: 100.0%; height: 100.0%;&quot;&gt;Id: 9&lt;/div&gt;`)[0];\n",
       "            popup_b1a5354eb799df2eccea21543b702fe1.setContent(html_7eedca88acfbd052a0cb5a6c1674db80);\n",
       "        \n",
       "\n",
       "        marker_c1f8d855db134cf43b2cbadfe763da8b.bindPopup(popup_b1a5354eb799df2eccea21543b702fe1)\n",
       "        ;\n",
       "\n",
       "        \n",
       "    \n",
       "    \n",
       "            var circle_marker_64eb51287745b426309e6e1f4e765f07 = L.circleMarker(\n",
       "                [40.80770544077999, -73.90195301293059],\n",
       "                {&quot;bubblingMouseEvents&quot;: true, &quot;color&quot;: &quot;red&quot;, &quot;dashArray&quot;: null, &quot;dashOffset&quot;: null, &quot;fill&quot;: true, &quot;fillColor&quot;: &quot;red&quot;, &quot;fillOpacity&quot;: 0.2, &quot;fillRule&quot;: &quot;evenodd&quot;, &quot;lineCap&quot;: &quot;round&quot;, &quot;lineJoin&quot;: &quot;round&quot;, &quot;opacity&quot;: 1.0, &quot;radius&quot;: 10, &quot;stroke&quot;: true, &quot;weight&quot;: 3}\n",
       "            ).addTo(map_23ee97e5fcd8f01ee221dff59f2f9558);\n",
       "        \n",
       "    \n",
       "        var popup_a0f267836c2fd56087c7d92c5fb5a7d3 = L.popup({&quot;maxWidth&quot;: &quot;100%&quot;});\n",
       "\n",
       "        \n",
       "            var html_0988989348c110e69b464631bf9c0fcc = $(`&lt;div id=&quot;html_0988989348c110e69b464631bf9c0fcc&quot; style=&quot;width: 100.0%; height: 100.0%;&quot;&gt;&lt;stong&gt;Warehouse&lt;/stong&gt;&lt;/div&gt;`)[0];\n",
       "            popup_a0f267836c2fd56087c7d92c5fb5a7d3.setContent(html_0988989348c110e69b464631bf9c0fcc);\n",
       "        \n",
       "\n",
       "        circle_marker_64eb51287745b426309e6e1f4e765f07.bindPopup(popup_a0f267836c2fd56087c7d92c5fb5a7d3)\n",
       "        ;\n",
       "\n",
       "        \n",
       "    \n",
       "&lt;/script&gt;\" style=\"position:absolute;width:100%;height:100%;left:0;top:0;border:none !important;\" allowfullscreen webkitallowfullscreen mozallowfullscreen></iframe></div></div>"
      ],
      "text/plain": [
       "<folium.folium.Map at 0x7fdfcd4cea00>"
      ]
     },
     "execution_count": 3,
     "metadata": {},
     "output_type": "execute_result"
    }
   ],
   "source": [
    "m = folium.Map(location=[40.70, -73.94], zoom_start=10, max_zoom=12, tiles='CartoDB positron')\n",
    "    \n",
    "# Project to NAD83 projected crs\n",
    "df = df.to_crs(epsg=2263)\n",
    "\n",
    "# Access the centroid attribute of each polygon\n",
    "df['centroid'] = df.centroid\n",
    "\n",
    "# Project to WGS84 geographic crs\n",
    "\n",
    "# geometry (active) column\n",
    "df = df.to_crs(epsg=4326)\n",
    "\n",
    "# Centroid column\n",
    "df['centroid'] = df['centroid'].to_crs(epsg=4326)\n",
    "\n",
    "np.random.seed(7)\n",
    "locations = []\n",
    "ids = 0\n",
    "for _, r in df.iterrows():\n",
    "    lat, lon = r['centroid'].y, r['centroid'].x\n",
    "    for i in range(2):\n",
    "        lat_rand, lon_rand = lat + 0.2 * np.random.rand(), lon +0.1 * np.random.rand()\n",
    "        locations.append((lon_rand, lat_rand))\n",
    "        folium.Marker(location=[lat_rand, lon_rand], popup=f'Id: {ids}').add_to(m)\n",
    "        ids += 1\n",
    "center = np.array(locations).mean(axis=0)\n",
    "locations = [(center[0], center[1])] + locations\n",
    "folium.CircleMarker(location=[center[1], center[0]], radius=10, popup=\"<stong>Warehouse</stong>\",\n",
    "                    color=\"red\",fill=True, fillOpacity=1, fillColor=\"tab:red\").add_to(m)\n",
    "m"
   ]
  },
  {
   "cell_type": "code",
   "execution_count": 4,
   "id": "a57543e6",
   "metadata": {},
   "outputs": [],
   "source": [
    "# Normalizing the results to produce a graph in Graphx\n",
    "companies = np.array(locations)\n",
    "companies -= companies[0]\n",
    "companies /= (np.max(np.abs(companies), axis=0))\n",
    "r = list(np.sqrt(np.sum(companies ** 2, axis=1)))"
   ]
  },
  {
   "cell_type": "code",
   "execution_count": 5,
   "id": "82ac9b57",
   "metadata": {},
   "outputs": [
    {
     "name": "stdout",
     "output_type": "stream",
     "text": [
      "The number of edges of this problem is: 34\n"
     ]
    },
    {
     "data": {
      "image/png": "[encoded data removed]",
      "text/plain": [
       "<Figure size 432x288 with 1 Axes>"
      ]
     },
     "metadata": {},
     "output_type": "display_data"
    }
   ],
   "source": [
    "threshold = 1 # Limit for to not consider the route from company i to j if the distance is larger than a threshold\n",
    "n_companies = len(companies)\n",
    "G = nx.Graph(name=\"VRP\")\n",
    "G.add_nodes_from(range(n_companies))\n",
    "# G.add_weighted_edges_from([0, i, w] for i, w in zip(range(1, n_companies), r[1:]))\n",
    "np.random.seed(2)\n",
    "count = 0\n",
    "for i in range(n_companies):\n",
    "    for j in range(n_companies):\n",
    "        if i != j:\n",
    "            rij = np.sqrt(np.sum((companies[i] - companies[j])**2))\n",
    "            if (rij < threshold) or (0 in [i, j]):\n",
    "                count +=1\n",
    "                G.add_weighted_edges_from([[i, j, rij]])\n",
    "                r.append(rij)\n",
    "colors = [plt.cm.get_cmap(\"coolwarm\")(x) for x in r[1:]]\n",
    "nx.draw(G, pos=companies, with_labels=True, node_size=500,\n",
    "        edge_color=colors, width=1, font_color=\"white\",font_size=14,\n",
    "        node_color = [\"tab:red\"] + (n_companies-1)*[\"darkblue\"])\n",
    "print(f\"The number of edges of this problem is: {len(G.edges)}\")"
   ]
  },
  {
   "cell_type": "markdown",
   "id": "367dd5a7",
   "metadata": {},
   "source": [
    "### The QUBO of the vehicle routing problem \n",
    "\n",
    "To encode a problem as the Vehicle Routing Problem on a quantum computer it is needed to represent it as a quadratic unconstrained binary optimization (QUBO) problem. In the QUBO representation, the cost function has linear and cuadratic terms and the constrains are added as penalization to the cost function. The following function. In the Figure below, we are showing the objective function of the VRP:\n",
    "\n",
    "<img src=\"./Images/CostFunc.png\" width=800>\n",
    "\n",
    "The terms of the above equations are:\n",
    "<div class=\"alert alert-block alert-success\">\n",
    "    \n",
    "- C<sub>ij</sub> : We consider the cost associated with a specific route ij as a combination of distance, traffic, and other forecasted terms related to the disadvantages of taking the particular route on a specific day. \n",
    "\n",
    "- K: We find the solution for 2 trucks.\n",
    "</div>"
   ]
  },
  {
   "cell_type": "code",
   "execution_count": 6,
   "id": "2753d7d8",
   "metadata": {},
   "outputs": [
    {
     "name": "stdout",
     "output_type": "stream",
     "text": [
      "The number of qubits needed to solve the problem is: 68\n",
      "\\ This file has been generated by DOcplex\n",
      "\\ ENCODING=ISO-8859-1\n",
      "\\Problem name: VRP\n",
      "\n",
      "Minimize\n",
      " obj: 1.332623442714 x_0_1 + 1.332623442714 x_1_0 + 1.167267340961 x_0_2\n",
      "      + 1.167267340961 x_2_0 + 0.870924584994 x_0_3 + 0.870924584994 x_3_0\n",
      "      + 0.506337604554 x_0_4 + 0.506337604554 x_4_0 + 0.473427767721 x_0_5\n",
      "      + 0.473427767721 x_5_0 + 0.226286197585 x_0_6 + 0.226286197585 x_6_0\n",
      "      + 0.382564916313 x_0_7 + 0.382564916313 x_7_0 + 0.185594213224 x_0_8\n",
      "      + 0.185594213224 x_8_0 + 0.588478457259 x_0_9 + 0.588478457259 x_9_0\n",
      "      + 1.022163668163 x_0_10 + 1.022163668163 x_10_0 + 0.314878112966 x_1_2\n",
      "      + 0.314878112966 x_2_1 + 0.487918004849 x_3_4 + 0.487918004849 x_4_3\n",
      "      + 0.781044787250 x_3_6 + 0.781044787250 x_6_3 + 0.689644793506 x_3_8\n",
      "      + 0.689644793506 x_8_3 + 0.318359687012 x_3_9 + 0.318359687012 x_9_3\n",
      "      + 0.807887929520 x_3_10 + 0.807887929520 x_10_3 + 0.675868194806 x_4_5\n",
      "      + 0.675868194806 x_5_4 + 0.334333083016 x_4_6 + 0.334333083016 x_6_4\n",
      "      + 0.856833254405 x_4_7 + 0.856833254405 x_7_4 + 0.381169417109 x_4_8\n",
      "      + 0.381169417109 x_8_4 + 0.382664692182 x_4_9 + 0.382664692182 x_9_4\n",
      "      + 0.393840203853 x_5_6 + 0.393840203853 x_6_5 + 0.757072348368 x_5_7\n",
      "      + 0.757072348368 x_7_5 + 0.602421444816 x_5_8 + 0.602421444816 x_8_5\n",
      "      + 0.952553004353 x_5_9 + 0.952553004353 x_9_5 + 0.608850835621 x_6_7\n",
      "      + 0.608850835621 x_7_6 + 0.240184142440 x_6_8 + 0.240184142440 x_8_6\n",
      "      + 0.558831877720 x_6_9 + 0.558831877720 x_9_6 + 0.477848914445 x_7_8\n",
      "      + 0.477848914445 x_8_7 + 0.798486241303 x_7_9 + 0.798486241303 x_9_7\n",
      "      + 0.966504238519 x_7_10 + 0.966504238519 x_10_7 + 0.402909595455 x_8_9\n",
      "      + 0.402909595455 x_9_8 + 0.885069440098 x_8_10 + 0.885069440098 x_10_8\n",
      "      + 0.665305782026 x_9_10 + 0.665305782026 x_10_9\n",
      "Subject To\n",
      " c0: x_1_0 + x_1_2 = 1\n",
      " c1: x_2_0 + x_2_1 = 1\n",
      " c2: x_3_0 + x_3_4 + x_3_6 + x_3_8 + x_3_9 + x_3_10 = 1\n",
      " c3: x_4_0 + x_4_3 + x_4_5 + x_4_6 + x_4_7 + x_4_8 + x_4_9 = 1\n",
      " c4: x_5_0 + x_5_4 + x_5_6 + x_5_7 + x_5_8 + x_5_9 = 1\n",
      " c5: x_6_0 + x_6_3 + x_6_4 + x_6_5 + x_6_7 + x_6_8 + x_6_9 = 1\n",
      " c6: x_7_0 + x_7_4 + x_7_5 + x_7_6 + x_7_8 + x_7_9 + x_7_10 = 1\n",
      " c7: x_8_0 + x_8_3 + x_8_4 + x_8_5 + x_8_6 + x_8_7 + x_8_9 + x_8_10 = 1\n",
      " c8: x_9_0 + x_9_3 + x_9_4 + x_9_5 + x_9_6 + x_9_7 + x_9_8 + x_9_10 = 1\n",
      " c9: x_10_0 + x_10_3 + x_10_7 + x_10_8 + x_10_9 = 1\n",
      " c10: x_0_1 + x_2_1 = 1\n",
      " c11: x_0_2 + x_1_2 = 1\n",
      " c12: x_0_3 + x_4_3 + x_6_3 + x_8_3 + x_9_3 + x_10_3 = 1\n",
      " c13: x_0_4 + x_3_4 + x_5_4 + x_6_4 + x_7_4 + x_8_4 + x_9_4 = 1\n",
      " c14: x_0_5 + x_4_5 + x_6_5 + x_7_5 + x_8_5 + x_9_5 = 1\n",
      " c15: x_0_6 + x_3_6 + x_4_6 + x_5_6 + x_7_6 + x_8_6 + x_9_6 = 1\n",
      " c16: x_0_7 + x_4_7 + x_5_7 + x_6_7 + x_8_7 + x_9_7 + x_10_7 = 1\n",
      " c17: x_0_8 + x_3_8 + x_4_8 + x_5_8 + x_6_8 + x_7_8 + x_9_8 + x_10_8 = 1\n",
      " c18: x_0_9 + x_3_9 + x_4_9 + x_5_9 + x_6_9 + x_7_9 + x_8_9 + x_10_9 = 1\n",
      " c19: x_0_10 + x_3_10 + x_7_10 + x_8_10 + x_9_10 = 1\n",
      " c20: x_1_0 + x_2_0 + x_3_0 + x_4_0 + x_5_0 + x_6_0 + x_7_0 + x_8_0 + x_9_0\n",
      "      + x_10_0 = 3\n",
      " c21: x_0_1 + x_0_2 + x_0_3 + x_0_4 + x_0_5 + x_0_6 + x_0_7 + x_0_8 + x_0_9\n",
      "      + x_0_10 = 3\n",
      " c22: x_1_2 + x_2_1 <= 1\n",
      " c23: x_3_4 + x_4_3 <= 1\n",
      " c24: x_3_6 + x_6_3 <= 1\n",
      " c25: x_3_8 + x_8_3 <= 1\n",
      " c26: x_3_9 + x_9_3 <= 1\n",
      " c27: x_3_10 + x_10_3 <= 1\n",
      " c28: x_4_5 + x_5_4 <= 1\n",
      " c29: x_4_6 + x_6_4 <= 1\n",
      " c30: x_4_7 + x_7_4 <= 1\n",
      " c31: x_4_8 + x_8_4 <= 1\n",
      " c32: x_4_9 + x_9_4 <= 1\n",
      " c33: x_5_6 + x_6_5 <= 1\n",
      " c34: x_5_7 + x_7_5 <= 1\n",
      " c35: x_5_8 + x_8_5 <= 1\n",
      " c36: x_5_9 + x_9_5 <= 1\n",
      " c37: x_6_7 + x_7_6 <= 1\n",
      " c38: x_6_8 + x_8_6 <= 1\n",
      " c39: x_6_9 + x_9_6 <= 1\n",
      " c40: x_7_8 + x_8_7 <= 1\n",
      " c41: x_7_9 + x_9_7 <= 1\n",
      " c42: x_7_10 + x_10_7 <= 1\n",
      " c43: x_8_9 + x_9_8 <= 1\n",
      " c44: x_8_10 + x_10_8 <= 1\n",
      " c45: x_9_10 + x_10_9 <= 1\n",
      " c46: x_3_4 + x_4_3 + x_3_6 + x_6_3 + x_4_6 + x_6_4 <= 2\n",
      " c47: x_3_4 + x_4_3 + x_3_8 + x_8_3 + x_4_8 + x_8_4 <= 2\n",
      " c48: x_3_4 + x_4_3 + x_3_9 + x_9_3 + x_4_9 + x_9_4 <= 2\n",
      " c49: x_3_6 + x_6_3 + x_3_8 + x_8_3 + x_6_8 + x_8_6 <= 2\n",
      " c50: x_3_6 + x_6_3 + x_3_9 + x_9_3 + x_6_9 + x_9_6 <= 2\n",
      " c51: x_3_8 + x_8_3 + x_3_9 + x_9_3 + x_8_9 + x_9_8 <= 2\n",
      " c52: x_3_8 + x_8_3 + x_3_10 + x_10_3 + x_8_10 + x_10_8 <= 2\n",
      " c53: x_3_9 + x_9_3 + x_3_10 + x_10_3 + x_9_10 + x_10_9 <= 2\n",
      " c54: x_4_5 + x_5_4 + x_4_6 + x_6_4 + x_5_6 + x_6_5 <= 2\n",
      " c55: x_4_5 + x_5_4 + x_4_7 + x_7_4 + x_5_7 + x_7_5 <= 2\n",
      " c56: x_4_5 + x_5_4 + x_4_8 + x_8_4 + x_5_8 + x_8_5 <= 2\n",
      " c57: x_4_5 + x_5_4 + x_4_9 + x_9_4 + x_5_9 + x_9_5 <= 2\n",
      " c58: x_4_6 + x_6_4 + x_4_7 + x_7_4 + x_6_7 + x_7_6 <= 2\n",
      " c59: x_4_6 + x_6_4 + x_4_8 + x_8_4 + x_6_8 + x_8_6 <= 2\n",
      " c60: x_4_6 + x_6_4 + x_4_9 + x_9_4 + x_6_9 + x_9_6 <= 2\n",
      " c61: x_4_7 + x_7_4 + x_4_8 + x_8_4 + x_7_8 + x_8_7 <= 2\n",
      " c62: x_4_7 + x_7_4 + x_4_9 + x_9_4 + x_7_9 + x_9_7 <= 2\n",
      " c63: x_4_8 + x_8_4 + x_4_9 + x_9_4 + x_8_9 + x_9_8 <= 2\n",
      " c64: x_5_6 + x_6_5 + x_5_7 + x_7_5 + x_6_7 + x_7_6 <= 2\n",
      " c65: x_5_6 + x_6_5 + x_5_8 + x_8_5 + x_6_8 + x_8_6 <= 2\n",
      " c66: x_5_6 + x_6_5 + x_5_9 + x_9_5 + x_6_9 + x_9_6 <= 2\n",
      " c67: x_5_7 + x_7_5 + x_5_8 + x_8_5 + x_7_8 + x_8_7 <= 2\n",
      " c68: x_5_7 + x_7_5 + x_5_9 + x_9_5 + x_7_9 + x_9_7 <= 2\n",
      " c69: x_5_8 + x_8_5 + x_5_9 + x_9_5 + x_8_9 + x_9_8 <= 2\n",
      " c70: x_6_7 + x_7_6 + x_6_8 + x_8_6 + x_7_8 + x_8_7 <= 2\n",
      " c71: x_6_7 + x_7_6 + x_6_9 + x_9_6 + x_7_9 + x_9_7 <= 2\n",
      " c72: x_6_8 + x_8_6 + x_6_9 + x_9_6 + x_8_9 + x_9_8 <= 2\n",
      " c73: x_7_8 + x_8_7 + x_7_9 + x_9_7 + x_8_9 + x_9_8 <= 2\n",
      " c74: x_7_8 + x_8_7 + x_7_10 + x_10_7 + x_8_10 + x_10_8 <= 2\n",
      " c75: x_7_9 + x_9_7 + x_7_10 + x_10_7 + x_9_10 + x_10_9 <= 2\n",
      " c76: x_8_9 + x_9_8 + x_8_10 + x_10_8 + x_9_10 + x_10_9 <= 2\n",
      " c77: x_3_4 + x_4_3 + x_3_6 + x_6_3 + x_3_8 + x_8_3 + x_4_6 + x_6_4 + x_4_8\n",
      "      + x_8_4 + x_6_8 + x_8_6 <= 3\n",
      " c78: x_3_4 + x_4_3 + x_3_6 + x_6_3 + x_3_9 + x_9_3 + x_4_6 + x_6_4 + x_4_9\n",
      "      + x_9_4 + x_6_9 + x_9_6 <= 3\n",
      " c79: x_3_4 + x_4_3 + x_3_8 + x_8_3 + x_3_9 + x_9_3 + x_4_8 + x_8_4 + x_4_9\n",
      "      + x_9_4 + x_8_9 + x_9_8 <= 3\n",
      " c80: x_3_6 + x_6_3 + x_3_8 + x_8_3 + x_3_9 + x_9_3 + x_6_8 + x_8_6 + x_6_9\n",
      "      + x_9_6 + x_8_9 + x_9_8 <= 3\n",
      " c81: x_3_8 + x_8_3 + x_3_9 + x_9_3 + x_3_10 + x_10_3 + x_8_9 + x_9_8 + x_8_10\n",
      "      + x_10_8 + x_9_10 + x_10_9 <= 3\n",
      " c82: x_4_5 + x_5_4 + x_4_6 + x_6_4 + x_4_7 + x_7_4 + x_5_6 + x_6_5 + x_5_7\n",
      "      + x_7_5 + x_6_7 + x_7_6 <= 3\n",
      " c83: x_4_5 + x_5_4 + x_4_6 + x_6_4 + x_4_8 + x_8_4 + x_5_6 + x_6_5 + x_5_8\n",
      "      + x_8_5 + x_6_8 + x_8_6 <= 3\n",
      " c84: x_4_5 + x_5_4 + x_4_6 + x_6_4 + x_4_9 + x_9_4 + x_5_6 + x_6_5 + x_5_9\n",
      "      + x_9_5 + x_6_9 + x_9_6 <= 3\n",
      " c85: x_4_5 + x_5_4 + x_4_7 + x_7_4 + x_4_8 + x_8_4 + x_5_7 + x_7_5 + x_5_8\n",
      "      + x_8_5 + x_7_8 + x_8_7 <= 3\n",
      " c86: x_4_5 + x_5_4 + x_4_7 + x_7_4 + x_4_9 + x_9_4 + x_5_7 + x_7_5 + x_5_9\n",
      "      + x_9_5 + x_7_9 + x_9_7 <= 3\n",
      " c87: x_4_5 + x_5_4 + x_4_8 + x_8_4 + x_4_9 + x_9_4 + x_5_8 + x_8_5 + x_5_9\n",
      "      + x_9_5 + x_8_9 + x_9_8 <= 3\n",
      " c88: x_4_6 + x_6_4 + x_4_7 + x_7_4 + x_4_8 + x_8_4 + x_6_7 + x_7_6 + x_6_8\n",
      "      + x_8_6 + x_7_8 + x_8_7 <= 3\n",
      " c89: x_4_6 + x_6_4 + x_4_7 + x_7_4 + x_4_9 + x_9_4 + x_6_7 + x_7_6 + x_6_9\n",
      "      + x_9_6 + x_7_9 + x_9_7 <= 3\n",
      " c90: x_4_6 + x_6_4 + x_4_8 + x_8_4 + x_4_9 + x_9_4 + x_6_8 + x_8_6 + x_6_9\n",
      "      + x_9_6 + x_8_9 + x_9_8 <= 3\n",
      " c91: x_4_7 + x_7_4 + x_4_8 + x_8_4 + x_4_9 + x_9_4 + x_7_8 + x_8_7 + x_7_9\n",
      "      + x_9_7 + x_8_9 + x_9_8 <= 3\n",
      " c92: x_5_6 + x_6_5 + x_5_7 + x_7_5 + x_5_8 + x_8_5 + x_6_7 + x_7_6 + x_6_8\n",
      "      + x_8_6 + x_7_8 + x_8_7 <= 3\n",
      " c93: x_5_6 + x_6_5 + x_5_7 + x_7_5 + x_5_9 + x_9_5 + x_6_7 + x_7_6 + x_6_9\n",
      "      + x_9_6 + x_7_9 + x_9_7 <= 3\n",
      " c94: x_5_6 + x_6_5 + x_5_8 + x_8_5 + x_5_9 + x_9_5 + x_6_8 + x_8_6 + x_6_9\n",
      "      + x_9_6 + x_8_9 + x_9_8 <= 3\n",
      " c95: x_5_7 + x_7_5 + x_5_8 + x_8_5 + x_5_9 + x_9_5 + x_7_8 + x_8_7 + x_7_9\n",
      "      + x_9_7 + x_8_9 + x_9_8 <= 3\n",
      " c96: x_6_7 + x_7_6 + x_6_8 + x_8_6 + x_6_9 + x_9_6 + x_7_8 + x_8_7 + x_7_9\n",
      "      + x_9_7 + x_8_9 + x_9_8 <= 3\n",
      " c97: x_7_8 + x_8_7 + x_7_9 + x_9_7 + x_7_10 + x_10_7 + x_8_9 + x_9_8 + x_8_10\n",
      "      + x_10_8 + x_9_10 + x_10_9 <= 3\n",
      " c98: x_3_4 + x_4_3 + x_3_6 + x_6_3 + x_3_8 + x_8_3 + x_3_9 + x_9_3 + x_4_6\n",
      "      + x_6_4 + x_4_8 + x_8_4 + x_4_9 + x_9_4 + x_6_8 + x_8_6 + x_6_9 + x_9_6\n",
      "      + x_8_9 + x_9_8 <= 4\n",
      " c99: x_4_5 + x_5_4 + x_4_6 + x_6_4 + x_4_7 + x_7_4 + x_4_8 + x_8_4 + x_5_6\n",
      "      + x_6_5 + x_5_7 + x_7_5 + x_5_8 + x_8_5 + x_6_7 + x_7_6 + x_6_8 + x_8_6\n",
      "      + x_7_8 + x_8_7 <= 4\n",
      " c100: x_4_5 + x_5_4 + x_4_6 + x_6_4 + x_4_7 + x_7_4 + x_4_9 + x_9_4 + x_5_6\n",
      "       + x_6_5 + x_5_7 + x_7_5 + x_5_9 + x_9_5 + x_6_7 + x_7_6 + x_6_9 + x_9_6\n",
      "       + x_7_9 + x_9_7 <= 4\n",
      " c101: x_4_5 + x_5_4 + x_4_6 + x_6_4 + x_4_8 + x_8_4 + x_4_9 + x_9_4 + x_5_6\n",
      "       + x_6_5 + x_5_8 + x_8_5 + x_5_9 + x_9_5 + x_6_8 + x_8_6 + x_6_9 + x_9_6\n",
      "       + x_8_9 + x_9_8 <= 4\n",
      " c102: x_4_5 + x_5_4 + x_4_7 + x_7_4 + x_4_8 + x_8_4 + x_4_9 + x_9_4 + x_5_7\n",
      "       + x_7_5 + x_5_8 + x_8_5 + x_5_9 + x_9_5 + x_7_8 + x_8_7 + x_7_9 + x_9_7\n",
      "       + x_8_9 + x_9_8 <= 4\n",
      " c103: x_4_6 + x_6_4 + x_4_7 + x_7_4 + x_4_8 + x_8_4 + x_4_9 + x_9_4 + x_6_7\n",
      "       + x_7_6 + x_6_8 + x_8_6 + x_6_9 + x_9_6 + x_7_8 + x_8_7 + x_7_9 + x_9_7\n",
      "       + x_8_9 + x_9_8 <= 4\n",
      " c104: x_5_6 + x_6_5 + x_5_7 + x_7_5 + x_5_8 + x_8_5 + x_5_9 + x_9_5 + x_6_7\n",
      "       + x_7_6 + x_6_8 + x_8_6 + x_6_9 + x_9_6 + x_7_8 + x_8_7 + x_7_9 + x_9_7\n",
      "       + x_8_9 + x_9_8 <= 4\n",
      " c105: x_4_5 + x_5_4 + x_4_6 + x_6_4 + x_4_7 + x_7_4 + x_4_8 + x_8_4 + x_4_9\n",
      "       + x_9_4 + x_5_6 + x_6_5 + x_5_7 + x_7_5 + x_5_8 + x_8_5 + x_5_9 + x_9_5\n",
      "       + x_6_7 + x_7_6 + x_6_8 + x_8_6 + x_6_9 + x_9_6 + x_7_8 + x_8_7 + x_7_9\n",
      "       + x_9_7 + x_8_9 + x_9_8 <= 5\n",
      "\n",
      "Bounds\n",
      " 0 <= x_0_1 <= 1\n",
      " 0 <= x_1_0 <= 1\n",
      " 0 <= x_0_2 <= 1\n",
      " 0 <= x_2_0 <= 1\n",
      " 0 <= x_0_3 <= 1\n",
      " 0 <= x_3_0 <= 1\n",
      " 0 <= x_0_4 <= 1\n",
      " 0 <= x_4_0 <= 1\n",
      " 0 <= x_0_5 <= 1\n",
      " 0 <= x_5_0 <= 1\n",
      " 0 <= x_0_6 <= 1\n",
      " 0 <= x_6_0 <= 1\n",
      " 0 <= x_0_7 <= 1\n",
      " 0 <= x_7_0 <= 1\n",
      " 0 <= x_0_8 <= 1\n",
      " 0 <= x_8_0 <= 1\n",
      " 0 <= x_0_9 <= 1\n",
      " 0 <= x_9_0 <= 1\n",
      " 0 <= x_0_10 <= 1\n",
      " 0 <= x_10_0 <= 1\n",
      " 0 <= x_1_2 <= 1\n",
      " 0 <= x_2_1 <= 1\n",
      " 0 <= x_3_4 <= 1\n",
      " 0 <= x_4_3 <= 1\n",
      " 0 <= x_3_6 <= 1\n",
      " 0 <= x_6_3 <= 1\n",
      " 0 <= x_3_8 <= 1\n",
      " 0 <= x_8_3 <= 1\n",
      " 0 <= x_3_9 <= 1\n",
      " 0 <= x_9_3 <= 1\n",
      " 0 <= x_3_10 <= 1\n",
      " 0 <= x_10_3 <= 1\n",
      " 0 <= x_4_5 <= 1\n",
      " 0 <= x_5_4 <= 1\n",
      " 0 <= x_4_6 <= 1\n",
      " 0 <= x_6_4 <= 1\n",
      " 0 <= x_4_7 <= 1\n",
      " 0 <= x_7_4 <= 1\n",
      " 0 <= x_4_8 <= 1\n",
      " 0 <= x_8_4 <= 1\n",
      " 0 <= x_4_9 <= 1\n",
      " 0 <= x_9_4 <= 1\n",
      " 0 <= x_5_6 <= 1\n",
      " 0 <= x_6_5 <= 1\n",
      " 0 <= x_5_7 <= 1\n",
      " 0 <= x_7_5 <= 1\n",
      " 0 <= x_5_8 <= 1\n",
      " 0 <= x_8_5 <= 1\n",
      " 0 <= x_5_9 <= 1\n",
      " 0 <= x_9_5 <= 1\n",
      " 0 <= x_6_7 <= 1\n",
      " 0 <= x_7_6 <= 1\n",
      " 0 <= x_6_8 <= 1\n",
      " 0 <= x_8_6 <= 1\n",
      " 0 <= x_6_9 <= 1\n",
      " 0 <= x_9_6 <= 1\n",
      " 0 <= x_7_8 <= 1\n",
      " 0 <= x_8_7 <= 1\n",
      " 0 <= x_7_9 <= 1\n",
      " 0 <= x_9_7 <= 1\n",
      " 0 <= x_7_10 <= 1\n",
      " 0 <= x_10_7 <= 1\n",
      " 0 <= x_8_9 <= 1\n",
      " 0 <= x_9_8 <= 1\n",
      " 0 <= x_8_10 <= 1\n",
      " 0 <= x_10_8 <= 1\n",
      " 0 <= x_9_10 <= 1\n",
      " 0 <= x_10_9 <= 1\n",
      "\n",
      "Binaries\n",
      " x_0_1 x_1_0 x_0_2 x_2_0 x_0_3 x_3_0 x_0_4 x_4_0 x_0_5 x_5_0 x_0_6 x_6_0 x_0_7\n",
      " x_7_0 x_0_8 x_8_0 x_0_9 x_9_0 x_0_10 x_10_0 x_1_2 x_2_1 x_3_4 x_4_3 x_3_6 x_6_3\n",
      " x_3_8 x_8_3 x_3_9 x_9_3 x_3_10 x_10_3 x_4_5 x_5_4 x_4_6 x_6_4 x_4_7 x_7_4 x_4_8\n",
      " x_8_4 x_4_9 x_9_4 x_5_6 x_6_5 x_5_7 x_7_5 x_5_8 x_8_5 x_5_9 x_9_5 x_6_7 x_7_6\n",
      " x_6_8 x_8_6 x_6_9 x_9_6 x_7_8 x_8_7 x_7_9 x_9_7 x_7_10 x_10_7 x_8_9 x_9_8\n",
      " x_8_10 x_10_8 x_9_10 x_10_9\n",
      "End\n",
      "\n"
     ]
    }
   ],
   "source": [
    "mdl = Model(name=\"VRP\")\n",
    "n_trucks = 3 # number of K trucks\n",
    "x = {}\n",
    "for i, j in G.edges():\n",
    "    x[(i, j)] = mdl.binary_var(name=f\"x_{i}_{j}\") # Adding route from company i to company j as a binary variable\n",
    "    x[(j, i)] = mdl.binary_var(name=f\"x_{j}_{i}\") # Adding route from company j to company i as a binary variable\n",
    "\n",
    "print(f\"The number of qubits needed to solve the problem is: {mdl.number_of_binary_variables}\")\n",
    "cost_func = mdl.sum(w[\"weight\"] * x[(i, j)] for i, j, w in G.edges(data=True)) + mdl.sum(w[\"weight\"] * x[(j, i)] for i, j, w in G.edges(data=True))\n",
    "mdl.minimize(cost_func)\n",
    "\n",
    "# Constraint 1a(yellow Fig. above): Only one truck goes out from company i \n",
    "for i in range(1, n_companies):\n",
    "    mdl.add_constraint(mdl.sum(x[i, j] for j in range(n_companies) if (i, j) in x.keys()) == 1)\n",
    "# Constraint 1b (yellow Fig. above): Only one truck comes into company j \n",
    "for j in range(1, n_companies):\n",
    "    mdl.add_constraint(mdl.sum(x[i, j] for i in range(n_companies) if (i, j) in x.keys()) == 1)\n",
    "# Constraint 2: (orange Fig. above) For the warehouse\n",
    "mdl.add_constraint(mdl.sum(x[i, 0] for i in range(1, n_companies)) == n_trucks)\n",
    "mdl.add_constraint(mdl.sum(x[0, j] for j in range(1, n_companies)) == n_trucks)\n",
    "\n",
    "# Constraint 3: (blue Fig. above) To eliminate sub-routes\n",
    "companies_list = list(range(1, n_companies))\n",
    "subroute_set = []\n",
    "for i in range(2, len(companies_list) + 1):\n",
    "    for comb in itertools.combinations(companies_list, i):\n",
    "        subroute_set.append(list(comb)) #subset points\n",
    "\n",
    "for subroute in subroute_set:\n",
    "    constraint_3 = []\n",
    "    for i, j in itertools.permutations(subroute, 2): #iterating over all the subset points\n",
    "        if (i, j) in x.keys():\n",
    "            constraint_3.append(x[(i,j)])\n",
    "        elif i == j:\n",
    "            pass\n",
    "        else:\n",
    "            constraint_3 = []\n",
    "            break\n",
    "    if len(constraint_3) != 0:\n",
    "        mdl.add_constraint(mdl.sum(constraint_3) <= len(subroute) - 1)\n",
    "\n",
    "quadratic_program = from_docplex_mp(mdl)\n",
    "print(quadratic_program.export_as_lp_string())"
   ]
  },
  {
   "cell_type": "markdown",
   "id": "1de52ed7",
   "metadata": {},
   "source": [
    "### Classical solution of the model\n",
    "\n",
    "Using docplex the python version of the well-known optimization solver **cplex**. We can obtain the result of the quadratic program developed above. The solution is:\n"
   ]
  },
  {
   "cell_type": "code",
   "execution_count": 7,
   "id": "2b1ae875",
   "metadata": {},
   "outputs": [
    {
     "name": "stdout",
     "output_type": "stream",
     "text": [
      "objective function value: 7.208211006395375\n",
      "variable values: x_0_1=1.0, x_1_0=0.0, x_0_2=0.0, x_2_0=1.0, x_0_3=0.0, x_3_0=0.0, x_0_4=0.0, x_4_0=0.0, x_0_5=1.0, x_5_0=0.0, x_0_6=0.0, x_6_0=0.0, x_0_7=0.0, x_7_0=1.0, x_0_8=1.0, x_8_0=1.0, x_0_9=0.0, x_9_0=0.0, x_0_10=0.0, x_10_0=0.0, x_1_2=1.0, x_2_1=0.0, x_3_4=0.0, x_4_3=1.0, x_3_6=0.0, x_6_3=0.0, x_3_8=0.0, x_8_3=0.0, x_3_9=1.0, x_9_3=0.0, x_3_10=0.0, x_10_3=0.0, x_4_5=0.0, x_5_4=0.0, x_4_6=0.0, x_6_4=1.0, x_4_7=0.0, x_7_4=0.0, x_4_8=0.0, x_8_4=0.0, x_4_9=0.0, x_9_4=0.0, x_5_6=1.0, x_6_5=0.0, x_5_7=0.0, x_7_5=0.0, x_5_8=0.0, x_8_5=0.0, x_5_9=0.0, x_9_5=0.0, x_6_7=0.0, x_7_6=0.0, x_6_8=0.0, x_8_6=0.0, x_6_9=0.0, x_9_6=0.0, x_7_8=0.0, x_8_7=0.0, x_7_9=0.0, x_9_7=0.0, x_7_10=0.0, x_10_7=1.0, x_8_9=0.0, x_9_8=0.0, x_8_10=0.0, x_10_8=0.0, x_9_10=1.0, x_10_9=0.0\n",
      "status: SUCCESS\n"
     ]
    }
   ],
   "source": [
    "sol = CplexOptimizer().solve(quadratic_program)\n",
    "print(sol.prettyprint())"
   ]
  },
  {
   "cell_type": "code",
   "execution_count": 8,
   "id": "86068af4",
   "metadata": {},
   "outputs": [
    {
     "data": {
      "image/png": "[encoded data removed]",
      "text/plain": [
       "<Figure size 432x288 with 1 Axes>"
      ]
     },
     "metadata": {},
     "output_type": "display_data"
    }
   ],
   "source": [
    "solution_cplex = sol.raw_results.as_name_dict()\n",
    "G_sol = nx.Graph()\n",
    "G_sol.add_nodes_from(range(n_companies))\n",
    "for i in solution_cplex:\n",
    "    nodes = i[2:].split(\"_\")\n",
    "    G_sol.add_edge(int(nodes[0]), int(nodes[1]))\n",
    "nx.draw(G_sol, pos=companies, with_labels=True, node_size=500,\n",
    "        edge_color=colors, width=1, font_color=\"white\",font_size=14,\n",
    "        node_color = [\"tab:red\"] + (n_companies-1)*[\"darkblue\"])"
   ]
  },
  {
   "cell_type": "markdown",
   "id": "75dfcdd4",
   "metadata": {},
   "source": [
    "## Quantum Solution\n",
    "\n",
    "Once we have the quadratic program of our model. We can use the qiskit optimization library to translate it into its QUBO representation. In this case, we have inequality constraints that in most cases need extra variables, known as **slack variables**. For this specific case, the number of variables increases from  68 to 196 to represent the inequality constraints. \n",
    "\n",
    "A further constraint is the number of qubits we can simulate. Unless we have a supercomputer, the best option to simulate the largest qubits number is using **qasm_simulator** from IBM in **runtime mode**. The maximum number of qubits we can simulate using the qasm_simulator is 32. For the case of real devices, we have a similar problem, we can only run experiments on a 7 qubits device (ibm_oslo) and 16 qubits device (ibmq_guadalupe) to which we have access.\n",
    "\n",
    "Therefore, using the previous solution we can reduce the number of variables choosing the correct set of variables for the **slack variables** and for most of the route connections between companies ij, the variables we will leave are distributed as follows for the three cases analized: \n",
    "\n",
    "1) Using 7 variables and replace the orhers with the optimal solution. From the vairables left 3 have a optimal solution equal to 1 and 4 equal to 0 (testing local machine and ibm_oslo **runtime**).\n",
    "\n",
    "2) Using 25 variables and replace the others with the optimal solution. From the vairables left 10 have a optimal solution equal to 1 and 15 equal to 0 (testing qasm_simulator **runtime**).\n"
   ]
  },
  {
   "cell_type": "code",
   "execution_count": 9,
   "id": "a8c818cb",
   "metadata": {},
   "outputs": [
    {
     "name": "stdout",
     "output_type": "stream",
     "text": [
      "To represent the inital problem with 68 variables, the QUBO representation needs 196 variables\n"
     ]
    }
   ],
   "source": [
    "qubo = QuadraticProgramToQubo(penalty=15).convert(quadratic_program)\n",
    "num_vars = qubo.get_num_binary_vars()\n",
    "print(f\"To represent the inital problem with {mdl.number_of_binary_variables} variables, the QUBO representation needs {num_vars} variables\")"
   ]
  },
  {
   "cell_type": "code",
   "execution_count": 10,
   "id": "83f7e5d2",
   "metadata": {},
   "outputs": [],
   "source": [
    "new_qubo = qubo.substitute_variables(sol.variables_dict)"
   ]
  },
  {
   "cell_type": "code",
   "execution_count": 11,
   "id": "b4c1b834",
   "metadata": {},
   "outputs": [
    {
     "name": "stdout",
     "output_type": "stream",
     "text": [
      "The solver needs 0.096 seconds to finish.\n"
     ]
    }
   ],
   "source": [
    "start = time.time()\n",
    "sol_slack = CplexOptimizer().solve(new_qubo)\n",
    "end = time.time() - start\n",
    "print(f\"The solver needs {np.round(end, 3)} seconds to finish.\")"
   ]
  },
  {
   "cell_type": "code",
   "execution_count": 12,
   "id": "95eaf242",
   "metadata": {},
   "outputs": [],
   "source": [
    "qubo_no_slack = qubo.substitute_variables(sol_slack.variables_dict)\n",
    "sol_no_slack = CplexOptimizer().solve(qubo_no_slack)"
   ]
  },
  {
   "cell_type": "code",
   "execution_count": 13,
   "id": "27a49bd9",
   "metadata": {},
   "outputs": [
    {
     "data": {
      "image/png": "[encoded data removed]",
      "text/plain": [
       "<Figure size 432x288 with 1 Axes>"
      ]
     },
     "metadata": {},
     "output_type": "display_data"
    }
   ],
   "source": [
    "solution_slack = sol_no_slack.raw_results.as_name_dict()\n",
    "G_sol_slack = nx.Graph()\n",
    "G_sol_slack.add_nodes_from(range(n_companies))\n",
    "for i in solution_slack:\n",
    "    nodes = i[2:].split(\"_\")\n",
    "    G_sol.add_edge(int(nodes[0]), int(nodes[1]))\n",
    "nx.draw(G_sol, pos=companies, with_labels=True, node_size=500,\n",
    "        edge_color=colors, width=1, font_color=\"white\",font_size=14,\n",
    "        node_color = [\"tab:red\"] + (n_companies-1)*[\"darkblue\"])"
   ]
  },
  {
   "cell_type": "code",
   "execution_count": 14,
   "id": "88a06873",
   "metadata": {},
   "outputs": [],
   "source": [
    "index_1s = [k for k, v in sol_no_slack.variables_dict.items() if v == 1]\n",
    "index_0s = [k for k, v in sol_no_slack.variables_dict.items() if v == 0]"
   ]
  },
  {
   "cell_type": "markdown",
   "id": "00b141ff",
   "metadata": {},
   "source": [
    "### Useful functions"
   ]
  },
  {
   "cell_type": "code",
   "execution_count": 128,
   "id": "e311281b",
   "metadata": {},
   "outputs": [],
   "source": [
    "def Optimization_QAOA(qubo, reps=1, optimizer=COBYLA(maxiter=1000), backend=None,\n",
    "                      shots=1024, alpha=1.0, provider=None, local=False, error_mitigation=False):\n",
    "    intermediate_info = {'nfev': [],\n",
    "                         'parameters': [],\n",
    "                         'stddev': [],\n",
    "                         'mean': []\n",
    "                             }\n",
    "    \n",
    "    def callback(nfev, parameters, mean, stddev):\n",
    "#         display(f\"Evaluation: {nfev}, Energy: {mean}, Std: {stddev}\")\n",
    "        intermediate_info['nfev'].append(nfev)\n",
    "        intermediate_info['parameters'].append(parameters)\n",
    "        intermediate_info['mean'].append(mean)\n",
    "        intermediate_info['stddev'].append(stddev)\n",
    "    \n",
    "    if local:\n",
    "        qaoa_mes = QAOA(optimizer=optimizer, reps=reps, quantum_instance=AerSimulator(),\n",
    "                        callback=callback)\n",
    "    else:\n",
    "        qaoa_mes = QAOAClient(provider=provider, backend=backend, reps=reps, alpha=alpha,\n",
    "                             shots=shots, callback=callback, optimizer=optimizer,\n",
    "                             optimization_level=3,measurement_error_mitigation=error_mitigation)\n",
    "    qaoa = MinimumEigenOptimizer(qaoa_mes)\n",
    "    result = qaoa.solve(qubo)\n",
    "    return result, intermediate_info"
   ]
  },
  {
   "cell_type": "code",
   "execution_count": 127,
   "id": "3148c273",
   "metadata": {},
   "outputs": [],
   "source": [
    "def Optimization_VQE(qubo, ansatz, optimizer=SPSA(maxiter=50), backend=None,\n",
    "                     shots=1024, provider=None, local=False, error_mitigation=False):\n",
    "\n",
    "    intermediate_info = {'nfev': [],\n",
    "                         'parameters': [],\n",
    "                         'stddev': [],\n",
    "                         'mean': []\n",
    "                         }\n",
    "\n",
    "    def callback(nfev, parameters, mean, stddev):\n",
    "#         display(f\"Evaluation: {nfev}, Energy: {mean}, Std: {stddev}\")\n",
    "        intermediate_info['nfev'].append(nfev)\n",
    "        intermediate_info['parameters'].append(parameters)\n",
    "        intermediate_info['mean'].append(mean)\n",
    "        intermediate_info['stddev'].append(stddev)\n",
    "        \n",
    "    if local:\n",
    "        vqe_mes = VQE(ansatz=ansatz, quantum_instance=AerSimulator(),\n",
    "                        callback=callback, optimizer=optimizer)\n",
    "    else:\n",
    "        vqe_mes = VQEClient(ansatz=ansatz, provider=provider, backend=backend, shots=shots,\n",
    "                        callback=callback, optimizer=optimizer,measurement_error_mitigation=error_mitigation)\n",
    "    vqe = MinimumEigenOptimizer(vqe_mes)\n",
    "    result = vqe.solve(qubo)\n",
    "    return result, intermediate_info"
   ]
  },
  {
   "cell_type": "code",
   "execution_count": 122,
   "id": "7ec392d6",
   "metadata": {},
   "outputs": [],
   "source": [
    "def graph(solution, solution_not_kept):\n",
    "    G = nx.Graph()\n",
    "    G.add_nodes_from(range(n_companies))\n",
    "    for k, v in solution.items():\n",
    "        if v == 1:\n",
    "            nodes = k[2:].split(\"_\")\n",
    "            G.add_edge(int(nodes[0]), int(nodes[1]))\n",
    "    for k, v in solution_not_kept.items():\n",
    "        if v == 1:\n",
    "            nodes = k[2:].split(\"_\")\n",
    "            G.add_edge(int(nodes[0]), int(nodes[1]))\n",
    "    return G"
   ]
  },
  {
   "cell_type": "markdown",
   "id": "6d45eb36",
   "metadata": {},
   "source": [
    "## Solution of the 7 variables with qiskit runtime and local machine\n",
    "\n",
    "We tested different models to see the applicability of the current model with ideal solutions using two classical optimizer ([SPSA](https://en.wikipedia.org/wiki/Simultaneous_perturbation_stochastic_approximation) and [COBYLA](https://qiskit.org/documentation/stubs/qiskit.algorithms.optimizers.COBYLA.html#:~:text=COBYLA%20is%20a%20numerical%20optimization,scipy.optimize.minimize%20COBYLA.)) for two quantum algorithms ([QAOA](https://qiskit.org/textbook/ch-applications/qaoa.html) with 2 layer repetitions and [VQE](https://pennylane.ai/qml/demos/tutorial_vqe.html) with ansatz [TwoLocal](https://qiskit.org/documentation/stubs/qiskit.circuit.library.TwoLocal.html), number of shots=1024 for both cases). Additionally, we run our model in *ibm_lagos* using [qiskit runtime](https://quantum-computing.ibm.com/lab/docs/iql/runtime/) with a mitigated and unmitigated results with the same settings. The figure below shows the results for the different cases, we see that all the simulations reach the ideal solution shown in the graphs of the left, while the solution for the oslo and lagos simulations do not reach the optimal point."
   ]
  },
  {
   "cell_type": "code",
   "execution_count": 105,
   "id": "81cc5753",
   "metadata": {},
   "outputs": [],
   "source": [
    "num_1s = 3\n",
    "num_0s = 4\n",
    "random.seed(1)\n",
    "keep_1s = random.sample(index_1s, num_1s)\n",
    "keep_0s = random.sample(index_0s, num_0s)\n",
    "sol_qubo = sol.variables_dict\n",
    "solution_not_kept7 = {i:sol_qubo[i] for i in sol_qubo.keys() if i not in keep_1s + keep_0s} \n",
    "\n",
    "qubo_7vars = qubo_no_slack.substitute_variables(solution_not_kept7)"
   ]
  },
  {
   "cell_type": "code",
   "execution_count": 98,
   "id": "13cba50a",
   "metadata": {},
   "outputs": [
    {
     "name": "stdout",
     "output_type": "stream",
     "text": [
      "\\ This file has been generated by DOcplex\n",
      "\\ ENCODING=ISO-8859-1\n",
      "\\Problem name: VRP\n",
      "\n",
      "Minimize\n",
      " obj: - 58.832732659039 x_2_0 - 59.526572232279 x_0_5 - 29.773713802415 x_0_6\n",
      "      - 119.218955212750 x_3_6 - 629.665666916984 x_6_4 - 329.617335307817 x_9_4\n",
      "      - 119.201513758697 x_9_7 + [ 60 x_2_0^2 + 60 x_0_5^2 + 60 x_0_5*x_0_6\n",
      "      + 60 x_0_6^2 + 60 x_0_6*x_3_6 + 270 x_3_6^2 + 240 x_3_6*x_6_4\n",
      "      + 120 x_3_6*x_9_4 + 630 x_6_4^2 + 660 x_6_4*x_9_4 + 240 x_6_4*x_9_7\n",
      "      + 630 x_9_4^2 + 540 x_9_4*x_9_7 + 570 x_9_7^2 ]/2 + 380.233182814698\n",
      "Subject To\n",
      "\n",
      "Bounds\n",
      " 0 <= x_2_0 <= 1\n",
      " 0 <= x_0_5 <= 1\n",
      " 0 <= x_0_6 <= 1\n",
      " 0 <= x_3_6 <= 1\n",
      " 0 <= x_6_4 <= 1\n",
      " 0 <= x_9_4 <= 1\n",
      " 0 <= x_9_7 <= 1\n",
      "\n",
      "Binaries\n",
      " x_2_0 x_0_5 x_0_6 x_3_6 x_6_4 x_9_4 x_9_7\n",
      "End\n",
      "\n"
     ]
    }
   ],
   "source": [
    "print(qubo_7vars.export_as_lp_string())"
   ]
  },
  {
   "cell_type": "markdown",
   "id": "4784f131",
   "metadata": {},
   "source": [
    "### Solving using QAOA with COBYLA and SPSA"
   ]
  },
  {
   "cell_type": "code",
   "execution_count": 41,
   "id": "b1a9a9e0",
   "metadata": {},
   "outputs": [],
   "source": [
    "sol7_local_qaoa_cobyla = Optimization_QAOA(qubo_7vars, reps=2, optimizer=COBYLA(maxiter=100), local=True)\n",
    "sol7_local_qaoa_spsa = Optimization_QAOA(qubo_7vars, reps=2, optimizer=SPSA(maxiter=100), local=True)"
   ]
  },
  {
   "cell_type": "code",
   "execution_count": 99,
   "id": "7688e583",
   "metadata": {},
   "outputs": [
    {
     "name": "stderr",
     "output_type": "stream",
     "text": [
      "ibmqfactory.load_account:WARNING:2022-07-27 08:01:23,140: Credentials are already in use. The existing account in the session will be replaced.\n"
     ]
    }
   ],
   "source": [
    "IBMQ.load_account()\n",
    "provider = IBMQ.get_provider(hub='ibm-q-community', group='cdl-hackathon', project='main')\n",
    "provider2 = IBMQ.get_provider(hub='ibm-q-research', group='guanajuato-1', project='main')"
   ]
  },
  {
   "cell_type": "code",
   "execution_count": 141,
   "id": "132548e5",
   "metadata": {},
   "outputs": [],
   "source": [
    "sol7_oslo_qaoa_cobyla = Optimization_QAOA(qubo_7vars, reps=2, local=False, backend=provider2.backend.ibm_oslo,\n",
    "                                       provider=provider2, optimizer=COBYLA(maxiter=50))"
   ]
  },
  {
   "cell_type": "code",
   "execution_count": 142,
   "id": "01943cb3",
   "metadata": {},
   "outputs": [],
   "source": [
    "sol7_oslo_qaoa_spsa = Optimization_QAOA(qubo_7vars, reps=2, local=False, backend=provider2.backend.ibm_oslo,\n",
    "                                       provider=provider2, optimizer=SPSA(maxiter=50))"
   ]
  },
  {
   "cell_type": "code",
   "execution_count": null,
   "id": "a9a1086c",
   "metadata": {},
   "outputs": [],
   "source": [
    "sol7_oslo_qaoa_spsa_mitig = Optimization_QAOA(qubo_7vars, reps=2, local=False, backend=provider2.backend.ibm_oslo,\n",
    "                                       provider=provider2, optimizer=SPSA(maxiter=50), error_mitigation=True)"
   ]
  },
  {
   "cell_type": "markdown",
   "id": "a5f0b485",
   "metadata": {},
   "source": [
    "### Solving using VQE and COBYLA- SPSA"
   ]
  },
  {
   "cell_type": "code",
   "execution_count": 117,
   "id": "baedb5d6",
   "metadata": {},
   "outputs": [],
   "source": [
    "ansatz = TwoLocal(qubo_7vars.get_num_vars(), rotation_blocks='ry', entanglement_blocks='cz')"
   ]
  },
  {
   "cell_type": "code",
   "execution_count": 121,
   "id": "178e65a3",
   "metadata": {},
   "outputs": [],
   "source": [
    "sol7_local_vqe_spsa = Optimization_VQE(qubo_7vars, ansatz, local=True, optimizer=SPSA(maxiter=200))\n",
    "sol7_local_vqe_cobyla = Optimization_VQE(qubo_7vars, ansatz, local=True, optimizer=COBYLA(maxiter=200))"
   ]
  },
  {
   "cell_type": "code",
   "execution_count": 131,
   "id": "5e20db6f",
   "metadata": {},
   "outputs": [],
   "source": [
    "sol7_lagos_vqe_cobyla = Optimization_VQE(qubo_7vars, ansatz, local=False, optimizer=COBYLA(maxiter=100),\n",
    "                                 backend=provider2.backend.ibm_lagos, provider=provider2)"
   ]
  },
  {
   "cell_type": "code",
   "execution_count": 124,
   "id": "eedc3b81",
   "metadata": {},
   "outputs": [],
   "source": [
    "sol7_lagos_vqe_spsa = Optimization_VQE(qubo_7vars, ansatz, local=False, optimizer=SPSA(maxiter=25),\n",
    "                                 backend=provider2.backend.ibm_lagos, provider=provider2)"
   ]
  },
  {
   "cell_type": "code",
   "execution_count": 129,
   "id": "14c496c7",
   "metadata": {},
   "outputs": [
    {
     "name": "stderr",
     "output_type": "stream",
     "text": [
      "/opt/anaconda3/envs/Avocados/lib/python3.8/site-packages/qiskit_optimization/algorithms/optimization_algorithm.py:138: UserWarning: The sum of probability of samples is not close to 1: f{sum_prob}\n",
      "  warn(\"The sum of probability of samples is not close to 1: f{sum_prob}\")\n"
     ]
    }
   ],
   "source": [
    "sol7_lagos_vqe_spsa2 = Optimization_VQE(qubo_7vars, ansatz, local=False, optimizer=SPSA(maxiter=25),\n",
    "                                 backend=provider2.backend.ibm_lagos, provider=provider2, error_mitigation=True)"
   ]
  },
  {
   "cell_type": "markdown",
   "id": "783417a0",
   "metadata": {},
   "source": [
    "## 7Qubits results of the simulations and Real Devices."
   ]
  },
  {
   "cell_type": "code",
   "execution_count": 139,
   "id": "d0b4173f",
   "metadata": {},
   "outputs": [
    {
     "data": {
      "image/png": "[encoded data removed]",
      "text/plain": [
       "<Figure size 432x288 with 1 Axes>"
      ]
     },
     "metadata": {
      "needs_background": "light"
     },
     "output_type": "display_data"
    }
   ],
   "source": [
    "plt.figure()\n",
    "plt.plot(sol7_lagos_vqe_spsa[1][\"mean\"], linestyle=\":\", color=\"seagreen\", label=\"VQE-Lagos-SPSA\")\n",
    "plt.plot(sol7_lagos_vqe_spsa2[1][\"mean\"], linestyle=\"-.\", color=\"indigo\", label=\"VQE-Lagos-SPSA-Mitig\")\n",
    "plt.plot(sol7_lagos_vqe_cobyla[1][\"mean\"], color=\"olive\", label=\"VQE-Lagos-COBYLA-Mitig\")\n",
    "plt.grid()\n",
    "plt.savefig(\"./Images/inset.png\")"
   ]
  },
  {
   "cell_type": "code",
   "execution_count": 145,
   "id": "faaa7dee",
   "metadata": {},
   "outputs": [
    {
     "data": {
      "image/png": "[encoded data removed]",
      "text/plain": [
       "<Figure size 432x288 with 1 Axes>"
      ]
     },
     "metadata": {
      "needs_background": "light"
     },
     "output_type": "display_data"
    }
   ],
   "source": [
    "plt.figure()\n",
    "plt.plot(sol7_oslo_qaoa_spsa[1][\"mean\"], linestyle=\":\", color=\"seagreen\", label=\"QAOA-Oslo-SPSA\")\n",
    "plt.plot(sol7_oslo_qaoa_cobyla[1][\"mean\"], color=\"olive\", label=\"QAOA-Oslo-COBYLA\")\n",
    "plt.grid()\n",
    "plt.savefig(\"./Images/inset2.png\")"
   ]
  },
  {
   "cell_type": "code",
   "execution_count": null,
   "id": "afb940a6",
   "metadata": {},
   "outputs": [],
   "source": [
    "sol7 = {\"local_qaoa_cobyla\":sol7_local_qaoa_cobyla, \"local_vqe_cobyla\":sol7_local_vqe_cobyla,\n",
    "       \"local_qaoa_spsa\":sol7_local_qaoa_spsa, \"local_vqe_spsa\":sol7_local_vqe_spsa,\n",
    "       \"oslo_qaoa_cobyla\":sol7_oslo_qaoa_cobyla, \"oslo_qaoa_spsa\":sol7_oslo_qaoa_spsa,\n",
    "       \"lagos_vqe_spsa\":sol7_lagos_vqe_spsa, \"lagos_vqe_cobyla_mitig\":sol7_lagos_vqe_cobyla}\n",
    "np.save(\"./Data/sol7.npy\", sol7)"
   ]
  },
  {
   "cell_type": "code",
   "execution_count": 144,
   "id": "227fdf9f",
   "metadata": {},
   "outputs": [
    {
     "data": {
      "image/png": "[encoded data removed]",
      "text/plain": [
       "<Figure size 1080x1296 with 6 Axes>"
      ]
     },
     "metadata": {},
     "output_type": "display_data"
    }
   ],
   "source": [
    "sol7 = [sol7_local_qaoa_cobyla, sol7_local_vqe_cobyla, sol7_local_qaoa_spsa, sol7_local_vqe_spsa]\n",
    "q_alg = [\"QAOA\", \"VQE\"]\n",
    "fig, ax = plt.subplots(3,2, figsize=(15,18))\n",
    "ax[0,0].plot(sol7_local_qaoa_cobyla[1][\"mean\"], color=\"darkblue\", label=\"QAOA-COBYLA\")\n",
    "ax[0,0].plot(sol7_local_qaoa_spsa[1][\"mean\"], linestyle=\"--\", color=\"lightcoral\", label=\"QAOA-SPSA\")\n",
    "ax[0,0].plot(sol7_oslo_qaoa_spsa[1][\"mean\"], linestyle=\":\", color=\"seagreen\", label=\"QAOA-Oslo-SPSA\")\n",
    "ax[0,0].plot(sol7_oslo_qaoa_cobyla[1][\"mean\"], color=\"olive\", label=\"QAOA-Oslo-COBYLA\")\n",
    "\n",
    "ax[0,1].plot(sol7_local_vqe_cobyla[1][\"mean\"], color=\"darkblue\", label=\"VQE-COBYLA\")\n",
    "ax[0,1].plot(sol7_local_vqe_spsa[1][\"mean\"], linestyle=\"--\", color=\"lightcoral\", label=\"VQE-SPSA\")\n",
    "ax[0,1].plot(sol7_lagos_vqe_spsa[1][\"mean\"], linestyle=\":\", color=\"seagreen\", label=\"VQE-Lagos-SPSA\")\n",
    "ax[0,1].plot(sol7_lagos_vqe_spsa2[1][\"mean\"], linestyle=\"-.\", color=\"indigo\", label=\"VQE-Lagos-SPSA-Mitig\")\n",
    "ax[0,1].plot(sol7_lagos_vqe_cobyla[1][\"mean\"], color=\"olive\", label=\"VQE-Lagos-COBYLA-Mitig\")\n",
    "\n",
    "for i in range(2):\n",
    "    ax[0,i].set_xlabel(\"Iterations\", fontsize=14)\n",
    "    ax[0,i].set_ylabel(\"Cost\", fontsize=14)\n",
    "    ax[0,i].legend()\n",
    "    ax[0,i].grid()\n",
    "    plt.sca(ax[1,i])\n",
    "    nx.draw(graph(sol7[i][0].variables_dict,solution_not_kept7), pos=companies, with_labels=True, node_size=500,\n",
    "        edge_color=colors, width=1, font_color=\"white\",font_size=14,\n",
    "        node_color = [\"tab:red\"] + (n_companies-1)*[\"darkblue\"])\n",
    "    ax[1,i].set_title(f\"{q_alg[i]}-COBYLA\", fontsize=14)\n",
    "    plt.sca(ax[2,i])\n",
    "    nx.draw(graph(sol7[i+2][0].variables_dict,solution_not_kept7), pos=companies, with_labels=True, node_size=500,\n",
    "        edge_color=colors, width=1, font_color=\"white\",font_size=14,\n",
    "        node_color = [\"tab:red\"] + (n_companies-1)*[\"darkblue\"])\n",
    "    ax[2,i].set_title(f\"{q_alg[i]}-SPSA\", fontsize=14)\n",
    "    \n",
    "plt.savefig(\"./Images/Sol7Q.png\")"
   ]
  },
  {
   "cell_type": "markdown",
   "id": "b709da9d",
   "metadata": {},
   "source": [
    "## Solution of the 15 variables with qiskit runtime on qasm_simulator\n",
    "\n",
    "For the case of 15 qubits, the solution includes only QAOA (with 3 layers repetitions) and VQE (with [TwoLocal ansatz](https://qiskit.org/documentation/stubs/qiskit.circuit.library.TwoLocal.html)) with the classic optimizer COBYLA. The results were obtained from qiskit runtime and the ideal simulator ibmq_qasm_simulator. As it is shown in the figure below the QAOA algorithm do not reach the solution while VQE can reach it. \n"
   ]
  },
  {
   "cell_type": "code",
   "execution_count": 90,
   "id": "f0a77974",
   "metadata": {},
   "outputs": [],
   "source": [
    "num_1s = 5\n",
    "num_0s = 10\n",
    "random.seed(1)\n",
    "keep_1s = random.sample(index_1s, num_1s)\n",
    "keep_0s = random.sample(index_0s, num_0s)\n",
    "sol_qubo = sol.variables_dict\n",
    "solution_not_kept = {i:sol_qubo[i] for i in sol_qubo.keys() if i not in keep_1s + keep_0s} \n",
    "\n",
    "qubo_15vars = qubo_no_slack.substitute_variables(solution_not_kept)"
   ]
  },
  {
   "cell_type": "code",
   "execution_count": 54,
   "id": "6056bb4c",
   "metadata": {},
   "outputs": [],
   "source": [
    "sol15_qasm_qaoa_cobyla = Optimization_QAOA(qubo_15vars, reps=3, local=False, backend=provider2.backend.ibmq_qasm_simulator,\n",
    "                                       provider=provider2, optimizer=COBYLA(maxiter=100))"
   ]
  },
  {
   "cell_type": "code",
   "execution_count": 91,
   "id": "23384d07",
   "metadata": {},
   "outputs": [
    {
     "data": {
      "image/png": "[encoded data removed]",
      "text/plain": [
       "<Figure size 432x288 with 1 Axes>"
      ]
     },
     "metadata": {},
     "output_type": "display_data"
    }
   ],
   "source": [
    "solution15_qaoa =  sol15_qasm_qaoa_cobyla[0].variables_dict\n",
    "G_sol15_qaoa = nx.Graph()\n",
    "G_sol15_qaoa.add_nodes_from(range(n_companies))\n",
    "for k, v in solution15_qaoa.items():\n",
    "    if v == 1:\n",
    "        nodes = k[2:].split(\"_\")\n",
    "        G_sol15_qaoa.add_edge(int(nodes[0]), int(nodes[1]))\n",
    "for k, v in solution_not_kept.items():\n",
    "    if v == 1:\n",
    "        nodes = k[2:].split(\"_\")\n",
    "        G_sol15_qaoa.add_edge(int(nodes[0]), int(nodes[1]))\n",
    "nx.draw(G_sol15_qaoa, pos=companies, with_labels=True, node_size=500,\n",
    "        edge_color=colors, width=1, font_color=\"white\",font_size=14,\n",
    "        node_color = [\"tab:red\"] + (n_companies-1)*[\"darkblue\"])"
   ]
  },
  {
   "cell_type": "code",
   "execution_count": null,
   "id": "e67b0b35",
   "metadata": {},
   "outputs": [],
   "source": [
    "sol15_qasm_qaoa_spsa = Optimization_QAOA(qubo_15vars, reps=3, local=False, backend=provider2.backend.ibmq_qasm_simulator,\n",
    "                                       provider=provider2, optimizer=SPSA(maxiter=25))"
   ]
  },
  {
   "cell_type": "code",
   "execution_count": 53,
   "id": "be240b70",
   "metadata": {},
   "outputs": [
    {
     "data": {
      "text/plain": [
       "'Evaluation: 1, Energy: -580.4372238659056, Std: 21.248365972542896'"
      ]
     },
     "metadata": {},
     "output_type": "display_data"
    },
    {
     "data": {
      "text/plain": [
       "'Evaluation: 2, Energy: -570.4474989346885, Std: 22.567442443917827'"
      ]
     },
     "metadata": {},
     "output_type": "display_data"
    },
    {
     "data": {
      "text/plain": [
       "'Evaluation: 3, Energy: -629.445819411282, Std: 20.198299006491634'"
      ]
     },
     "metadata": {},
     "output_type": "display_data"
    },
    {
     "data": {
      "text/plain": [
       "'Evaluation: 4, Energy: -644.0342711305796, Std: 18.62195623091544'"
      ]
     },
     "metadata": {},
     "output_type": "display_data"
    },
    {
     "data": {
      "text/plain": [
       "'Evaluation: 5, Energy: -559.9608195382825, Std: 21.015037406744145'"
      ]
     },
     "metadata": {},
     "output_type": "display_data"
    },
    {
     "data": {
      "text/plain": [
       "'Evaluation: 6, Energy: -601.8525692437544, Std: 21.216848145426756'"
      ]
     },
     "metadata": {},
     "output_type": "display_data"
    },
    {
     "data": {
      "text/plain": [
       "'Evaluation: 7, Energy: -583.8760375455167, Std: 21.708906395147256'"
      ]
     },
     "metadata": {},
     "output_type": "display_data"
    },
    {
     "data": {
      "text/plain": [
       "'Evaluation: 8, Energy: -550.9704819443926, Std: 24.77726613021149'"
      ]
     },
     "metadata": {},
     "output_type": "display_data"
    },
    {
     "data": {
      "text/plain": [
       "'Evaluation: 9, Energy: -613.2152546558499, Std: 22.40855702601374'"
      ]
     },
     "metadata": {},
     "output_type": "display_data"
    },
    {
     "data": {
      "text/plain": [
       "'Evaluation: 10, Energy: -498.0799342514472, Std: 23.87542068731265'"
      ]
     },
     "metadata": {},
     "output_type": "display_data"
    },
    {
     "data": {
      "text/plain": [
       "'Evaluation: 11, Energy: -561.8193217762555, Std: 21.479325502166354'"
      ]
     },
     "metadata": {},
     "output_type": "display_data"
    },
    {
     "data": {
      "text/plain": [
       "'Evaluation: 12, Energy: -449.3050973753332, Std: 25.43904280649126'"
      ]
     },
     "metadata": {},
     "output_type": "display_data"
    },
    {
     "data": {
      "text/plain": [
       "'Evaluation: 13, Energy: -577.3645927874339, Std: 20.827044648075198'"
      ]
     },
     "metadata": {},
     "output_type": "display_data"
    },
    {
     "data": {
      "text/plain": [
       "'Evaluation: 14, Energy: -577.456804758038, Std: 22.414176614137162'"
      ]
     },
     "metadata": {},
     "output_type": "display_data"
    },
    {
     "data": {
      "text/plain": [
       "'Evaluation: 15, Energy: -524.504643654027, Std: 23.2543429390218'"
      ]
     },
     "metadata": {},
     "output_type": "display_data"
    },
    {
     "data": {
      "text/plain": [
       "'Evaluation: 16, Energy: -584.8529287257521, Std: 20.608672645600787'"
      ]
     },
     "metadata": {},
     "output_type": "display_data"
    },
    {
     "data": {
      "text/plain": [
       "'Evaluation: 17, Energy: -611.0422325643189, Std: 21.014342026820596'"
      ]
     },
     "metadata": {},
     "output_type": "display_data"
    },
    {
     "data": {
      "text/plain": [
       "'Evaluation: 18, Energy: -589.2245068446481, Std: 22.261314491782443'"
      ]
     },
     "metadata": {},
     "output_type": "display_data"
    },
    {
     "data": {
      "text/plain": [
       "'Evaluation: 19, Energy: -607.865351326638, Std: 20.061879380976055'"
      ]
     },
     "metadata": {},
     "output_type": "display_data"
    },
    {
     "data": {
      "text/plain": [
       "'Evaluation: 20, Energy: -589.9559869663308, Std: 20.401088172878993'"
      ]
     },
     "metadata": {},
     "output_type": "display_data"
    },
    {
     "data": {
      "text/plain": [
       "'Evaluation: 21, Energy: -554.1500778207792, Std: 22.544478665192955'"
      ]
     },
     "metadata": {},
     "output_type": "display_data"
    },
    {
     "data": {
      "text/plain": [
       "'Evaluation: 22, Energy: -565.0040747531388, Std: 20.229848579742864'"
      ]
     },
     "metadata": {},
     "output_type": "display_data"
    },
    {
     "data": {
      "text/plain": [
       "'Evaluation: 23, Energy: -535.5700849669718, Std: 23.14144890916821'"
      ]
     },
     "metadata": {},
     "output_type": "display_data"
    },
    {
     "data": {
      "text/plain": [
       "'Evaluation: 24, Energy: -568.6731825957365, Std: 21.521953264924445'"
      ]
     },
     "metadata": {},
     "output_type": "display_data"
    },
    {
     "data": {
      "text/plain": [
       "'Evaluation: 25, Energy: -546.8582010572535, Std: 21.73221223792924'"
      ]
     },
     "metadata": {},
     "output_type": "display_data"
    },
    {
     "data": {
      "text/plain": [
       "'Evaluation: 26, Energy: -485.63313492564447, Std: 23.61297093734926'"
      ]
     },
     "metadata": {},
     "output_type": "display_data"
    },
    {
     "data": {
      "text/plain": [
       "'Evaluation: 27, Energy: -508.40401276404015, Std: 22.965189992624996'"
      ]
     },
     "metadata": {},
     "output_type": "display_data"
    },
    {
     "data": {
      "text/plain": [
       "'Evaluation: 28, Energy: -672.5015737393372, Std: 21.933109478200986'"
      ]
     },
     "metadata": {},
     "output_type": "display_data"
    },
    {
     "data": {
      "text/plain": [
       "'Evaluation: 29, Energy: -607.3896096849571, Std: 27.07932037331175'"
      ]
     },
     "metadata": {},
     "output_type": "display_data"
    },
    {
     "data": {
      "text/plain": [
       "'Evaluation: 30, Energy: -582.2304218502167, Std: 24.21275223491138'"
      ]
     },
     "metadata": {},
     "output_type": "display_data"
    },
    {
     "data": {
      "text/plain": [
       "'Evaluation: 31, Energy: -696.0709879783643, Std: 22.616020736392766'"
      ]
     },
     "metadata": {},
     "output_type": "display_data"
    },
    {
     "data": {
      "text/plain": [
       "'Evaluation: 32, Energy: -695.0200910325115, Std: 22.530743287774616'"
      ]
     },
     "metadata": {},
     "output_type": "display_data"
    },
    {
     "data": {
      "text/plain": [
       "'Evaluation: 33, Energy: -661.7480747726969, Std: 21.898347863345563'"
      ]
     },
     "metadata": {},
     "output_type": "display_data"
    },
    {
     "data": {
      "text/plain": [
       "'Evaluation: 34, Energy: -724.3905680356443, Std: 22.01981472959951'"
      ]
     },
     "metadata": {},
     "output_type": "display_data"
    },
    {
     "data": {
      "text/plain": [
       "'Evaluation: 35, Energy: -664.8409757745736, Std: 22.75809986709807'"
      ]
     },
     "metadata": {},
     "output_type": "display_data"
    },
    {
     "data": {
      "text/plain": [
       "'Evaluation: 36, Energy: -638.053210956126, Std: 23.36397871850549'"
      ]
     },
     "metadata": {},
     "output_type": "display_data"
    },
    {
     "data": {
      "text/plain": [
       "'Evaluation: 37, Energy: -622.375875030731, Std: 25.074011711001372'"
      ]
     },
     "metadata": {},
     "output_type": "display_data"
    },
    {
     "data": {
      "text/plain": [
       "'Evaluation: 38, Energy: -545.5333152468666, Std: 25.818674349612223'"
      ]
     },
     "metadata": {},
     "output_type": "display_data"
    },
    {
     "data": {
      "text/plain": [
       "'Evaluation: 39, Energy: -691.9991098867285, Std: 23.070517551895108'"
      ]
     },
     "metadata": {},
     "output_type": "display_data"
    },
    {
     "data": {
      "text/plain": [
       "'Evaluation: 40, Energy: -557.0029039091391, Std: 25.598595877285288'"
      ]
     },
     "metadata": {},
     "output_type": "display_data"
    },
    {
     "data": {
      "text/plain": [
       "'Evaluation: 41, Energy: -602.5058616985317, Std: 24.51977323802882'"
      ]
     },
     "metadata": {},
     "output_type": "display_data"
    },
    {
     "data": {
      "text/plain": [
       "'Evaluation: 42, Energy: -515.8069208724316, Std: 27.347802591857576'"
      ]
     },
     "metadata": {},
     "output_type": "display_data"
    },
    {
     "data": {
      "text/plain": [
       "'Evaluation: 43, Energy: -644.4201120685387, Std: 21.916402338444176'"
      ]
     },
     "metadata": {},
     "output_type": "display_data"
    },
    {
     "data": {
      "text/plain": [
       "'Evaluation: 44, Energy: -605.1589770185915, Std: 24.35072833155374'"
      ]
     },
     "metadata": {},
     "output_type": "display_data"
    },
    {
     "data": {
      "text/plain": [
       "'Evaluation: 45, Energy: -558.9632477396307, Std: 24.63601669902785'"
      ]
     },
     "metadata": {},
     "output_type": "display_data"
    },
    {
     "data": {
      "text/plain": [
       "'Evaluation: 46, Energy: -660.8080998633912, Std: 22.716426615546315'"
      ]
     },
     "metadata": {},
     "output_type": "display_data"
    },
    {
     "data": {
      "text/plain": [
       "'Evaluation: 47, Energy: -697.3319238816176, Std: 21.877857008726224'"
      ]
     },
     "metadata": {},
     "output_type": "display_data"
    },
    {
     "data": {
      "text/plain": [
       "'Evaluation: 48, Energy: -633.901529378183, Std: 23.584365608862036'"
      ]
     },
     "metadata": {},
     "output_type": "display_data"
    },
    {
     "data": {
      "text/plain": [
       "'Evaluation: 49, Energy: -698.1243528763184, Std: 22.46723681493793'"
      ]
     },
     "metadata": {},
     "output_type": "display_data"
    },
    {
     "data": {
      "text/plain": [
       "'Evaluation: 50, Energy: -665.5459693507828, Std: 21.701893143172295'"
      ]
     },
     "metadata": {},
     "output_type": "display_data"
    },
    {
     "data": {
      "text/plain": [
       "'Evaluation: 51, Energy: -646.5513160070929, Std: 23.662794944978412'"
      ]
     },
     "metadata": {},
     "output_type": "display_data"
    },
    {
     "data": {
      "text/plain": [
       "'Evaluation: 52, Energy: -676.0590999663407, Std: 22.404952133818064'"
      ]
     },
     "metadata": {},
     "output_type": "display_data"
    },
    {
     "data": {
      "text/plain": [
       "'Evaluation: 53, Energy: -641.1758588535123, Std: 22.36601166899659'"
      ]
     },
     "metadata": {},
     "output_type": "display_data"
    },
    {
     "data": {
      "text/plain": [
       "'Evaluation: 54, Energy: -667.389389269687, Std: 24.535091660043125'"
      ]
     },
     "metadata": {},
     "output_type": "display_data"
    },
    {
     "data": {
      "text/plain": [
       "'Evaluation: 55, Energy: -615.2027076562787, Std: 23.17169022998951'"
      ]
     },
     "metadata": {},
     "output_type": "display_data"
    },
    {
     "data": {
      "text/plain": [
       "'Evaluation: 56, Energy: -570.3650334265899, Std: 22.61613319088157'"
      ]
     },
     "metadata": {},
     "output_type": "display_data"
    },
    {
     "data": {
      "text/plain": [
       "'Evaluation: 57, Energy: -584.2251535371134, Std: 23.1082257298509'"
      ]
     },
     "metadata": {},
     "output_type": "display_data"
    },
    {
     "data": {
      "text/plain": [
       "'Evaluation: 58, Energy: -590.5546045015793, Std: 23.517770286221985'"
      ]
     },
     "metadata": {},
     "output_type": "display_data"
    },
    {
     "data": {
      "text/plain": [
       "'Evaluation: 59, Energy: -594.6799569487896, Std: 24.312702781574437'"
      ]
     },
     "metadata": {},
     "output_type": "display_data"
    },
    {
     "data": {
      "text/plain": [
       "'Evaluation: 60, Energy: -622.6988272434783, Std: 22.387363315549777'"
      ]
     },
     "metadata": {},
     "output_type": "display_data"
    },
    {
     "data": {
      "text/plain": [
       "'Evaluation: 61, Energy: -672.4038206926742, Std: 21.949781134495822'"
      ]
     },
     "metadata": {},
     "output_type": "display_data"
    },
    {
     "data": {
      "text/plain": [
       "'Evaluation: 62, Energy: -936.6718953562757, Std: 12.332222043339705'"
      ]
     },
     "metadata": {},
     "output_type": "display_data"
    },
    {
     "data": {
      "text/plain": [
       "'Evaluation: 63, Energy: -883.0057133212217, Std: 13.916878561470847'"
      ]
     },
     "metadata": {},
     "output_type": "display_data"
    },
    {
     "data": {
      "text/plain": [
       "'Evaluation: 64, Energy: -956.8383482797595, Std: 11.969976535777935'"
      ]
     },
     "metadata": {},
     "output_type": "display_data"
    },
    {
     "data": {
      "text/plain": [
       "'Evaluation: 65, Energy: -946.5549029223615, Std: 12.368656094209243'"
      ]
     },
     "metadata": {},
     "output_type": "display_data"
    },
    {
     "data": {
      "text/plain": [
       "'Evaluation: 66, Energy: -947.7606490910514, Std: 12.75631789268945'"
      ]
     },
     "metadata": {},
     "output_type": "display_data"
    },
    {
     "data": {
      "text/plain": [
       "'Evaluation: 67, Energy: -892.1039146507121, Std: 14.087447705103743'"
      ]
     },
     "metadata": {},
     "output_type": "display_data"
    },
    {
     "data": {
      "text/plain": [
       "'Evaluation: 68, Energy: -967.6012990065369, Std: 11.774367547370963'"
      ]
     },
     "metadata": {},
     "output_type": "display_data"
    },
    {
     "data": {
      "text/plain": [
       "'Evaluation: 69, Energy: -945.5893188978511, Std: 13.062749727352493'"
      ]
     },
     "metadata": {},
     "output_type": "display_data"
    },
    {
     "data": {
      "text/plain": [
       "'Evaluation: 70, Energy: -955.6494832648829, Std: 12.460607461555206'"
      ]
     },
     "metadata": {},
     "output_type": "display_data"
    },
    {
     "data": {
      "text/plain": [
       "'Evaluation: 71, Energy: -974.0348542345727, Std: 12.105674100386462'"
      ]
     },
     "metadata": {},
     "output_type": "display_data"
    },
    {
     "data": {
      "text/plain": [
       "'Evaluation: 72, Energy: -942.3059052122653, Std: 13.47722956222804'"
      ]
     },
     "metadata": {},
     "output_type": "display_data"
    },
    {
     "data": {
      "text/plain": [
       "'Evaluation: 73, Energy: -954.7714980846362, Std: 12.086437929924967'"
      ]
     },
     "metadata": {},
     "output_type": "display_data"
    },
    {
     "data": {
      "text/plain": [
       "'Evaluation: 74, Energy: -946.6690721434156, Std: 12.987797021108936'"
      ]
     },
     "metadata": {},
     "output_type": "display_data"
    },
    {
     "data": {
      "text/plain": [
       "'Evaluation: 75, Energy: -914.6680054752067, Std: 13.613353655168487'"
      ]
     },
     "metadata": {},
     "output_type": "display_data"
    },
    {
     "data": {
      "text/plain": [
       "'Evaluation: 76, Energy: -954.227706544618, Std: 12.741320493602561'"
      ]
     },
     "metadata": {},
     "output_type": "display_data"
    },
    {
     "data": {
      "text/plain": [
       "'Evaluation: 77, Energy: -982.683394276828, Std: 12.086341950215248'"
      ]
     },
     "metadata": {},
     "output_type": "display_data"
    },
    {
     "data": {
      "text/plain": [
       "'Evaluation: 78, Energy: -982.5209569633362, Std: 11.750597116895388'"
      ]
     },
     "metadata": {},
     "output_type": "display_data"
    },
    {
     "data": {
      "text/plain": [
       "'Evaluation: 79, Energy: -963.1282158921664, Std: 11.44041099381524'"
      ]
     },
     "metadata": {},
     "output_type": "display_data"
    },
    {
     "data": {
      "text/plain": [
       "'Evaluation: 80, Energy: -981.6522590336909, Std: 11.775642591936494'"
      ]
     },
     "metadata": {},
     "output_type": "display_data"
    },
    {
     "data": {
      "text/plain": [
       "'Evaluation: 81, Energy: -1008.4471966105398, Std: 10.918873318600648'"
      ]
     },
     "metadata": {},
     "output_type": "display_data"
    },
    {
     "data": {
      "text/plain": [
       "'Evaluation: 82, Energy: -1005.7369761580894, Std: 11.189962616835816'"
      ]
     },
     "metadata": {},
     "output_type": "display_data"
    },
    {
     "data": {
      "text/plain": [
       "'Evaluation: 83, Energy: -994.684635645674, Std: 10.494398442550358'"
      ]
     },
     "metadata": {},
     "output_type": "display_data"
    },
    {
     "data": {
      "text/plain": [
       "'Evaluation: 84, Energy: -991.5482986953139, Std: 11.273411207778322'"
      ]
     },
     "metadata": {},
     "output_type": "display_data"
    },
    {
     "data": {
      "text/plain": [
       "'Evaluation: 85, Energy: -1002.2692820038795, Std: 10.283347704328078'"
      ]
     },
     "metadata": {},
     "output_type": "display_data"
    },
    {
     "data": {
      "text/plain": [
       "'Evaluation: 86, Energy: -997.7360380296738, Std: 10.278735656308253'"
      ]
     },
     "metadata": {},
     "output_type": "display_data"
    },
    {
     "data": {
      "text/plain": [
       "'Evaluation: 87, Energy: -1031.971686922621, Std: 11.495806590919296'"
      ]
     },
     "metadata": {},
     "output_type": "display_data"
    },
    {
     "data": {
      "text/plain": [
       "'Evaluation: 88, Energy: -1019.6444747874004, Std: 12.018075936164985'"
      ]
     },
     "metadata": {},
     "output_type": "display_data"
    },
    {
     "data": {
      "text/plain": [
       "'Evaluation: 89, Energy: -893.5985894883952, Std: 12.367676248369023'"
      ]
     },
     "metadata": {},
     "output_type": "display_data"
    },
    {
     "data": {
      "text/plain": [
       "'Evaluation: 90, Energy: -1066.6943874456338, Std: 11.320145017683116'"
      ]
     },
     "metadata": {},
     "output_type": "display_data"
    },
    {
     "data": {
      "text/plain": [
       "'Evaluation: 91, Energy: -947.4491495775563, Std: 11.892992071008253'"
      ]
     },
     "metadata": {},
     "output_type": "display_data"
    },
    {
     "data": {
      "text/plain": [
       "'Evaluation: 92, Energy: -1030.3888773974609, Std: 12.183036909853985'"
      ]
     },
     "metadata": {},
     "output_type": "display_data"
    },
    {
     "data": {
      "text/plain": [
       "'Evaluation: 93, Energy: -1074.0500617765329, Std: 11.009495097288077'"
      ]
     },
     "metadata": {},
     "output_type": "display_data"
    },
    {
     "data": {
      "text/plain": [
       "'Evaluation: 94, Energy: -1089.0235575875413, Std: 11.328801574796973'"
      ]
     },
     "metadata": {},
     "output_type": "display_data"
    },
    {
     "data": {
      "text/plain": [
       "'Evaluation: 95, Energy: -1077.148611936441, Std: 12.058863617042038'"
      ]
     },
     "metadata": {},
     "output_type": "display_data"
    },
    {
     "data": {
      "text/plain": [
       "'Evaluation: 96, Energy: -1060.692668879035, Std: 11.029480795384462'"
      ]
     },
     "metadata": {},
     "output_type": "display_data"
    },
    {
     "data": {
      "text/plain": [
       "'Evaluation: 97, Energy: -1102.126096750582, Std: 10.511221134731787'"
      ]
     },
     "metadata": {},
     "output_type": "display_data"
    },
    {
     "data": {
      "text/plain": [
       "'Evaluation: 98, Energy: -1114.5276526763375, Std: 10.694530099775605'"
      ]
     },
     "metadata": {},
     "output_type": "display_data"
    },
    {
     "data": {
      "text/plain": [
       "'Evaluation: 99, Energy: -1044.8985731835971, Std: 10.949638054795871'"
      ]
     },
     "metadata": {},
     "output_type": "display_data"
    },
    {
     "data": {
      "text/plain": [
       "'Evaluation: 100, Energy: -1101.3781527390524, Std: 10.410431966103772'"
      ]
     },
     "metadata": {},
     "output_type": "display_data"
    },
    {
     "data": {
      "text/plain": [
       "'Evaluation: 101, Energy: -1149.5814231166767, Std: 9.153215253002031'"
      ]
     },
     "metadata": {},
     "output_type": "display_data"
    },
    {
     "data": {
      "text/plain": [
       "'Evaluation: 102, Energy: -1133.0015357065192, Std: 9.383433518967882'"
      ]
     },
     "metadata": {},
     "output_type": "display_data"
    },
    {
     "data": {
      "text/plain": [
       "'Evaluation: 103, Energy: -1158.9779523187253, Std: 9.378395513335512'"
      ]
     },
     "metadata": {},
     "output_type": "display_data"
    },
    {
     "data": {
      "text/plain": [
       "'Evaluation: 104, Energy: -1139.0360789821414, Std: 9.438291254703394'"
      ]
     },
     "metadata": {},
     "output_type": "display_data"
    },
    {
     "data": {
      "text/plain": [
       "'Evaluation: 105, Energy: -1149.504837515996, Std: 8.742742007573208'"
      ]
     },
     "metadata": {},
     "output_type": "display_data"
    },
    {
     "data": {
      "text/plain": [
       "'Evaluation: 106, Energy: -1136.9005254690849, Std: 9.006315661083427'"
      ]
     },
     "metadata": {},
     "output_type": "display_data"
    },
    {
     "data": {
      "text/plain": [
       "'Evaluation: 107, Energy: -1175.3124999070906, Std: 8.749660466994351'"
      ]
     },
     "metadata": {},
     "output_type": "display_data"
    },
    {
     "data": {
      "text/plain": [
       "'Evaluation: 108, Energy: -1171.589158891284, Std: 8.672586363010828'"
      ]
     },
     "metadata": {},
     "output_type": "display_data"
    },
    {
     "data": {
      "text/plain": [
       "'Evaluation: 109, Energy: -1182.858715536197, Std: 9.448799691080296'"
      ]
     },
     "metadata": {},
     "output_type": "display_data"
    },
    {
     "data": {
      "text/plain": [
       "'Evaluation: 110, Energy: -1173.0107697987762, Std: 9.05190331455625'"
      ]
     },
     "metadata": {},
     "output_type": "display_data"
    },
    {
     "data": {
      "text/plain": [
       "'Evaluation: 111, Energy: -1176.0619936716175, Std: 8.786236630667913'"
      ]
     },
     "metadata": {},
     "output_type": "display_data"
    },
    {
     "data": {
      "text/plain": [
       "'Evaluation: 112, Energy: -1191.592267350223, Std: 8.37965917508967'"
      ]
     },
     "metadata": {},
     "output_type": "display_data"
    },
    {
     "data": {
      "text/plain": [
       "'Evaluation: 113, Energy: -1191.058453529149, Std: 9.424628630107593'"
      ]
     },
     "metadata": {},
     "output_type": "display_data"
    },
    {
     "data": {
      "text/plain": [
       "'Evaluation: 114, Energy: -1186.1549873519082, Std: 8.583544435250314'"
      ]
     },
     "metadata": {},
     "output_type": "display_data"
    },
    {
     "data": {
      "text/plain": [
       "'Evaluation: 115, Energy: -1187.5775273919558, Std: 8.675417046424293'"
      ]
     },
     "metadata": {},
     "output_type": "display_data"
    },
    {
     "data": {
      "text/plain": [
       "'Evaluation: 116, Energy: -1191.4082543244972, Std: 8.735858172934696'"
      ]
     },
     "metadata": {},
     "output_type": "display_data"
    },
    {
     "data": {
      "text/plain": [
       "'Evaluation: 117, Energy: -1180.35583982139, Std: 9.015455627898781'"
      ]
     },
     "metadata": {},
     "output_type": "display_data"
    },
    {
     "data": {
      "text/plain": [
       "'Evaluation: 118, Energy: -1189.7640696409696, Std: 8.799242114031609'"
      ]
     },
     "metadata": {},
     "output_type": "display_data"
    },
    {
     "data": {
      "text/plain": [
       "'Evaluation: 119, Energy: -1198.800247740049, Std: 8.853705629991415'"
      ]
     },
     "metadata": {},
     "output_type": "display_data"
    },
    {
     "data": {
      "text/plain": [
       "'Evaluation: 120, Energy: -1198.1491449950959, Std: 8.848111079049282'"
      ]
     },
     "metadata": {},
     "output_type": "display_data"
    },
    {
     "data": {
      "text/plain": [
       "'Evaluation: 121, Energy: -1178.299518577296, Std: 8.883222606872739'"
      ]
     },
     "metadata": {},
     "output_type": "display_data"
    },
    {
     "data": {
      "text/plain": [
       "'Evaluation: 122, Energy: -1199.6544596024437, Std: 8.602272494888878'"
      ]
     },
     "metadata": {},
     "output_type": "display_data"
    },
    {
     "data": {
      "text/plain": [
       "'Evaluation: 123, Energy: -1090.2732399247316, Std: 10.903965317090767'"
      ]
     },
     "metadata": {},
     "output_type": "display_data"
    },
    {
     "data": {
      "text/plain": [
       "'Evaluation: 124, Energy: -1197.880592861993, Std: 8.939554025523632'"
      ]
     },
     "metadata": {},
     "output_type": "display_data"
    },
    {
     "data": {
      "text/plain": [
       "'Evaluation: 125, Energy: -1173.07268611098, Std: 9.590633673268368'"
      ]
     },
     "metadata": {},
     "output_type": "display_data"
    },
    {
     "data": {
      "text/plain": [
       "'Evaluation: 126, Energy: -1177.638391459668, Std: 9.382745754463704'"
      ]
     },
     "metadata": {},
     "output_type": "display_data"
    },
    {
     "data": {
      "text/plain": [
       "'Evaluation: 127, Energy: -1123.872358797389, Std: 11.999237122403287'"
      ]
     },
     "metadata": {},
     "output_type": "display_data"
    },
    {
     "data": {
      "text/plain": [
       "'Evaluation: 128, Energy: -1202.9333051869369, Std: 9.361689969466921'"
      ]
     },
     "metadata": {},
     "output_type": "display_data"
    },
    {
     "data": {
      "text/plain": [
       "'Evaluation: 129, Energy: -1229.8309299300633, Std: 9.297145934089878'"
      ]
     },
     "metadata": {},
     "output_type": "display_data"
    },
    {
     "data": {
      "text/plain": [
       "'Evaluation: 130, Energy: -1186.7336345289186, Std: 9.640316993296125'"
      ]
     },
     "metadata": {},
     "output_type": "display_data"
    },
    {
     "data": {
      "text/plain": [
       "'Evaluation: 131, Energy: -1139.397863001602, Std: 12.287074030676399'"
      ]
     },
     "metadata": {},
     "output_type": "display_data"
    },
    {
     "data": {
      "text/plain": [
       "'Evaluation: 132, Energy: -1252.9590623505587, Std: 8.42886320091212'"
      ]
     },
     "metadata": {},
     "output_type": "display_data"
    },
    {
     "data": {
      "text/plain": [
       "'Evaluation: 133, Energy: -1198.1890093059903, Std: 10.461622890688895'"
      ]
     },
     "metadata": {},
     "output_type": "display_data"
    },
    {
     "data": {
      "text/plain": [
       "'Evaluation: 134, Energy: -1177.7700004858443, Std: 10.435820680398432'"
      ]
     },
     "metadata": {},
     "output_type": "display_data"
    },
    {
     "data": {
      "text/plain": [
       "'Evaluation: 135, Energy: -1226.640484133494, Std: 8.283352518351835'"
      ]
     },
     "metadata": {},
     "output_type": "display_data"
    },
    {
     "data": {
      "text/plain": [
       "'Evaluation: 136, Energy: -1241.066318496021, Std: 9.183332034690004'"
      ]
     },
     "metadata": {},
     "output_type": "display_data"
    },
    {
     "data": {
      "text/plain": [
       "'Evaluation: 137, Energy: -1247.237244423066, Std: 9.114037488383104'"
      ]
     },
     "metadata": {},
     "output_type": "display_data"
    },
    {
     "data": {
      "text/plain": [
       "'Evaluation: 138, Energy: -1242.3653083819872, Std: 8.716002425242559'"
      ]
     },
     "metadata": {},
     "output_type": "display_data"
    },
    {
     "data": {
      "text/plain": [
       "'Evaluation: 139, Energy: -1214.7626016256181, Std: 9.321039560537454'"
      ]
     },
     "metadata": {},
     "output_type": "display_data"
    },
    {
     "data": {
      "text/plain": [
       "'Evaluation: 140, Energy: -1233.8723044765466, Std: 8.880741993813881'"
      ]
     },
     "metadata": {},
     "output_type": "display_data"
    },
    {
     "data": {
      "text/plain": [
       "'Evaluation: 141, Energy: -1192.9367589769133, Std: 8.801982738451528'"
      ]
     },
     "metadata": {},
     "output_type": "display_data"
    },
    {
     "data": {
      "text/plain": [
       "'Evaluation: 142, Energy: -1222.8376919137952, Std: 9.106722383946996'"
      ]
     },
     "metadata": {},
     "output_type": "display_data"
    },
    {
     "data": {
      "text/plain": [
       "'Evaluation: 143, Energy: -1228.4538329377121, Std: 8.274986425754129'"
      ]
     },
     "metadata": {},
     "output_type": "display_data"
    },
    {
     "data": {
      "text/plain": [
       "'Evaluation: 144, Energy: -1214.3855319566883, Std: 8.904167834411869'"
      ]
     },
     "metadata": {},
     "output_type": "display_data"
    },
    {
     "data": {
      "text/plain": [
       "'Evaluation: 145, Energy: -1160.368437762885, Std: 11.502920521419574'"
      ]
     },
     "metadata": {},
     "output_type": "display_data"
    },
    {
     "data": {
      "text/plain": [
       "'Evaluation: 146, Energy: -1223.7706631931824, Std: 9.354109250527312'"
      ]
     },
     "metadata": {},
     "output_type": "display_data"
    },
    {
     "data": {
      "text/plain": [
       "'Evaluation: 147, Energy: -1143.5154677575283, Std: 10.94963370625348'"
      ]
     },
     "metadata": {},
     "output_type": "display_data"
    },
    {
     "data": {
      "text/plain": [
       "'Evaluation: 148, Energy: -1227.3436014074257, Std: 9.214576269650795'"
      ]
     },
     "metadata": {},
     "output_type": "display_data"
    },
    {
     "data": {
      "text/plain": [
       "'Evaluation: 149, Energy: -1212.1921207422808, Std: 8.50062362371661'"
      ]
     },
     "metadata": {},
     "output_type": "display_data"
    },
    {
     "data": {
      "text/plain": [
       "'Evaluation: 150, Energy: -1230.8861144616278, Std: 8.581573734160308'"
      ]
     },
     "metadata": {},
     "output_type": "display_data"
    },
    {
     "data": {
      "text/plain": [
       "'Evaluation: 151, Energy: -1236.8404156888732, Std: 8.76472398791971'"
      ]
     },
     "metadata": {},
     "output_type": "display_data"
    },
    {
     "data": {
      "text/plain": [
       "'Evaluation: 152, Energy: -1222.4621151153387, Std: 8.845174368324228'"
      ]
     },
     "metadata": {},
     "output_type": "display_data"
    },
    {
     "data": {
      "text/plain": [
       "'Evaluation: 153, Energy: -1172.4315589295325, Std: 9.631002873281592'"
      ]
     },
     "metadata": {},
     "output_type": "display_data"
    },
    {
     "data": {
      "text/plain": [
       "'Evaluation: 154, Energy: -1241.757381871124, Std: 9.12466710109234'"
      ]
     },
     "metadata": {},
     "output_type": "display_data"
    },
    {
     "data": {
      "text/plain": [
       "'Evaluation: 155, Energy: -1207.977308627612, Std: 9.639178045956905'"
      ]
     },
     "metadata": {},
     "output_type": "display_data"
    },
    {
     "data": {
      "text/plain": [
       "'Evaluation: 156, Energy: -1183.6164404576457, Std: 9.604287335477967'"
      ]
     },
     "metadata": {},
     "output_type": "display_data"
    },
    {
     "data": {
      "text/plain": [
       "'Evaluation: 157, Energy: -1278.0321680056593, Std: 8.186075527164066'"
      ]
     },
     "metadata": {},
     "output_type": "display_data"
    },
    {
     "data": {
      "text/plain": [
       "'Evaluation: 158, Energy: -1242.2582105092906, Std: 9.217241635602914'"
      ]
     },
     "metadata": {},
     "output_type": "display_data"
    },
    {
     "data": {
      "text/plain": [
       "'Evaluation: 159, Energy: -1275.8790418688689, Std: 8.61750182342266'"
      ]
     },
     "metadata": {},
     "output_type": "display_data"
    },
    {
     "data": {
      "text/plain": [
       "'Evaluation: 160, Energy: -1248.1457871772025, Std: 9.675009900682477'"
      ]
     },
     "metadata": {},
     "output_type": "display_data"
    },
    {
     "data": {
      "text/plain": [
       "'Evaluation: 161, Energy: -1245.7508546000315, Std: 9.361347144707802'"
      ]
     },
     "metadata": {},
     "output_type": "display_data"
    },
    {
     "data": {
      "text/plain": [
       "'Evaluation: 162, Energy: -1250.933432251301, Std: 8.888526683529948'"
      ]
     },
     "metadata": {},
     "output_type": "display_data"
    },
    {
     "data": {
      "text/plain": [
       "'Evaluation: 163, Energy: -1273.1199797886577, Std: 8.066819681396671'"
      ]
     },
     "metadata": {},
     "output_type": "display_data"
    },
    {
     "data": {
      "text/plain": [
       "'Evaluation: 164, Energy: -1235.919389527846, Std: 8.77131585997608'"
      ]
     },
     "metadata": {},
     "output_type": "display_data"
    },
    {
     "data": {
      "text/plain": [
       "'Evaluation: 165, Energy: -1275.2540979346575, Std: 7.954991168710328'"
      ]
     },
     "metadata": {},
     "output_type": "display_data"
    },
    {
     "data": {
      "text/plain": [
       "'Evaluation: 166, Energy: -1229.9195585231096, Std: 9.16356047850107'"
      ]
     },
     "metadata": {},
     "output_type": "display_data"
    },
    {
     "data": {
      "text/plain": [
       "'Evaluation: 167, Energy: -1251.881006441077, Std: 9.353902300020689'"
      ]
     },
     "metadata": {},
     "output_type": "display_data"
    },
    {
     "data": {
      "text/plain": [
       "'Evaluation: 168, Energy: -1271.073128252553, Std: 8.522212943051821'"
      ]
     },
     "metadata": {},
     "output_type": "display_data"
    },
    {
     "data": {
      "text/plain": [
       "'Evaluation: 169, Energy: -1270.6348930379152, Std: 8.1894049921001'"
      ]
     },
     "metadata": {},
     "output_type": "display_data"
    },
    {
     "data": {
      "text/plain": [
       "'Evaluation: 170, Energy: -1229.6343401817444, Std: 8.422220863834806'"
      ]
     },
     "metadata": {},
     "output_type": "display_data"
    },
    {
     "data": {
      "text/plain": [
       "'Evaluation: 171, Energy: -1251.3179642861521, Std: 8.331387090026896'"
      ]
     },
     "metadata": {},
     "output_type": "display_data"
    },
    {
     "data": {
      "text/plain": [
       "'Evaluation: 172, Energy: -1246.979644806295, Std: 8.235454216038256'"
      ]
     },
     "metadata": {},
     "output_type": "display_data"
    },
    {
     "data": {
      "text/plain": [
       "'Evaluation: 173, Energy: -1203.04608322529, Std: 8.328205468351097'"
      ]
     },
     "metadata": {},
     "output_type": "display_data"
    },
    {
     "data": {
      "text/plain": [
       "'Evaluation: 174, Energy: -1254.9550283184128, Std: 8.505999893545864'"
      ]
     },
     "metadata": {},
     "output_type": "display_data"
    },
    {
     "data": {
      "text/plain": [
       "'Evaluation: 175, Energy: -1243.322382582519, Std: 9.093411512031349'"
      ]
     },
     "metadata": {},
     "output_type": "display_data"
    },
    {
     "data": {
      "text/plain": [
       "'Evaluation: 176, Energy: -1245.46192202243, Std: 8.463010445213026'"
      ]
     },
     "metadata": {},
     "output_type": "display_data"
    },
    {
     "data": {
      "text/plain": [
       "'Evaluation: 177, Energy: -1285.0584708769113, Std: 9.129440396381616'"
      ]
     },
     "metadata": {},
     "output_type": "display_data"
    },
    {
     "data": {
      "text/plain": [
       "'Evaluation: 178, Energy: -1272.2920753472856, Std: 8.121605842902504'"
      ]
     },
     "metadata": {},
     "output_type": "display_data"
    },
    {
     "data": {
      "text/plain": [
       "'Evaluation: 179, Energy: -1227.7248673158683, Std: 9.006214884204672'"
      ]
     },
     "metadata": {},
     "output_type": "display_data"
    },
    {
     "data": {
      "text/plain": [
       "'Evaluation: 180, Energy: -1300.7931107204056, Std: 8.207046981449247'"
      ]
     },
     "metadata": {},
     "output_type": "display_data"
    },
    {
     "data": {
      "text/plain": [
       "'Evaluation: 181, Energy: -1250.613279566646, Std: 9.537244768411355'"
      ]
     },
     "metadata": {},
     "output_type": "display_data"
    },
    {
     "data": {
      "text/plain": [
       "'Evaluation: 182, Energy: -1294.1324478174686, Std: 8.592208197881497'"
      ]
     },
     "metadata": {},
     "output_type": "display_data"
    },
    {
     "data": {
      "text/plain": [
       "'Evaluation: 183, Energy: -1286.1217323151527, Std: 8.39066811740586'"
      ]
     },
     "metadata": {},
     "output_type": "display_data"
    },
    {
     "data": {
      "text/plain": [
       "'Evaluation: 184, Energy: -1292.7899110132619, Std: 7.9596522020243325'"
      ]
     },
     "metadata": {},
     "output_type": "display_data"
    },
    {
     "data": {
      "text/plain": [
       "'Evaluation: 185, Energy: -1269.1740685728935, Std: 8.890222739390634'"
      ]
     },
     "metadata": {},
     "output_type": "display_data"
    },
    {
     "data": {
      "text/plain": [
       "'Evaluation: 186, Energy: -1305.1786601031092, Std: 8.08171642279196'"
      ]
     },
     "metadata": {},
     "output_type": "display_data"
    },
    {
     "data": {
      "text/plain": [
       "'Evaluation: 187, Energy: -1262.248375800491, Std: 9.833451824090117'"
      ]
     },
     "metadata": {},
     "output_type": "display_data"
    },
    {
     "data": {
      "text/plain": [
       "'Evaluation: 188, Energy: -1275.3204030027746, Std: 8.723743703139267'"
      ]
     },
     "metadata": {},
     "output_type": "display_data"
    },
    {
     "data": {
      "text/plain": [
       "'Evaluation: 189, Energy: -1285.207558595678, Std: 8.424087802796885'"
      ]
     },
     "metadata": {},
     "output_type": "display_data"
    },
    {
     "data": {
      "text/plain": [
       "'Evaluation: 190, Energy: -1305.9044398969088, Std: 8.169760617562716'"
      ]
     },
     "metadata": {},
     "output_type": "display_data"
    },
    {
     "data": {
      "text/plain": [
       "'Evaluation: 191, Energy: -1231.9130603863305, Std: 9.276234726674558'"
      ]
     },
     "metadata": {},
     "output_type": "display_data"
    },
    {
     "data": {
      "text/plain": [
       "'Evaluation: 192, Energy: -1286.829096900796, Std: 8.207982848211063'"
      ]
     },
     "metadata": {},
     "output_type": "display_data"
    },
    {
     "data": {
      "text/plain": [
       "'Evaluation: 193, Energy: -1237.7202075751661, Std: 9.115179905939549'"
      ]
     },
     "metadata": {},
     "output_type": "display_data"
    },
    {
     "data": {
      "text/plain": [
       "'Evaluation: 194, Energy: -1290.0355424388736, Std: 8.438727488584158'"
      ]
     },
     "metadata": {},
     "output_type": "display_data"
    },
    {
     "data": {
      "text/plain": [
       "'Evaluation: 195, Energy: -1348.2926314935967, Std: 6.976527629081447'"
      ]
     },
     "metadata": {},
     "output_type": "display_data"
    },
    {
     "data": {
      "text/plain": [
       "'Evaluation: 196, Energy: -1290.0869379506717, Std: 9.12772379396525'"
      ]
     },
     "metadata": {},
     "output_type": "display_data"
    },
    {
     "data": {
      "text/plain": [
       "'Evaluation: 197, Energy: -1320.1463803866027, Std: 7.857957321662307'"
      ]
     },
     "metadata": {},
     "output_type": "display_data"
    },
    {
     "data": {
      "text/plain": [
       "'Evaluation: 198, Energy: -1300.8690103548468, Std: 8.299501643468036'"
      ]
     },
     "metadata": {},
     "output_type": "display_data"
    },
    {
     "data": {
      "text/plain": [
       "'Evaluation: 199, Energy: -1329.436190149779, Std: 7.219502373683193'"
      ]
     },
     "metadata": {},
     "output_type": "display_data"
    },
    {
     "data": {
      "text/plain": [
       "'Evaluation: 200, Energy: -1265.623661658867, Std: 8.643142059761727'"
      ]
     },
     "metadata": {},
     "output_type": "display_data"
    },
    {
     "data": {
      "text/plain": [
       "'Evaluation: 201, Energy: -1321.8499388624348, Std: 8.13668235975545'"
      ]
     },
     "metadata": {},
     "output_type": "display_data"
    },
    {
     "data": {
      "text/plain": [
       "'Evaluation: 202, Energy: -1316.559550479013, Std: 7.843050900563307'"
      ]
     },
     "metadata": {},
     "output_type": "display_data"
    },
    {
     "data": {
      "text/plain": [
       "'Evaluation: 203, Energy: -1345.9337207618219, Std: 7.056962897097264'"
      ]
     },
     "metadata": {},
     "output_type": "display_data"
    },
    {
     "data": {
      "text/plain": [
       "'Evaluation: 204, Energy: -1307.2901083928757, Std: 7.820790485607656'"
      ]
     },
     "metadata": {},
     "output_type": "display_data"
    },
    {
     "data": {
      "text/plain": [
       "'Evaluation: 205, Energy: -1314.1368781870708, Std: 8.56434585148'"
      ]
     },
     "metadata": {},
     "output_type": "display_data"
    },
    {
     "data": {
      "text/plain": [
       "'Evaluation: 206, Energy: -1291.0383603953665, Std: 7.9346437572248165'"
      ]
     },
     "metadata": {},
     "output_type": "display_data"
    },
    {
     "data": {
      "text/plain": [
       "'Evaluation: 207, Energy: -1296.910903465915, Std: 8.753788005232417'"
      ]
     },
     "metadata": {},
     "output_type": "display_data"
    },
    {
     "data": {
      "text/plain": [
       "'Evaluation: 208, Energy: -1261.4095852942537, Std: 9.362449469306053'"
      ]
     },
     "metadata": {},
     "output_type": "display_data"
    },
    {
     "data": {
      "text/plain": [
       "'Evaluation: 209, Energy: -1343.713884630865, Std: 7.598846998147696'"
      ]
     },
     "metadata": {},
     "output_type": "display_data"
    },
    {
     "data": {
      "text/plain": [
       "'Evaluation: 210, Energy: -1339.5431164673807, Std: 6.949307122158935'"
      ]
     },
     "metadata": {},
     "output_type": "display_data"
    },
    {
     "data": {
      "text/plain": [
       "'Evaluation: 211, Energy: -1328.202874753979, Std: 7.578752212665835'"
      ]
     },
     "metadata": {},
     "output_type": "display_data"
    },
    {
     "data": {
      "text/plain": [
       "'Evaluation: 212, Energy: -1351.5917109388108, Std: 6.902973476694683'"
      ]
     },
     "metadata": {},
     "output_type": "display_data"
    },
    {
     "data": {
      "text/plain": [
       "'Evaluation: 213, Energy: -1355.1824785601675, Std: 7.002169835937538'"
      ]
     },
     "metadata": {},
     "output_type": "display_data"
    },
    {
     "data": {
      "text/plain": [
       "'Evaluation: 214, Energy: -1308.453898001096, Std: 7.528559612275052'"
      ]
     },
     "metadata": {},
     "output_type": "display_data"
    },
    {
     "data": {
      "text/plain": [
       "'Evaluation: 215, Energy: -1338.9231775729368, Std: 7.787865112533832'"
      ]
     },
     "metadata": {},
     "output_type": "display_data"
    },
    {
     "data": {
      "text/plain": [
       "'Evaluation: 216, Energy: -1283.8968538630502, Std: 7.933384382654137'"
      ]
     },
     "metadata": {},
     "output_type": "display_data"
    },
    {
     "data": {
      "text/plain": [
       "'Evaluation: 217, Energy: -1337.2600115656514, Std: 7.141854401395506'"
      ]
     },
     "metadata": {},
     "output_type": "display_data"
    },
    {
     "data": {
      "text/plain": [
       "'Evaluation: 218, Energy: -1335.5958047222286, Std: 6.84228142466075'"
      ]
     },
     "metadata": {},
     "output_type": "display_data"
    },
    {
     "data": {
      "text/plain": [
       "'Evaluation: 219, Energy: -1315.910824271777, Std: 7.854743887801079'"
      ]
     },
     "metadata": {},
     "output_type": "display_data"
    },
    {
     "data": {
      "text/plain": [
       "'Evaluation: 220, Energy: -1318.6680946047081, Std: 7.953479615101229'"
      ]
     },
     "metadata": {},
     "output_type": "display_data"
    },
    {
     "data": {
      "text/plain": [
       "'Evaluation: 221, Energy: -1310.8228420043984, Std: 7.4971797163219644'"
      ]
     },
     "metadata": {},
     "output_type": "display_data"
    },
    {
     "data": {
      "text/plain": [
       "'Evaluation: 222, Energy: -1326.990014652432, Std: 6.960519707255879'"
      ]
     },
     "metadata": {},
     "output_type": "display_data"
    },
    {
     "data": {
      "text/plain": [
       "'Evaluation: 223, Energy: -1327.4312704760594, Std: 7.662860383772369'"
      ]
     },
     "metadata": {},
     "output_type": "display_data"
    },
    {
     "data": {
      "text/plain": [
       "'Evaluation: 224, Energy: -1300.7798320584789, Std: 8.605282475236798'"
      ]
     },
     "metadata": {},
     "output_type": "display_data"
    },
    {
     "data": {
      "text/plain": [
       "'Evaluation: 225, Energy: -1357.8344194109052, Std: 7.136919790280297'"
      ]
     },
     "metadata": {},
     "output_type": "display_data"
    },
    {
     "data": {
      "text/plain": [
       "'Evaluation: 226, Energy: -1290.0227725800726, Std: 8.635946684981452'"
      ]
     },
     "metadata": {},
     "output_type": "display_data"
    },
    {
     "data": {
      "text/plain": [
       "'Evaluation: 227, Energy: -1335.887989411155, Std: 7.5006017055374565'"
      ]
     },
     "metadata": {},
     "output_type": "display_data"
    },
    {
     "data": {
      "text/plain": [
       "'Evaluation: 228, Energy: -1273.534056152095, Std: 8.32569064928962'"
      ]
     },
     "metadata": {},
     "output_type": "display_data"
    },
    {
     "data": {
      "text/plain": [
       "'Evaluation: 229, Energy: -1319.8694035385952, Std: 7.705993640644868'"
      ]
     },
     "metadata": {},
     "output_type": "display_data"
    },
    {
     "data": {
      "text/plain": [
       "'Evaluation: 230, Energy: -1324.5712635123853, Std: 7.746189305950121'"
      ]
     },
     "metadata": {},
     "output_type": "display_data"
    },
    {
     "data": {
      "text/plain": [
       "'Evaluation: 231, Energy: -1349.0594203431333, Std: 6.762946959764924'"
      ]
     },
     "metadata": {},
     "output_type": "display_data"
    },
    {
     "data": {
      "text/plain": [
       "'Evaluation: 232, Energy: -1291.4361181063507, Std: 8.155307841159125'"
      ]
     },
     "metadata": {},
     "output_type": "display_data"
    },
    {
     "data": {
      "text/plain": [
       "'Evaluation: 233, Energy: -1344.933934034819, Std: 6.99044986842346'"
      ]
     },
     "metadata": {},
     "output_type": "display_data"
    },
    {
     "data": {
      "text/plain": [
       "'Evaluation: 234, Energy: -1334.7949513691062, Std: 6.500628560578338'"
      ]
     },
     "metadata": {},
     "output_type": "display_data"
    },
    {
     "data": {
      "text/plain": [
       "'Evaluation: 235, Energy: -1336.1649279756236, Std: 7.634657219342432'"
      ]
     },
     "metadata": {},
     "output_type": "display_data"
    },
    {
     "data": {
      "text/plain": [
       "'Evaluation: 236, Energy: -1302.0032487095914, Std: 8.492500800862974'"
      ]
     },
     "metadata": {},
     "output_type": "display_data"
    },
    {
     "data": {
      "text/plain": [
       "'Evaluation: 237, Energy: -1332.0530560619159, Std: 7.5668236429126345'"
      ]
     },
     "metadata": {},
     "output_type": "display_data"
    },
    {
     "data": {
      "text/plain": [
       "'Evaluation: 238, Energy: -1337.8883563537777, Std: 7.524429430928594'"
      ]
     },
     "metadata": {},
     "output_type": "display_data"
    },
    {
     "data": {
      "text/plain": [
       "'Evaluation: 239, Energy: -1344.8157937288292, Std: 7.448001008341213'"
      ]
     },
     "metadata": {},
     "output_type": "display_data"
    },
    {
     "data": {
      "text/plain": [
       "'Evaluation: 240, Energy: -1324.6427967555692, Std: 8.103616877810138'"
      ]
     },
     "metadata": {},
     "output_type": "display_data"
    },
    {
     "data": {
      "text/plain": [
       "'Evaluation: 241, Energy: -1369.5587773621353, Std: 6.829495548539776'"
      ]
     },
     "metadata": {},
     "output_type": "display_data"
    },
    {
     "data": {
      "text/plain": [
       "'Evaluation: 242, Energy: -1339.1704275358868, Std: 7.452534359992289'"
      ]
     },
     "metadata": {},
     "output_type": "display_data"
    },
    {
     "data": {
      "text/plain": [
       "'Evaluation: 243, Energy: -1380.5097328241764, Std: 6.36056777408897'"
      ]
     },
     "metadata": {},
     "output_type": "display_data"
    },
    {
     "data": {
      "text/plain": [
       "'Evaluation: 244, Energy: -1340.778657955993, Std: 8.183447594225958'"
      ]
     },
     "metadata": {},
     "output_type": "display_data"
    },
    {
     "data": {
      "text/plain": [
       "'Evaluation: 245, Energy: -1387.9619508818196, Std: 6.009260438757449'"
      ]
     },
     "metadata": {},
     "output_type": "display_data"
    },
    {
     "data": {
      "text/plain": [
       "'Evaluation: 246, Energy: -1363.1832678752914, Std: 7.1850058546287805'"
      ]
     },
     "metadata": {},
     "output_type": "display_data"
    },
    {
     "data": {
      "text/plain": [
       "'Evaluation: 247, Energy: -1334.3497808297066, Std: 7.512914168407867'"
      ]
     },
     "metadata": {},
     "output_type": "display_data"
    },
    {
     "data": {
      "text/plain": [
       "'Evaluation: 248, Energy: -1364.2903165347177, Std: 7.270404118352937'"
      ]
     },
     "metadata": {},
     "output_type": "display_data"
    },
    {
     "data": {
      "text/plain": [
       "'Evaluation: 249, Energy: -1327.7099097365247, Std: 7.4585666078951265'"
      ]
     },
     "metadata": {},
     "output_type": "display_data"
    },
    {
     "data": {
      "text/plain": [
       "'Evaluation: 250, Energy: -1356.5842913872755, Std: 7.190695527292682'"
      ]
     },
     "metadata": {},
     "output_type": "display_data"
    },
    {
     "data": {
      "text/plain": [
       "'Evaluation: 251, Energy: -1383.0953777068362, Std: 6.477978262892834'"
      ]
     },
     "metadata": {},
     "output_type": "display_data"
    },
    {
     "data": {
      "text/plain": [
       "'Evaluation: 252, Energy: -1326.0460583344384, Std: 7.443650524783981'"
      ]
     },
     "metadata": {},
     "output_type": "display_data"
    },
    {
     "data": {
      "text/plain": [
       "'Evaluation: 253, Energy: -1361.207677952327, Std: 6.868094448905802'"
      ]
     },
     "metadata": {},
     "output_type": "display_data"
    },
    {
     "data": {
      "text/plain": [
       "'Evaluation: 254, Energy: -1388.2473555312517, Std: 6.213081660770154'"
      ]
     },
     "metadata": {},
     "output_type": "display_data"
    },
    {
     "data": {
      "text/plain": [
       "'Evaluation: 255, Energy: -1379.4510369584268, Std: 6.5603384885123175'"
      ]
     },
     "metadata": {},
     "output_type": "display_data"
    },
    {
     "data": {
      "text/plain": [
       "'Evaluation: 256, Energy: -1378.470111743, Std: 6.2053327603514035'"
      ]
     },
     "metadata": {},
     "output_type": "display_data"
    },
    {
     "data": {
      "text/plain": [
       "'Evaluation: 257, Energy: -1387.1722105689796, Std: 5.885299360081433'"
      ]
     },
     "metadata": {},
     "output_type": "display_data"
    },
    {
     "data": {
      "text/plain": [
       "'Evaluation: 258, Energy: -1364.9134956161477, Std: 6.526913222858934'"
      ]
     },
     "metadata": {},
     "output_type": "display_data"
    },
    {
     "data": {
      "text/plain": [
       "'Evaluation: 259, Energy: -1380.3643345940689, Std: 6.201038941736346'"
      ]
     },
     "metadata": {},
     "output_type": "display_data"
    },
    {
     "data": {
      "text/plain": [
       "'Evaluation: 260, Energy: -1367.8320900622716, Std: 5.887433186503957'"
      ]
     },
     "metadata": {},
     "output_type": "display_data"
    },
    {
     "data": {
      "text/plain": [
       "'Evaluation: 261, Energy: -1379.3912364984053, Std: 6.466613562966406'"
      ]
     },
     "metadata": {},
     "output_type": "display_data"
    },
    {
     "data": {
      "text/plain": [
       "'Evaluation: 262, Energy: -1311.0103493393356, Std: 7.333747037659209'"
      ]
     },
     "metadata": {},
     "output_type": "display_data"
    },
    {
     "data": {
      "text/plain": [
       "'Evaluation: 263, Energy: -1380.1691907778188, Std: 6.222284880218866'"
      ]
     },
     "metadata": {},
     "output_type": "display_data"
    },
    {
     "data": {
      "text/plain": [
       "'Evaluation: 264, Energy: -1372.1101883690292, Std: 6.535018716246905'"
      ]
     },
     "metadata": {},
     "output_type": "display_data"
    },
    {
     "data": {
      "text/plain": [
       "'Evaluation: 265, Energy: -1374.3182665860445, Std: 6.22830555764285'"
      ]
     },
     "metadata": {},
     "output_type": "display_data"
    },
    {
     "data": {
      "text/plain": [
       "'Evaluation: 266, Energy: -1368.24066729591, Std: 6.746140223564133'"
      ]
     },
     "metadata": {},
     "output_type": "display_data"
    },
    {
     "data": {
      "text/plain": [
       "'Evaluation: 267, Energy: -1364.971292163702, Std: 6.287862247700003'"
      ]
     },
     "metadata": {},
     "output_type": "display_data"
    },
    {
     "data": {
      "text/plain": [
       "'Evaluation: 268, Energy: -1391.1067870388522, Std: 6.221092047032331'"
      ]
     },
     "metadata": {},
     "output_type": "display_data"
    },
    {
     "data": {
      "text/plain": [
       "'Evaluation: 269, Energy: -1396.0820287908903, Std: 6.329701741986531'"
      ]
     },
     "metadata": {},
     "output_type": "display_data"
    },
    {
     "data": {
      "text/plain": [
       "'Evaluation: 270, Energy: -1332.3190596647619, Std: 6.9747787900130485'"
      ]
     },
     "metadata": {},
     "output_type": "display_data"
    },
    {
     "data": {
      "text/plain": [
       "'Evaluation: 271, Energy: -1377.689402199217, Std: 6.538044754512459'"
      ]
     },
     "metadata": {},
     "output_type": "display_data"
    },
    {
     "data": {
      "text/plain": [
       "'Evaluation: 272, Energy: -1342.9395896156602, Std: 7.343837751011711'"
      ]
     },
     "metadata": {},
     "output_type": "display_data"
    },
    {
     "data": {
      "text/plain": [
       "'Evaluation: 273, Energy: -1380.5949804304473, Std: 6.475425588790224'"
      ]
     },
     "metadata": {},
     "output_type": "display_data"
    },
    {
     "data": {
      "text/plain": [
       "'Evaluation: 274, Energy: -1359.5698774174202, Std: 6.732943113377874'"
      ]
     },
     "metadata": {},
     "output_type": "display_data"
    },
    {
     "data": {
      "text/plain": [
       "'Evaluation: 275, Energy: -1388.096481239585, Std: 6.370736516756352'"
      ]
     },
     "metadata": {},
     "output_type": "display_data"
    },
    {
     "data": {
      "text/plain": [
       "'Evaluation: 276, Energy: -1390.1787657658151, Std: 5.664857605865039'"
      ]
     },
     "metadata": {},
     "output_type": "display_data"
    },
    {
     "data": {
      "text/plain": [
       "'Evaluation: 277, Energy: -1393.1820597479452, Std: 6.571268144398921'"
      ]
     },
     "metadata": {},
     "output_type": "display_data"
    },
    {
     "data": {
      "text/plain": [
       "'Evaluation: 278, Energy: -1363.2357405417529, Std: 6.399885092749792'"
      ]
     },
     "metadata": {},
     "output_type": "display_data"
    },
    {
     "data": {
      "text/plain": [
       "'Evaluation: 279, Energy: -1374.8898146617098, Std: 6.462203167002275'"
      ]
     },
     "metadata": {},
     "output_type": "display_data"
    },
    {
     "data": {
      "text/plain": [
       "'Evaluation: 280, Energy: -1380.999897233908, Std: 6.2384047220291725'"
      ]
     },
     "metadata": {},
     "output_type": "display_data"
    },
    {
     "data": {
      "text/plain": [
       "'Evaluation: 281, Energy: -1388.28642145866, Std: 6.44876504889566'"
      ]
     },
     "metadata": {},
     "output_type": "display_data"
    },
    {
     "data": {
      "text/plain": [
       "'Evaluation: 282, Energy: -1378.9119045545885, Std: 6.437156885766353'"
      ]
     },
     "metadata": {},
     "output_type": "display_data"
    },
    {
     "data": {
      "text/plain": [
       "'Evaluation: 283, Energy: -1392.366413301174, Std: 6.39970834670859'"
      ]
     },
     "metadata": {},
     "output_type": "display_data"
    },
    {
     "data": {
      "text/plain": [
       "'Evaluation: 284, Energy: -1357.80406145158, Std: 6.904685640045208'"
      ]
     },
     "metadata": {},
     "output_type": "display_data"
    },
    {
     "data": {
      "text/plain": [
       "'Evaluation: 285, Energy: -1356.6098302851829, Std: 7.069359896032535'"
      ]
     },
     "metadata": {},
     "output_type": "display_data"
    },
    {
     "data": {
      "text/plain": [
       "'Evaluation: 286, Energy: -1382.0150394784685, Std: 6.581816359046358'"
      ]
     },
     "metadata": {},
     "output_type": "display_data"
    },
    {
     "data": {
      "text/plain": [
       "'Evaluation: 287, Energy: -1385.0739146185585, Std: 6.452439663438839'"
      ]
     },
     "metadata": {},
     "output_type": "display_data"
    },
    {
     "data": {
      "text/plain": [
       "'Evaluation: 288, Energy: -1393.412843922415, Std: 6.446977542236099'"
      ]
     },
     "metadata": {},
     "output_type": "display_data"
    },
    {
     "data": {
      "text/plain": [
       "'Evaluation: 289, Energy: -1392.9231111386673, Std: 6.338587763921178'"
      ]
     },
     "metadata": {},
     "output_type": "display_data"
    },
    {
     "data": {
      "text/plain": [
       "'Evaluation: 290, Energy: -1396.2341509251348, Std: 6.078341267062305'"
      ]
     },
     "metadata": {},
     "output_type": "display_data"
    },
    {
     "data": {
      "text/plain": [
       "'Evaluation: 291, Energy: -1397.8346677718305, Std: 6.221449734749306'"
      ]
     },
     "metadata": {},
     "output_type": "display_data"
    },
    {
     "data": {
      "text/plain": [
       "'Evaluation: 292, Energy: -1397.5966841785698, Std: 6.171902305113916'"
      ]
     },
     "metadata": {},
     "output_type": "display_data"
    },
    {
     "data": {
      "text/plain": [
       "'Evaluation: 293, Energy: -1386.5982068515796, Std: 6.123223772373725'"
      ]
     },
     "metadata": {},
     "output_type": "display_data"
    },
    {
     "data": {
      "text/plain": [
       "'Evaluation: 294, Energy: -1391.5062711534702, Std: 6.379659481083303'"
      ]
     },
     "metadata": {},
     "output_type": "display_data"
    },
    {
     "data": {
      "text/plain": [
       "'Evaluation: 295, Energy: -1381.7059926369425, Std: 6.723288290078589'"
      ]
     },
     "metadata": {},
     "output_type": "display_data"
    },
    {
     "data": {
      "text/plain": [
       "'Evaluation: 296, Energy: -1392.9413740203695, Std: 6.277397409565646'"
      ]
     },
     "metadata": {},
     "output_type": "display_data"
    },
    {
     "data": {
      "text/plain": [
       "'Evaluation: 297, Energy: -1399.530138152163, Std: 6.256699755174361'"
      ]
     },
     "metadata": {},
     "output_type": "display_data"
    },
    {
     "data": {
      "text/plain": [
       "'Evaluation: 298, Energy: -1386.6911104994645, Std: 6.322910815475688'"
      ]
     },
     "metadata": {},
     "output_type": "display_data"
    },
    {
     "data": {
      "text/plain": [
       "'Evaluation: 299, Energy: -1376.969288571467, Std: 6.783476256235949'"
      ]
     },
     "metadata": {},
     "output_type": "display_data"
    },
    {
     "data": {
      "text/plain": [
       "'Evaluation: 300, Energy: -1389.6494654147107, Std: 6.2816991115698455'"
      ]
     },
     "metadata": {},
     "output_type": "display_data"
    },
    {
     "data": {
      "text/plain": [
       "'Evaluation: 301, Energy: -1396.6223805585842, Std: 6.815006249055028'"
      ]
     },
     "metadata": {},
     "output_type": "display_data"
    },
    {
     "data": {
      "text/plain": [
       "'Evaluation: 302, Energy: -1385.7786897949682, Std: 6.230460488812571'"
      ]
     },
     "metadata": {},
     "output_type": "display_data"
    },
    {
     "data": {
      "text/plain": [
       "'Evaluation: 303, Energy: -1378.0983077071412, Std: 6.187350186201802'"
      ]
     },
     "metadata": {},
     "output_type": "display_data"
    },
    {
     "data": {
      "text/plain": [
       "'Evaluation: 304, Energy: -1380.9706368130173, Std: 6.5007356362033315'"
      ]
     },
     "metadata": {},
     "output_type": "display_data"
    },
    {
     "data": {
      "text/plain": [
       "'Evaluation: 305, Energy: -1378.4389634635813, Std: 6.889467070399308'"
      ]
     },
     "metadata": {},
     "output_type": "display_data"
    },
    {
     "data": {
      "text/plain": [
       "'Evaluation: 306, Energy: -1389.1330338019384, Std: 6.171647496120131'"
      ]
     },
     "metadata": {},
     "output_type": "display_data"
    },
    {
     "data": {
      "text/plain": [
       "'Evaluation: 307, Energy: -1370.5474889285006, Std: 6.833588665910511'"
      ]
     },
     "metadata": {},
     "output_type": "display_data"
    },
    {
     "data": {
      "text/plain": [
       "'Evaluation: 308, Energy: -1403.3346984814586, Std: 6.185882191448261'"
      ]
     },
     "metadata": {},
     "output_type": "display_data"
    },
    {
     "data": {
      "text/plain": [
       "'Evaluation: 309, Energy: -1388.6688816859328, Std: 6.2550895825060095'"
      ]
     },
     "metadata": {},
     "output_type": "display_data"
    },
    {
     "data": {
      "text/plain": [
       "'Evaluation: 310, Energy: -1395.9979093233499, Std: 6.280638793993571'"
      ]
     },
     "metadata": {},
     "output_type": "display_data"
    },
    {
     "data": {
      "text/plain": [
       "'Evaluation: 311, Energy: -1367.7790264413215, Std: 6.764508188266977'"
      ]
     },
     "metadata": {},
     "output_type": "display_data"
    },
    {
     "data": {
      "text/plain": [
       "'Evaluation: 312, Energy: -1376.525744021341, Std: 6.434496344260259'"
      ]
     },
     "metadata": {},
     "output_type": "display_data"
    },
    {
     "data": {
      "text/plain": [
       "'Evaluation: 313, Energy: -1375.8431203692508, Std: 6.500124082392272'"
      ]
     },
     "metadata": {},
     "output_type": "display_data"
    },
    {
     "data": {
      "text/plain": [
       "'Evaluation: 314, Energy: -1395.890007184553, Std: 6.1454438447407815'"
      ]
     },
     "metadata": {},
     "output_type": "display_data"
    },
    {
     "data": {
      "text/plain": [
       "'Evaluation: 315, Energy: -1391.5014756824125, Std: 6.454444469574596'"
      ]
     },
     "metadata": {},
     "output_type": "display_data"
    },
    {
     "data": {
      "text/plain": [
       "'Evaluation: 316, Energy: -1406.8690670897977, Std: 6.073392972554679'"
      ]
     },
     "metadata": {},
     "output_type": "display_data"
    },
    {
     "data": {
      "text/plain": [
       "'Evaluation: 317, Energy: -1382.350599545688, Std: 6.459281345647728'"
      ]
     },
     "metadata": {},
     "output_type": "display_data"
    },
    {
     "data": {
      "text/plain": [
       "'Evaluation: 318, Energy: -1401.34150946239, Std: 6.253564486932981'"
      ]
     },
     "metadata": {},
     "output_type": "display_data"
    },
    {
     "data": {
      "text/plain": [
       "'Evaluation: 319, Energy: -1395.7848848845251, Std: 6.05516919500633'"
      ]
     },
     "metadata": {},
     "output_type": "display_data"
    },
    {
     "data": {
      "text/plain": [
       "'Evaluation: 320, Energy: -1390.251186305834, Std: 6.690712128495545'"
      ]
     },
     "metadata": {},
     "output_type": "display_data"
    },
    {
     "data": {
      "text/plain": [
       "'Evaluation: 321, Energy: -1395.4145048855175, Std: 6.164261353648132'"
      ]
     },
     "metadata": {},
     "output_type": "display_data"
    },
    {
     "data": {
      "text/plain": [
       "'Evaluation: 322, Energy: -1392.1445386371342, Std: 6.1623077158880974'"
      ]
     },
     "metadata": {},
     "output_type": "display_data"
    },
    {
     "data": {
      "text/plain": [
       "'Evaluation: 323, Energy: -1417.592939181451, Std: 5.930929076436023'"
      ]
     },
     "metadata": {},
     "output_type": "display_data"
    },
    {
     "data": {
      "text/plain": [
       "'Evaluation: 324, Energy: -1405.3467784619074, Std: 6.112866421001846'"
      ]
     },
     "metadata": {},
     "output_type": "display_data"
    },
    {
     "data": {
      "text/plain": [
       "'Evaluation: 325, Energy: -1392.942447956807, Std: 6.455559496360594'"
      ]
     },
     "metadata": {},
     "output_type": "display_data"
    },
    {
     "data": {
      "text/plain": [
       "'Evaluation: 326, Energy: -1404.6330822080017, Std: 5.9274304506294095'"
      ]
     },
     "metadata": {},
     "output_type": "display_data"
    },
    {
     "data": {
      "text/plain": [
       "'Evaluation: 327, Energy: -1416.8558887981585, Std: 6.229239618744513'"
      ]
     },
     "metadata": {},
     "output_type": "display_data"
    },
    {
     "data": {
      "text/plain": [
       "'Evaluation: 328, Energy: -1397.7602162685166, Std: 6.247930395043276'"
      ]
     },
     "metadata": {},
     "output_type": "display_data"
    },
    {
     "data": {
      "text/plain": [
       "'Evaluation: 329, Energy: -1404.6774079030233, Std: 6.501127764607547'"
      ]
     },
     "metadata": {},
     "output_type": "display_data"
    },
    {
     "data": {
      "text/plain": [
       "'Evaluation: 330, Energy: -1401.455420243402, Std: 6.107838892529838'"
      ]
     },
     "metadata": {},
     "output_type": "display_data"
    },
    {
     "data": {
      "text/plain": [
       "'Evaluation: 331, Energy: -1389.9320223787051, Std: 6.232410838231346'"
      ]
     },
     "metadata": {},
     "output_type": "display_data"
    },
    {
     "data": {
      "text/plain": [
       "'Evaluation: 332, Energy: -1397.5519739864365, Std: 6.3033406355575465'"
      ]
     },
     "metadata": {},
     "output_type": "display_data"
    },
    {
     "data": {
      "text/plain": [
       "'Evaluation: 333, Energy: -1404.5879692464782, Std: 6.188958589568982'"
      ]
     },
     "metadata": {},
     "output_type": "display_data"
    },
    {
     "data": {
      "text/plain": [
       "'Evaluation: 334, Energy: -1395.805210323521, Std: 6.3970110646896705'"
      ]
     },
     "metadata": {},
     "output_type": "display_data"
    },
    {
     "data": {
      "text/plain": [
       "'Evaluation: 335, Energy: -1401.173184267745, Std: 5.99345513042953'"
      ]
     },
     "metadata": {},
     "output_type": "display_data"
    },
    {
     "data": {
      "text/plain": [
       "'Evaluation: 336, Energy: -1400.632500200072, Std: 6.162103429402837'"
      ]
     },
     "metadata": {},
     "output_type": "display_data"
    },
    {
     "data": {
      "text/plain": [
       "'Evaluation: 337, Energy: -1413.6253018594264, Std: 6.178764935142188'"
      ]
     },
     "metadata": {},
     "output_type": "display_data"
    },
    {
     "data": {
      "text/plain": [
       "'Evaluation: 338, Energy: -1397.7303606185837, Std: 6.155672155832288'"
      ]
     },
     "metadata": {},
     "output_type": "display_data"
    },
    {
     "data": {
      "text/plain": [
       "'Evaluation: 339, Energy: -1394.2487093914153, Std: 6.411212924961378'"
      ]
     },
     "metadata": {},
     "output_type": "display_data"
    },
    {
     "data": {
      "text/plain": [
       "'Evaluation: 340, Energy: -1397.461797285005, Std: 6.314781300883468'"
      ]
     },
     "metadata": {},
     "output_type": "display_data"
    },
    {
     "data": {
      "text/plain": [
       "'Evaluation: 341, Energy: -1391.0532404228845, Std: 6.1461206731052656'"
      ]
     },
     "metadata": {},
     "output_type": "display_data"
    },
    {
     "data": {
      "text/plain": [
       "'Evaluation: 342, Energy: -1404.975824647479, Std: 6.248152820321583'"
      ]
     },
     "metadata": {},
     "output_type": "display_data"
    },
    {
     "data": {
      "text/plain": [
       "'Evaluation: 343, Energy: -1420.5360232458424, Std: 6.058540250174387'"
      ]
     },
     "metadata": {},
     "output_type": "display_data"
    },
    {
     "data": {
      "text/plain": [
       "'Evaluation: 344, Energy: -1409.1590129025985, Std: 6.127460453866754'"
      ]
     },
     "metadata": {},
     "output_type": "display_data"
    },
    {
     "data": {
      "text/plain": [
       "'Evaluation: 345, Energy: -1405.518751634441, Std: 6.766481745487215'"
      ]
     },
     "metadata": {},
     "output_type": "display_data"
    },
    {
     "data": {
      "text/plain": [
       "'Evaluation: 346, Energy: -1414.183058537714, Std: 6.036980437532562'"
      ]
     },
     "metadata": {},
     "output_type": "display_data"
    },
    {
     "data": {
      "text/plain": [
       "'Evaluation: 347, Energy: -1418.015785842313, Std: 6.121582683298008'"
      ]
     },
     "metadata": {},
     "output_type": "display_data"
    },
    {
     "data": {
      "text/plain": [
       "'Evaluation: 348, Energy: -1416.9187219771147, Std: 6.187823683804086'"
      ]
     },
     "metadata": {},
     "output_type": "display_data"
    },
    {
     "data": {
      "text/plain": [
       "'Evaluation: 349, Energy: -1411.6199224371169, Std: 6.000063652935762'"
      ]
     },
     "metadata": {},
     "output_type": "display_data"
    },
    {
     "data": {
      "text/plain": [
       "'Evaluation: 350, Energy: -1397.8143436534501, Std: 5.915101553533224'"
      ]
     },
     "metadata": {},
     "output_type": "display_data"
    },
    {
     "data": {
      "text/plain": [
       "'Evaluation: 351, Energy: -1398.401232619842, Std: 6.302983175755561'"
      ]
     },
     "metadata": {},
     "output_type": "display_data"
    },
    {
     "data": {
      "text/plain": [
       "'Evaluation: 352, Energy: -1405.1486026965677, Std: 6.522493317687357'"
      ]
     },
     "metadata": {},
     "output_type": "display_data"
    },
    {
     "data": {
      "text/plain": [
       "'Evaluation: 353, Energy: -1400.7044073193263, Std: 6.401737638742887'"
      ]
     },
     "metadata": {},
     "output_type": "display_data"
    },
    {
     "data": {
      "text/plain": [
       "'Evaluation: 354, Energy: -1410.769468813874, Std: 6.263712576453529'"
      ]
     },
     "metadata": {},
     "output_type": "display_data"
    },
    {
     "data": {
      "text/plain": [
       "'Evaluation: 355, Energy: -1413.661839166082, Std: 5.98849131606404'"
      ]
     },
     "metadata": {},
     "output_type": "display_data"
    },
    {
     "data": {
      "text/plain": [
       "'Evaluation: 356, Energy: -1402.8520552220762, Std: 6.406701373804614'"
      ]
     },
     "metadata": {},
     "output_type": "display_data"
    },
    {
     "data": {
      "text/plain": [
       "'Evaluation: 357, Energy: -1396.954470332769, Std: 6.222767354093287'"
      ]
     },
     "metadata": {},
     "output_type": "display_data"
    },
    {
     "data": {
      "text/plain": [
       "'Evaluation: 358, Energy: -1406.1825075262127, Std: 6.2929165710532'"
      ]
     },
     "metadata": {},
     "output_type": "display_data"
    },
    {
     "data": {
      "text/plain": [
       "'Evaluation: 359, Energy: -1441.4496677575132, Std: 5.691167588136377'"
      ]
     },
     "metadata": {},
     "output_type": "display_data"
    },
    {
     "data": {
      "text/plain": [
       "'Evaluation: 360, Energy: -1424.146793442626, Std: 5.830723693226953'"
      ]
     },
     "metadata": {},
     "output_type": "display_data"
    },
    {
     "data": {
      "text/plain": [
       "'Evaluation: 361, Energy: -1434.1371337944022, Std: 5.7061941285209175'"
      ]
     },
     "metadata": {},
     "output_type": "display_data"
    },
    {
     "data": {
      "text/plain": [
       "'Evaluation: 362, Energy: -1445.8261796433892, Std: 5.49302673529772'"
      ]
     },
     "metadata": {},
     "output_type": "display_data"
    },
    {
     "data": {
      "text/plain": [
       "'Evaluation: 363, Energy: -1422.2383742284833, Std: 6.041741971647654'"
      ]
     },
     "metadata": {},
     "output_type": "display_data"
    },
    {
     "data": {
      "text/plain": [
       "'Evaluation: 364, Energy: -1436.8222486711602, Std: 5.820901775105101'"
      ]
     },
     "metadata": {},
     "output_type": "display_data"
    },
    {
     "data": {
      "text/plain": [
       "'Evaluation: 365, Energy: -1429.432684219042, Std: 6.143109972682507'"
      ]
     },
     "metadata": {},
     "output_type": "display_data"
    },
    {
     "data": {
      "text/plain": [
       "'Evaluation: 366, Energy: -1420.7698410284263, Std: 6.380991116408767'"
      ]
     },
     "metadata": {},
     "output_type": "display_data"
    },
    {
     "data": {
      "text/plain": [
       "'Evaluation: 367, Energy: -1429.385748837603, Std: 5.95657184336796'"
      ]
     },
     "metadata": {},
     "output_type": "display_data"
    },
    {
     "data": {
      "text/plain": [
       "'Evaluation: 368, Energy: -1433.913312249513, Std: 5.41414832732399'"
      ]
     },
     "metadata": {},
     "output_type": "display_data"
    },
    {
     "data": {
      "text/plain": [
       "'Evaluation: 369, Energy: -1415.7264866148867, Std: 6.267639381630002'"
      ]
     },
     "metadata": {},
     "output_type": "display_data"
    },
    {
     "data": {
      "text/plain": [
       "'Evaluation: 370, Energy: -1426.1971997806297, Std: 6.613460080907049'"
      ]
     },
     "metadata": {},
     "output_type": "display_data"
    },
    {
     "data": {
      "text/plain": [
       "'Evaluation: 371, Energy: -1426.0693365958898, Std: 5.94831293239982'"
      ]
     },
     "metadata": {},
     "output_type": "display_data"
    },
    {
     "data": {
      "text/plain": [
       "'Evaluation: 372, Energy: -1438.3574949872602, Std: 5.782855095137721'"
      ]
     },
     "metadata": {},
     "output_type": "display_data"
    },
    {
     "data": {
      "text/plain": [
       "'Evaluation: 373, Energy: -1441.1323360269669, Std: 5.823842812457168'"
      ]
     },
     "metadata": {},
     "output_type": "display_data"
    },
    {
     "data": {
      "text/plain": [
       "'Evaluation: 374, Energy: -1429.339413807775, Std: 5.9272852993006815'"
      ]
     },
     "metadata": {},
     "output_type": "display_data"
    },
    {
     "data": {
      "text/plain": [
       "'Evaluation: 375, Energy: -1434.4178123291297, Std: 5.864177777365458'"
      ]
     },
     "metadata": {},
     "output_type": "display_data"
    },
    {
     "data": {
      "text/plain": [
       "'Evaluation: 376, Energy: -1430.0534955223727, Std: 5.890598887261125'"
      ]
     },
     "metadata": {},
     "output_type": "display_data"
    },
    {
     "data": {
      "text/plain": [
       "'Evaluation: 377, Energy: -1441.9025480230962, Std: 5.821172255191513'"
      ]
     },
     "metadata": {},
     "output_type": "display_data"
    },
    {
     "data": {
      "text/plain": [
       "'Evaluation: 378, Energy: -1431.8950903517025, Std: 6.399104836396859'"
      ]
     },
     "metadata": {},
     "output_type": "display_data"
    },
    {
     "data": {
      "text/plain": [
       "'Evaluation: 379, Energy: -1438.5336367811026, Std: 5.7156314374921555'"
      ]
     },
     "metadata": {},
     "output_type": "display_data"
    },
    {
     "data": {
      "text/plain": [
       "'Evaluation: 380, Energy: -1432.3402787814077, Std: 5.861328831984054'"
      ]
     },
     "metadata": {},
     "output_type": "display_data"
    },
    {
     "data": {
      "text/plain": [
       "'Evaluation: 381, Energy: -1441.6123530361394, Std: 5.602512872050975'"
      ]
     },
     "metadata": {},
     "output_type": "display_data"
    },
    {
     "data": {
      "text/plain": [
       "'Evaluation: 382, Energy: -1439.3232366616699, Std: 5.80737222535949'"
      ]
     },
     "metadata": {},
     "output_type": "display_data"
    },
    {
     "data": {
      "text/plain": [
       "'Evaluation: 383, Energy: -1430.5053546526524, Std: 5.890931082446069'"
      ]
     },
     "metadata": {},
     "output_type": "display_data"
    },
    {
     "data": {
      "text/plain": [
       "'Evaluation: 384, Energy: -1438.323332958337, Std: 5.645452839435173'"
      ]
     },
     "metadata": {},
     "output_type": "display_data"
    },
    {
     "data": {
      "text/plain": [
       "'Evaluation: 385, Energy: -1445.1498095234663, Std: 5.880058913488828'"
      ]
     },
     "metadata": {},
     "output_type": "display_data"
    },
    {
     "data": {
      "text/plain": [
       "'Evaluation: 386, Energy: -1436.8416831413306, Std: 5.769331065174509'"
      ]
     },
     "metadata": {},
     "output_type": "display_data"
    },
    {
     "data": {
      "text/plain": [
       "'Evaluation: 387, Energy: -1444.019191493087, Std: 5.477060297563073'"
      ]
     },
     "metadata": {},
     "output_type": "display_data"
    },
    {
     "data": {
      "text/plain": [
       "'Evaluation: 388, Energy: -1444.2975017155625, Std: 5.749367680751606'"
      ]
     },
     "metadata": {},
     "output_type": "display_data"
    },
    {
     "data": {
      "text/plain": [
       "'Evaluation: 389, Energy: -1440.4844926445762, Std: 5.8034491740199465'"
      ]
     },
     "metadata": {},
     "output_type": "display_data"
    },
    {
     "data": {
      "text/plain": [
       "'Evaluation: 390, Energy: -1453.4999044490653, Std: 5.617198185322735'"
      ]
     },
     "metadata": {},
     "output_type": "display_data"
    },
    {
     "data": {
      "text/plain": [
       "'Evaluation: 391, Energy: -1425.6122374032275, Std: 6.254795867853295'"
      ]
     },
     "metadata": {},
     "output_type": "display_data"
    },
    {
     "data": {
      "text/plain": [
       "'Evaluation: 392, Energy: -1441.1033014044901, Std: 5.86426820989803'"
      ]
     },
     "metadata": {},
     "output_type": "display_data"
    },
    {
     "data": {
      "text/plain": [
       "'Evaluation: 393, Energy: -1436.0336193750531, Std: 5.976877443198911'"
      ]
     },
     "metadata": {},
     "output_type": "display_data"
    },
    {
     "data": {
      "text/plain": [
       "'Evaluation: 394, Energy: -1438.190123996709, Std: 5.631956173517984'"
      ]
     },
     "metadata": {},
     "output_type": "display_data"
    },
    {
     "data": {
      "text/plain": [
       "'Evaluation: 395, Energy: -1448.3613531930278, Std: 5.495681172906961'"
      ]
     },
     "metadata": {},
     "output_type": "display_data"
    },
    {
     "data": {
      "text/plain": [
       "'Evaluation: 396, Energy: -1444.8534128923222, Std: 5.834971805799602'"
      ]
     },
     "metadata": {},
     "output_type": "display_data"
    },
    {
     "data": {
      "text/plain": [
       "'Evaluation: 397, Energy: -1446.7508025762145, Std: 5.395799882345353'"
      ]
     },
     "metadata": {},
     "output_type": "display_data"
    },
    {
     "data": {
      "text/plain": [
       "'Evaluation: 398, Energy: -1449.8953284186111, Std: 5.398487626257783'"
      ]
     },
     "metadata": {},
     "output_type": "display_data"
    },
    {
     "data": {
      "text/plain": [
       "'Evaluation: 399, Energy: -1447.9332275639777, Std: 5.721762776758752'"
      ]
     },
     "metadata": {},
     "output_type": "display_data"
    },
    {
     "data": {
      "text/plain": [
       "'Evaluation: 400, Energy: -1439.9510958535593, Std: 5.650007543993332'"
      ]
     },
     "metadata": {},
     "output_type": "display_data"
    },
    {
     "data": {
      "text/plain": [
       "'Evaluation: 401, Energy: -1447.6547469221969, Std: 5.698258426171581'"
      ]
     },
     "metadata": {},
     "output_type": "display_data"
    },
    {
     "data": {
      "text/plain": [
       "'Evaluation: 402, Energy: -1444.874429428621, Std: 5.7470413978527475'"
      ]
     },
     "metadata": {},
     "output_type": "display_data"
    },
    {
     "data": {
      "text/plain": [
       "'Evaluation: 403, Energy: -1440.3487108107238, Std: 5.563153285488146'"
      ]
     },
     "metadata": {},
     "output_type": "display_data"
    },
    {
     "data": {
      "text/plain": [
       "'Evaluation: 404, Energy: -1459.660524853649, Std: 5.299290955697882'"
      ]
     },
     "metadata": {},
     "output_type": "display_data"
    },
    {
     "data": {
      "text/plain": [
       "'Evaluation: 405, Energy: -1439.8864820323583, Std: 5.7765944434967205'"
      ]
     },
     "metadata": {},
     "output_type": "display_data"
    },
    {
     "data": {
      "text/plain": [
       "'Evaluation: 406, Energy: -1443.7249800261914, Std: 5.746716524983264'"
      ]
     },
     "metadata": {},
     "output_type": "display_data"
    },
    {
     "data": {
      "text/plain": [
       "'Evaluation: 407, Energy: -1441.7837799829795, Std: 5.742386487212428'"
      ]
     },
     "metadata": {},
     "output_type": "display_data"
    },
    {
     "data": {
      "text/plain": [
       "'Evaluation: 408, Energy: -1448.4951522333486, Std: 5.429587522184912'"
      ]
     },
     "metadata": {},
     "output_type": "display_data"
    },
    {
     "data": {
      "text/plain": [
       "'Evaluation: 409, Energy: -1444.3772413953627, Std: 5.907720486109979'"
      ]
     },
     "metadata": {},
     "output_type": "display_data"
    },
    {
     "data": {
      "text/plain": [
       "'Evaluation: 410, Energy: -1443.4430286285706, Std: 5.729050129923085'"
      ]
     },
     "metadata": {},
     "output_type": "display_data"
    },
    {
     "data": {
      "text/plain": [
       "'Evaluation: 411, Energy: -1453.7877040897597, Std: 5.544419607310782'"
      ]
     },
     "metadata": {},
     "output_type": "display_data"
    },
    {
     "data": {
      "text/plain": [
       "'Evaluation: 412, Energy: -1445.7315945511841, Std: 5.6287458970655075'"
      ]
     },
     "metadata": {},
     "output_type": "display_data"
    },
    {
     "data": {
      "text/plain": [
       "'Evaluation: 413, Energy: -1428.6572354783536, Std: 5.779577346225452'"
      ]
     },
     "metadata": {},
     "output_type": "display_data"
    },
    {
     "data": {
      "text/plain": [
       "'Evaluation: 414, Energy: -1447.5702972268732, Std: 5.538996768422587'"
      ]
     },
     "metadata": {},
     "output_type": "display_data"
    },
    {
     "data": {
      "text/plain": [
       "'Evaluation: 415, Energy: -1441.3867358025648, Std: 5.822007487731901'"
      ]
     },
     "metadata": {},
     "output_type": "display_data"
    },
    {
     "data": {
      "text/plain": [
       "'Evaluation: 416, Energy: -1437.091765671399, Std: 6.021305126933797'"
      ]
     },
     "metadata": {},
     "output_type": "display_data"
    },
    {
     "data": {
      "text/plain": [
       "'Evaluation: 417, Energy: -1443.2063179802449, Std: 5.983409485989615'"
      ]
     },
     "metadata": {},
     "output_type": "display_data"
    },
    {
     "data": {
      "text/plain": [
       "'Evaluation: 418, Energy: -1437.953154627771, Std: 5.683923282924824'"
      ]
     },
     "metadata": {},
     "output_type": "display_data"
    },
    {
     "data": {
      "text/plain": [
       "'Evaluation: 419, Energy: -1437.7017562307672, Std: 6.563250635091991'"
      ]
     },
     "metadata": {},
     "output_type": "display_data"
    },
    {
     "data": {
      "text/plain": [
       "'Evaluation: 420, Energy: -1436.159936659749, Std: 5.836566050343311'"
      ]
     },
     "metadata": {},
     "output_type": "display_data"
    },
    {
     "data": {
      "text/plain": [
       "'Evaluation: 421, Energy: -1451.2816239515957, Std: 5.448909588488324'"
      ]
     },
     "metadata": {},
     "output_type": "display_data"
    },
    {
     "data": {
      "text/plain": [
       "'Evaluation: 422, Energy: -1456.2554459354756, Std: 5.438432625371788'"
      ]
     },
     "metadata": {},
     "output_type": "display_data"
    },
    {
     "data": {
      "text/plain": [
       "'Evaluation: 423, Energy: -1437.468898596785, Std: 5.806020671368672'"
      ]
     },
     "metadata": {},
     "output_type": "display_data"
    },
    {
     "data": {
      "text/plain": [
       "'Evaluation: 424, Energy: -1451.5396998172203, Std: 5.455595723723914'"
      ]
     },
     "metadata": {},
     "output_type": "display_data"
    },
    {
     "data": {
      "text/plain": [
       "'Evaluation: 425, Energy: -1436.2415188489088, Std: 5.742473748300356'"
      ]
     },
     "metadata": {},
     "output_type": "display_data"
    },
    {
     "data": {
      "text/plain": [
       "'Evaluation: 426, Energy: -1452.6478770794204, Std: 5.330795644496279'"
      ]
     },
     "metadata": {},
     "output_type": "display_data"
    },
    {
     "data": {
      "text/plain": [
       "'Evaluation: 427, Energy: -1436.092353277959, Std: 5.628271486823246'"
      ]
     },
     "metadata": {},
     "output_type": "display_data"
    },
    {
     "data": {
      "text/plain": [
       "'Evaluation: 428, Energy: -1458.4211103864236, Std: 5.311881248803715'"
      ]
     },
     "metadata": {},
     "output_type": "display_data"
    },
    {
     "data": {
      "text/plain": [
       "'Evaluation: 429, Energy: -1445.597629941764, Std: 5.760714571263233'"
      ]
     },
     "metadata": {},
     "output_type": "display_data"
    },
    {
     "data": {
      "text/plain": [
       "'Evaluation: 430, Energy: -1437.2098356528454, Std: 5.988367969296116'"
      ]
     },
     "metadata": {},
     "output_type": "display_data"
    },
    {
     "data": {
      "text/plain": [
       "'Evaluation: 431, Energy: -1447.7234426978425, Std: 5.758611024925229'"
      ]
     },
     "metadata": {},
     "output_type": "display_data"
    },
    {
     "data": {
      "text/plain": [
       "'Evaluation: 432, Energy: -1440.190643069478, Std: 5.821108733407272'"
      ]
     },
     "metadata": {},
     "output_type": "display_data"
    },
    {
     "data": {
      "text/plain": [
       "'Evaluation: 433, Energy: -1446.4580545716424, Std: 5.55088331887829'"
      ]
     },
     "metadata": {},
     "output_type": "display_data"
    },
    {
     "data": {
      "text/plain": [
       "'Evaluation: 434, Energy: -1442.749791587285, Std: 5.88045619294763'"
      ]
     },
     "metadata": {},
     "output_type": "display_data"
    },
    {
     "data": {
      "text/plain": [
       "'Evaluation: 435, Energy: -1443.8844426576836, Std: 5.755057062181465'"
      ]
     },
     "metadata": {},
     "output_type": "display_data"
    },
    {
     "data": {
      "text/plain": [
       "'Evaluation: 436, Energy: -1441.7653631895714, Std: 5.886661036429024'"
      ]
     },
     "metadata": {},
     "output_type": "display_data"
    },
    {
     "data": {
      "text/plain": [
       "'Evaluation: 437, Energy: -1436.2358940110962, Std: 6.0182823253788476'"
      ]
     },
     "metadata": {},
     "output_type": "display_data"
    },
    {
     "data": {
      "text/plain": [
       "'Evaluation: 438, Energy: -1442.4605411559016, Std: 5.662237437136716'"
      ]
     },
     "metadata": {},
     "output_type": "display_data"
    },
    {
     "data": {
      "text/plain": [
       "'Evaluation: 439, Energy: -1437.8521675174873, Std: 6.307860233848332'"
      ]
     },
     "metadata": {},
     "output_type": "display_data"
    },
    {
     "data": {
      "text/plain": [
       "'Evaluation: 440, Energy: -1443.3608246461788, Std: 5.969733762777712'"
      ]
     },
     "metadata": {},
     "output_type": "display_data"
    },
    {
     "data": {
      "text/plain": [
       "'Evaluation: 441, Energy: -1449.3287175691978, Std: 5.77630313423793'"
      ]
     },
     "metadata": {},
     "output_type": "display_data"
    },
    {
     "data": {
      "text/plain": [
       "'Evaluation: 442, Energy: -1444.6876865525314, Std: 6.031622385128507'"
      ]
     },
     "metadata": {},
     "output_type": "display_data"
    },
    {
     "data": {
      "text/plain": [
       "'Evaluation: 443, Energy: -1441.1827130961994, Std: 5.806379333437219'"
      ]
     },
     "metadata": {},
     "output_type": "display_data"
    },
    {
     "data": {
      "text/plain": [
       "'Evaluation: 444, Energy: -1449.2199845853586, Std: 5.567240448927044'"
      ]
     },
     "metadata": {},
     "output_type": "display_data"
    },
    {
     "data": {
      "text/plain": [
       "'Evaluation: 445, Energy: -1448.5571806738128, Std: 5.563903013520728'"
      ]
     },
     "metadata": {},
     "output_type": "display_data"
    },
    {
     "data": {
      "text/plain": [
       "'Evaluation: 446, Energy: -1440.3970623666544, Std: 6.012513406545176'"
      ]
     },
     "metadata": {},
     "output_type": "display_data"
    },
    {
     "data": {
      "text/plain": [
       "'Evaluation: 447, Energy: -1443.7846339446608, Std: 6.015348946279882'"
      ]
     },
     "metadata": {},
     "output_type": "display_data"
    },
    {
     "data": {
      "text/plain": [
       "'Evaluation: 448, Energy: -1445.1167272017763, Std: 5.614676061071569'"
      ]
     },
     "metadata": {},
     "output_type": "display_data"
    },
    {
     "data": {
      "text/plain": [
       "'Evaluation: 449, Energy: -1449.1516292082215, Std: 5.348254901778314'"
      ]
     },
     "metadata": {},
     "output_type": "display_data"
    },
    {
     "data": {
      "text/plain": [
       "'Evaluation: 450, Energy: -1439.4186793978997, Std: 5.909782341917132'"
      ]
     },
     "metadata": {},
     "output_type": "display_data"
    },
    {
     "data": {
      "text/plain": [
       "'Evaluation: 451, Energy: -1444.2368337905707, Std: 5.842646038581749'"
      ]
     },
     "metadata": {},
     "output_type": "display_data"
    },
    {
     "data": {
      "text/plain": [
       "'Evaluation: 452, Energy: -1446.6777271158824, Std: 5.6339112976099965'"
      ]
     },
     "metadata": {},
     "output_type": "display_data"
    },
    {
     "data": {
      "text/plain": [
       "'Evaluation: 453, Energy: -1440.7261101983343, Std: 5.442218242851333'"
      ]
     },
     "metadata": {},
     "output_type": "display_data"
    },
    {
     "data": {
      "text/plain": [
       "'Evaluation: 454, Energy: -1453.1528762776743, Std: 5.401162465297231'"
      ]
     },
     "metadata": {},
     "output_type": "display_data"
    },
    {
     "data": {
      "text/plain": [
       "'Evaluation: 455, Energy: -1441.133219973163, Std: 5.992428301055668'"
      ]
     },
     "metadata": {},
     "output_type": "display_data"
    },
    {
     "data": {
      "text/plain": [
       "'Evaluation: 456, Energy: -1444.6621069603823, Std: 5.784405597569068'"
      ]
     },
     "metadata": {},
     "output_type": "display_data"
    },
    {
     "data": {
      "text/plain": [
       "'Evaluation: 457, Energy: -1457.829776878894, Std: 5.331008456955886'"
      ]
     },
     "metadata": {},
     "output_type": "display_data"
    },
    {
     "data": {
      "text/plain": [
       "'Evaluation: 458, Energy: -1439.3591023056174, Std: 5.840931356419716'"
      ]
     },
     "metadata": {},
     "output_type": "display_data"
    },
    {
     "data": {
      "text/plain": [
       "'Evaluation: 459, Energy: -1441.5583881973982, Std: 5.724666298462128'"
      ]
     },
     "metadata": {},
     "output_type": "display_data"
    },
    {
     "data": {
      "text/plain": [
       "'Evaluation: 460, Energy: -1447.571886094159, Std: 5.645227369213515'"
      ]
     },
     "metadata": {},
     "output_type": "display_data"
    },
    {
     "data": {
      "text/plain": [
       "'Evaluation: 461, Energy: -1440.5129051663714, Std: 5.786289696077037'"
      ]
     },
     "metadata": {},
     "output_type": "display_data"
    },
    {
     "data": {
      "text/plain": [
       "'Evaluation: 462, Energy: -1445.5800633625308, Std: 5.921574483789'"
      ]
     },
     "metadata": {},
     "output_type": "display_data"
    },
    {
     "data": {
      "text/plain": [
       "'Evaluation: 463, Energy: -1435.8244612752208, Std: 5.783120663151744'"
      ]
     },
     "metadata": {},
     "output_type": "display_data"
    },
    {
     "data": {
      "text/plain": [
       "'Evaluation: 464, Energy: -1445.0630577674926, Std: 5.833724376702515'"
      ]
     },
     "metadata": {},
     "output_type": "display_data"
    },
    {
     "data": {
      "text/plain": [
       "'Evaluation: 465, Energy: -1448.9158278415023, Std: 5.63082503506432'"
      ]
     },
     "metadata": {},
     "output_type": "display_data"
    },
    {
     "data": {
      "text/plain": [
       "'Evaluation: 466, Energy: -1449.190156831607, Std: 5.904938772398598'"
      ]
     },
     "metadata": {},
     "output_type": "display_data"
    },
    {
     "data": {
      "text/plain": [
       "'Evaluation: 467, Energy: -1442.7994609542893, Std: 5.672054538456354'"
      ]
     },
     "metadata": {},
     "output_type": "display_data"
    },
    {
     "data": {
      "text/plain": [
       "'Evaluation: 468, Energy: -1444.621244403225, Std: 5.7636332479762'"
      ]
     },
     "metadata": {},
     "output_type": "display_data"
    },
    {
     "data": {
      "text/plain": [
       "'Evaluation: 469, Energy: -1443.7390327036292, Std: 5.453986274654787'"
      ]
     },
     "metadata": {},
     "output_type": "display_data"
    },
    {
     "data": {
      "text/plain": [
       "'Evaluation: 470, Energy: -1448.0971790385681, Std: 5.464157115233137'"
      ]
     },
     "metadata": {},
     "output_type": "display_data"
    },
    {
     "data": {
      "text/plain": [
       "'Evaluation: 471, Energy: -1449.4657398913018, Std: 5.70417058603013'"
      ]
     },
     "metadata": {},
     "output_type": "display_data"
    },
    {
     "data": {
      "text/plain": [
       "'Evaluation: 472, Energy: -1446.2919229451738, Std: 5.58469601310965'"
      ]
     },
     "metadata": {},
     "output_type": "display_data"
    },
    {
     "data": {
      "text/plain": [
       "'Evaluation: 473, Energy: -1440.7330969093728, Std: 5.8980890262207675'"
      ]
     },
     "metadata": {},
     "output_type": "display_data"
    },
    {
     "data": {
      "text/plain": [
       "'Evaluation: 474, Energy: -1441.5968566777215, Std: 6.055494805902781'"
      ]
     },
     "metadata": {},
     "output_type": "display_data"
    },
    {
     "data": {
      "text/plain": [
       "'Evaluation: 475, Energy: -1442.0535650641689, Std: 5.845807518850971'"
      ]
     },
     "metadata": {},
     "output_type": "display_data"
    },
    {
     "data": {
      "text/plain": [
       "'Evaluation: 476, Energy: -1447.3936368554084, Std: 5.491324072769224'"
      ]
     },
     "metadata": {},
     "output_type": "display_data"
    },
    {
     "data": {
      "text/plain": [
       "'Evaluation: 477, Energy: -1435.108634520071, Std: 5.830419563932683'"
      ]
     },
     "metadata": {},
     "output_type": "display_data"
    },
    {
     "data": {
      "text/plain": [
       "'Evaluation: 478, Energy: -1452.3049992906192, Std: 5.5234585865803565'"
      ]
     },
     "metadata": {},
     "output_type": "display_data"
    },
    {
     "data": {
      "text/plain": [
       "'Evaluation: 479, Energy: -1432.791624857122, Std: 6.027686233203227'"
      ]
     },
     "metadata": {},
     "output_type": "display_data"
    },
    {
     "data": {
      "text/plain": [
       "'Evaluation: 480, Energy: -1444.6672049420322, Std: 5.527156534883163'"
      ]
     },
     "metadata": {},
     "output_type": "display_data"
    },
    {
     "data": {
      "text/plain": [
       "'Evaluation: 481, Energy: -1449.603983524123, Std: 5.633112844802673'"
      ]
     },
     "metadata": {},
     "output_type": "display_data"
    },
    {
     "data": {
      "text/plain": [
       "'Evaluation: 482, Energy: -1446.8097832046346, Std: 5.636909416178116'"
      ]
     },
     "metadata": {},
     "output_type": "display_data"
    },
    {
     "data": {
      "text/plain": [
       "'Evaluation: 483, Energy: -1450.9297890346818, Std: 5.527856992172075'"
      ]
     },
     "metadata": {},
     "output_type": "display_data"
    },
    {
     "data": {
      "text/plain": [
       "'Evaluation: 484, Energy: -1446.0205359451616, Std: 5.544753091699222'"
      ]
     },
     "metadata": {},
     "output_type": "display_data"
    },
    {
     "data": {
      "text/plain": [
       "'Evaluation: 485, Energy: -1444.8412399044546, Std: 5.65229112943523'"
      ]
     },
     "metadata": {},
     "output_type": "display_data"
    },
    {
     "data": {
      "text/plain": [
       "'Evaluation: 486, Energy: -1436.281964518126, Std: 5.937545955767048'"
      ]
     },
     "metadata": {},
     "output_type": "display_data"
    },
    {
     "data": {
      "text/plain": [
       "'Evaluation: 487, Energy: -1442.4722563788246, Std: 5.906341749502324'"
      ]
     },
     "metadata": {},
     "output_type": "display_data"
    },
    {
     "data": {
      "text/plain": [
       "'Evaluation: 488, Energy: -1439.1013643790152, Std: 5.878996944281935'"
      ]
     },
     "metadata": {},
     "output_type": "display_data"
    },
    {
     "data": {
      "text/plain": [
       "'Evaluation: 489, Energy: -1443.00532746902, Std: 5.823675655269992'"
      ]
     },
     "metadata": {},
     "output_type": "display_data"
    },
    {
     "data": {
      "text/plain": [
       "'Evaluation: 490, Energy: -1453.6857303084744, Std: 5.5563767547243295'"
      ]
     },
     "metadata": {},
     "output_type": "display_data"
    },
    {
     "data": {
      "text/plain": [
       "'Evaluation: 491, Energy: -1449.8466413099486, Std: 5.659198665169648'"
      ]
     },
     "metadata": {},
     "output_type": "display_data"
    },
    {
     "data": {
      "text/plain": [
       "'Evaluation: 492, Energy: -1443.7808787191773, Std: 5.741637176928319'"
      ]
     },
     "metadata": {},
     "output_type": "display_data"
    },
    {
     "data": {
      "text/plain": [
       "'Evaluation: 493, Energy: -1437.2374912264618, Std: 5.8220967874525735'"
      ]
     },
     "metadata": {},
     "output_type": "display_data"
    },
    {
     "data": {
      "text/plain": [
       "'Evaluation: 494, Energy: -1452.3603914550822, Std: 5.192148275936412'"
      ]
     },
     "metadata": {},
     "output_type": "display_data"
    },
    {
     "data": {
      "text/plain": [
       "'Evaluation: 495, Energy: -1447.8915323914368, Std: 5.613589474689756'"
      ]
     },
     "metadata": {},
     "output_type": "display_data"
    },
    {
     "data": {
      "text/plain": [
       "'Evaluation: 496, Energy: -1443.6520477855668, Std: 5.636777403860792'"
      ]
     },
     "metadata": {},
     "output_type": "display_data"
    },
    {
     "data": {
      "text/plain": [
       "'Evaluation: 497, Energy: -1441.3968365903277, Std: 5.688316649192467'"
      ]
     },
     "metadata": {},
     "output_type": "display_data"
    },
    {
     "data": {
      "text/plain": [
       "'Evaluation: 498, Energy: -1448.2902825954782, Std: 5.5968935194584315'"
      ]
     },
     "metadata": {},
     "output_type": "display_data"
    },
    {
     "data": {
      "text/plain": [
       "'Evaluation: 499, Energy: -1443.8455088985281, Std: 5.998464992380561'"
      ]
     },
     "metadata": {},
     "output_type": "display_data"
    },
    {
     "data": {
      "text/plain": [
       "'Evaluation: 500, Energy: -1439.881816878042, Std: 5.741586263926243'"
      ]
     },
     "metadata": {},
     "output_type": "display_data"
    },
    {
     "data": {
      "text/plain": [
       "'Evaluation: 501, Energy: -1441.140264708486, Std: 5.6597081094635024'"
      ]
     },
     "metadata": {},
     "output_type": "display_data"
    },
    {
     "data": {
      "text/plain": [
       "'Evaluation: 502, Energy: -1440.4390148518921, Std: 5.888053098243103'"
      ]
     },
     "metadata": {},
     "output_type": "display_data"
    },
    {
     "data": {
      "text/plain": [
       "'Evaluation: 503, Energy: -1448.1970628118058, Std: 5.540973325281782'"
      ]
     },
     "metadata": {},
     "output_type": "display_data"
    },
    {
     "data": {
      "text/plain": [
       "'Evaluation: 504, Energy: -1446.6443324985253, Std: 5.56597846649631'"
      ]
     },
     "metadata": {},
     "output_type": "display_data"
    },
    {
     "data": {
      "text/plain": [
       "'Evaluation: 505, Energy: -1442.247485754134, Std: 5.472321460952756'"
      ]
     },
     "metadata": {},
     "output_type": "display_data"
    },
    {
     "data": {
      "text/plain": [
       "'Evaluation: 506, Energy: -1443.8440373630947, Std: 5.741175555857366'"
      ]
     },
     "metadata": {},
     "output_type": "display_data"
    },
    {
     "data": {
      "text/plain": [
       "'Evaluation: 507, Energy: -1451.7178201921877, Std: 5.615324661210019'"
      ]
     },
     "metadata": {},
     "output_type": "display_data"
    },
    {
     "data": {
      "text/plain": [
       "'Evaluation: 508, Energy: -1447.8014471667095, Std: 5.605726571193622'"
      ]
     },
     "metadata": {},
     "output_type": "display_data"
    },
    {
     "data": {
      "text/plain": [
       "'Evaluation: 509, Energy: -1433.988610157543, Std: 6.0332833858244035'"
      ]
     },
     "metadata": {},
     "output_type": "display_data"
    },
    {
     "data": {
      "text/plain": [
       "'Evaluation: 510, Energy: -1456.0876923466806, Std: 5.340588050930477'"
      ]
     },
     "metadata": {},
     "output_type": "display_data"
    },
    {
     "data": {
      "text/plain": [
       "'Evaluation: 511, Energy: -1447.30258369379, Std: 5.656203324795169'"
      ]
     },
     "metadata": {},
     "output_type": "display_data"
    },
    {
     "data": {
      "text/plain": [
       "'Evaluation: 512, Energy: -1431.5264678408346, Std: 5.784119572237018'"
      ]
     },
     "metadata": {},
     "output_type": "display_data"
    },
    {
     "data": {
      "text/plain": [
       "'Evaluation: 513, Energy: -1429.8371677171835, Std: 6.165509572156577'"
      ]
     },
     "metadata": {},
     "output_type": "display_data"
    },
    {
     "data": {
      "text/plain": [
       "'Evaluation: 514, Energy: -1452.2676531226164, Std: 5.578427458759369'"
      ]
     },
     "metadata": {},
     "output_type": "display_data"
    },
    {
     "data": {
      "text/plain": [
       "'Evaluation: 515, Energy: -1448.3195210344488, Std: 5.863658665708602'"
      ]
     },
     "metadata": {},
     "output_type": "display_data"
    },
    {
     "data": {
      "text/plain": [
       "'Evaluation: 516, Energy: -1451.3728441050657, Std: 5.4525852187918975'"
      ]
     },
     "metadata": {},
     "output_type": "display_data"
    },
    {
     "data": {
      "text/plain": [
       "'Evaluation: 517, Energy: -1452.5000178088276, Std: 5.741437432767478'"
      ]
     },
     "metadata": {},
     "output_type": "display_data"
    },
    {
     "data": {
      "text/plain": [
       "'Evaluation: 518, Energy: -1452.6083585988256, Std: 5.663569707045553'"
      ]
     },
     "metadata": {},
     "output_type": "display_data"
    },
    {
     "data": {
      "text/plain": [
       "'Evaluation: 519, Energy: -1439.5667390443512, Std: 5.957413049344763'"
      ]
     },
     "metadata": {},
     "output_type": "display_data"
    },
    {
     "data": {
      "text/plain": [
       "'Evaluation: 520, Energy: -1450.856727567848, Std: 5.680724280248864'"
      ]
     },
     "metadata": {},
     "output_type": "display_data"
    },
    {
     "data": {
      "text/plain": [
       "'Evaluation: 521, Energy: -1450.827570786751, Std: 5.341798472888919'"
      ]
     },
     "metadata": {},
     "output_type": "display_data"
    },
    {
     "data": {
      "text/plain": [
       "'Evaluation: 522, Energy: -1446.1966763879022, Std: 5.687662554856937'"
      ]
     },
     "metadata": {},
     "output_type": "display_data"
    },
    {
     "data": {
      "text/plain": [
       "'Evaluation: 523, Energy: -1445.8728631274207, Std: 5.734155408796309'"
      ]
     },
     "metadata": {},
     "output_type": "display_data"
    },
    {
     "data": {
      "text/plain": [
       "'Evaluation: 524, Energy: -1443.8501934061403, Std: 5.7026594380280295'"
      ]
     },
     "metadata": {},
     "output_type": "display_data"
    },
    {
     "data": {
      "text/plain": [
       "'Evaluation: 525, Energy: -1451.8463585496888, Std: 5.751385982745136'"
      ]
     },
     "metadata": {},
     "output_type": "display_data"
    },
    {
     "data": {
      "text/plain": [
       "'Evaluation: 526, Energy: -1425.8962130822945, Std: 5.811337993120386'"
      ]
     },
     "metadata": {},
     "output_type": "display_data"
    },
    {
     "data": {
      "text/plain": [
       "'Evaluation: 527, Energy: -1446.2531054963843, Std: 5.8751618271877675'"
      ]
     },
     "metadata": {},
     "output_type": "display_data"
    },
    {
     "data": {
      "text/plain": [
       "'Evaluation: 528, Energy: -1446.7636966503203, Std: 5.6947378644333595'"
      ]
     },
     "metadata": {},
     "output_type": "display_data"
    },
    {
     "data": {
      "text/plain": [
       "'Evaluation: 529, Energy: -1448.2314041150278, Std: 5.449613919614732'"
      ]
     },
     "metadata": {},
     "output_type": "display_data"
    },
    {
     "data": {
      "text/plain": [
       "'Evaluation: 530, Energy: -1446.0462262568333, Std: 5.693374335067973'"
      ]
     },
     "metadata": {},
     "output_type": "display_data"
    },
    {
     "data": {
      "text/plain": [
       "'Evaluation: 531, Energy: -1441.3829630491016, Std: 5.611550675904841'"
      ]
     },
     "metadata": {},
     "output_type": "display_data"
    },
    {
     "data": {
      "text/plain": [
       "'Evaluation: 532, Energy: -1444.8992724274488, Std: 5.655244719405749'"
      ]
     },
     "metadata": {},
     "output_type": "display_data"
    },
    {
     "data": {
      "text/plain": [
       "'Evaluation: 533, Energy: -1448.6060041835726, Std: 5.444848327345954'"
      ]
     },
     "metadata": {},
     "output_type": "display_data"
    },
    {
     "data": {
      "text/plain": [
       "'Evaluation: 534, Energy: -1442.419744984856, Std: 5.678528596645403'"
      ]
     },
     "metadata": {},
     "output_type": "display_data"
    },
    {
     "data": {
      "text/plain": [
       "'Evaluation: 535, Energy: -1434.4319472670882, Std: 5.861191825563159'"
      ]
     },
     "metadata": {},
     "output_type": "display_data"
    },
    {
     "data": {
      "text/plain": [
       "'Evaluation: 536, Energy: -1455.4203389647378, Std: 5.350715943248067'"
      ]
     },
     "metadata": {},
     "output_type": "display_data"
    },
    {
     "data": {
      "text/plain": [
       "'Evaluation: 537, Energy: -1442.6448820251192, Std: 6.019086801905467'"
      ]
     },
     "metadata": {},
     "output_type": "display_data"
    },
    {
     "data": {
      "text/plain": [
       "'Evaluation: 538, Energy: -1452.36489943559, Std: 5.722175653191035'"
      ]
     },
     "metadata": {},
     "output_type": "display_data"
    },
    {
     "data": {
      "text/plain": [
       "'Evaluation: 539, Energy: -1436.6292918897266, Std: 5.996771665064748'"
      ]
     },
     "metadata": {},
     "output_type": "display_data"
    },
    {
     "data": {
      "text/plain": [
       "'Evaluation: 540, Energy: -1446.03011531461, Std: 5.8617687114525685'"
      ]
     },
     "metadata": {},
     "output_type": "display_data"
    },
    {
     "data": {
      "text/plain": [
       "'Evaluation: 541, Energy: -1437.807751743927, Std: 6.066563169624498'"
      ]
     },
     "metadata": {},
     "output_type": "display_data"
    },
    {
     "data": {
      "text/plain": [
       "'Evaluation: 542, Energy: -1440.4625989776023, Std: 5.560845383862984'"
      ]
     },
     "metadata": {},
     "output_type": "display_data"
    },
    {
     "data": {
      "text/plain": [
       "'Evaluation: 543, Energy: -1446.8343373868008, Std: 5.823460552705517'"
      ]
     },
     "metadata": {},
     "output_type": "display_data"
    },
    {
     "data": {
      "text/plain": [
       "'Evaluation: 544, Energy: -1441.998904914704, Std: 5.816172688031971'"
      ]
     },
     "metadata": {},
     "output_type": "display_data"
    },
    {
     "data": {
      "text/plain": [
       "'Evaluation: 545, Energy: -1441.6278103876937, Std: 5.820843145100178'"
      ]
     },
     "metadata": {},
     "output_type": "display_data"
    },
    {
     "data": {
      "text/plain": [
       "'Evaluation: 546, Energy: -1449.126232160467, Std: 5.8708040536252195'"
      ]
     },
     "metadata": {},
     "output_type": "display_data"
    },
    {
     "data": {
      "text/plain": [
       "'Evaluation: 547, Energy: -1441.415841456202, Std: 5.574819788713795'"
      ]
     },
     "metadata": {},
     "output_type": "display_data"
    },
    {
     "data": {
      "text/plain": [
       "'Evaluation: 548, Energy: -1451.9285434073604, Std: 5.631763681487202'"
      ]
     },
     "metadata": {},
     "output_type": "display_data"
    },
    {
     "data": {
      "text/plain": [
       "'Evaluation: 549, Energy: -1442.6031326461884, Std: 5.674812832751686'"
      ]
     },
     "metadata": {},
     "output_type": "display_data"
    },
    {
     "data": {
      "text/plain": [
       "'Evaluation: 550, Energy: -1441.3520495202163, Std: 5.7602394964720105'"
      ]
     },
     "metadata": {},
     "output_type": "display_data"
    },
    {
     "data": {
      "text/plain": [
       "'Evaluation: 551, Energy: -1439.2805763370852, Std: 5.807999599872008'"
      ]
     },
     "metadata": {},
     "output_type": "display_data"
    },
    {
     "data": {
      "text/plain": [
       "'Evaluation: 552, Energy: -1437.9734551729723, Std: 6.048281924679577'"
      ]
     },
     "metadata": {},
     "output_type": "display_data"
    },
    {
     "data": {
      "text/plain": [
       "'Evaluation: 553, Energy: -1440.2240270728687, Std: 5.861846343453301'"
      ]
     },
     "metadata": {},
     "output_type": "display_data"
    },
    {
     "data": {
      "text/plain": [
       "'Evaluation: 554, Energy: -1439.4549221606815, Std: 5.633819598296547'"
      ]
     },
     "metadata": {},
     "output_type": "display_data"
    },
    {
     "data": {
      "text/plain": [
       "'Evaluation: 555, Energy: -1432.8938847222257, Std: 5.980180937337635'"
      ]
     },
     "metadata": {},
     "output_type": "display_data"
    },
    {
     "data": {
      "text/plain": [
       "'Evaluation: 556, Energy: -1454.8085470740407, Std: 5.567696601779771'"
      ]
     },
     "metadata": {},
     "output_type": "display_data"
    },
    {
     "data": {
      "text/plain": [
       "'Evaluation: 557, Energy: -1446.4316695479436, Std: 5.788705547640402'"
      ]
     },
     "metadata": {},
     "output_type": "display_data"
    },
    {
     "data": {
      "text/plain": [
       "'Evaluation: 558, Energy: -1437.7958154368412, Std: 5.897940323152032'"
      ]
     },
     "metadata": {},
     "output_type": "display_data"
    },
    {
     "data": {
      "text/plain": [
       "'Evaluation: 559, Energy: -1443.8579708947102, Std: 5.798607021449024'"
      ]
     },
     "metadata": {},
     "output_type": "display_data"
    },
    {
     "data": {
      "text/plain": [
       "'Evaluation: 560, Energy: -1439.4502140602833, Std: 5.6858974968537'"
      ]
     },
     "metadata": {},
     "output_type": "display_data"
    },
    {
     "data": {
      "text/plain": [
       "'Evaluation: 561, Energy: -1441.1710385834751, Std: 5.667506121820227'"
      ]
     },
     "metadata": {},
     "output_type": "display_data"
    },
    {
     "data": {
      "text/plain": [
       "'Evaluation: 562, Energy: -1441.987325066605, Std: 5.758602851137023'"
      ]
     },
     "metadata": {},
     "output_type": "display_data"
    },
    {
     "data": {
      "text/plain": [
       "'Evaluation: 563, Energy: -1444.6956655519566, Std: 5.63682897339279'"
      ]
     },
     "metadata": {},
     "output_type": "display_data"
    },
    {
     "data": {
      "text/plain": [
       "'Evaluation: 564, Energy: -1442.3046352056567, Std: 5.657920542727612'"
      ]
     },
     "metadata": {},
     "output_type": "display_data"
    },
    {
     "data": {
      "text/plain": [
       "'Evaluation: 565, Energy: -1447.246606414164, Std: 5.875403409484166'"
      ]
     },
     "metadata": {},
     "output_type": "display_data"
    },
    {
     "data": {
      "text/plain": [
       "'Evaluation: 566, Energy: -1451.3137398807507, Std: 5.278751457679728'"
      ]
     },
     "metadata": {},
     "output_type": "display_data"
    },
    {
     "data": {
      "text/plain": [
       "'Evaluation: 567, Energy: -1450.3833169590519, Std: 5.706690035259103'"
      ]
     },
     "metadata": {},
     "output_type": "display_data"
    },
    {
     "data": {
      "text/plain": [
       "'Evaluation: 568, Energy: -1451.260438011552, Std: 5.48827982227166'"
      ]
     },
     "metadata": {},
     "output_type": "display_data"
    },
    {
     "data": {
      "text/plain": [
       "'Evaluation: 569, Energy: -1445.4200583889046, Std: 5.64313896348903'"
      ]
     },
     "metadata": {},
     "output_type": "display_data"
    },
    {
     "data": {
      "text/plain": [
       "'Evaluation: 570, Energy: -1453.9433030340058, Std: 5.669379690136816'"
      ]
     },
     "metadata": {},
     "output_type": "display_data"
    },
    {
     "data": {
      "text/plain": [
       "'Evaluation: 571, Energy: -1441.2700318295633, Std: 5.961166518985125'"
      ]
     },
     "metadata": {},
     "output_type": "display_data"
    },
    {
     "data": {
      "text/plain": [
       "'Evaluation: 572, Energy: -1434.7054446151199, Std: 6.057234219559115'"
      ]
     },
     "metadata": {},
     "output_type": "display_data"
    },
    {
     "data": {
      "text/plain": [
       "'Evaluation: 573, Energy: -1449.9526239415675, Std: 5.508248170483143'"
      ]
     },
     "metadata": {},
     "output_type": "display_data"
    },
    {
     "data": {
      "text/plain": [
       "'Evaluation: 574, Energy: -1439.7076852009916, Std: 5.855151066769354'"
      ]
     },
     "metadata": {},
     "output_type": "display_data"
    },
    {
     "data": {
      "text/plain": [
       "'Evaluation: 575, Energy: -1451.6178510316768, Std: 5.697583459393694'"
      ]
     },
     "metadata": {},
     "output_type": "display_data"
    },
    {
     "data": {
      "text/plain": [
       "'Evaluation: 576, Energy: -1442.1101791075591, Std: 5.457687057919289'"
      ]
     },
     "metadata": {},
     "output_type": "display_data"
    },
    {
     "data": {
      "text/plain": [
       "'Evaluation: 577, Energy: -1451.68856532775, Std: 5.434363411469422'"
      ]
     },
     "metadata": {},
     "output_type": "display_data"
    },
    {
     "data": {
      "text/plain": [
       "'Evaluation: 578, Energy: -1443.6734435522412, Std: 5.765802411733337'"
      ]
     },
     "metadata": {},
     "output_type": "display_data"
    },
    {
     "data": {
      "text/plain": [
       "'Evaluation: 579, Energy: -1445.306068126168, Std: 5.804054849454846'"
      ]
     },
     "metadata": {},
     "output_type": "display_data"
    },
    {
     "data": {
      "text/plain": [
       "'Evaluation: 580, Energy: -1446.3647325387246, Std: 5.758185183430296'"
      ]
     },
     "metadata": {},
     "output_type": "display_data"
    },
    {
     "data": {
      "text/plain": [
       "'Evaluation: 581, Energy: -1442.7341267588479, Std: 5.67311641557671'"
      ]
     },
     "metadata": {},
     "output_type": "display_data"
    },
    {
     "data": {
      "text/plain": [
       "'Evaluation: 582, Energy: -1448.4948780184734, Std: 5.587583862191865'"
      ]
     },
     "metadata": {},
     "output_type": "display_data"
    },
    {
     "data": {
      "text/plain": [
       "'Evaluation: 583, Energy: -1444.7069839399835, Std: 5.518133057927383'"
      ]
     },
     "metadata": {},
     "output_type": "display_data"
    },
    {
     "data": {
      "text/plain": [
       "'Evaluation: 584, Energy: -1443.633759055418, Std: 5.868868128346576'"
      ]
     },
     "metadata": {},
     "output_type": "display_data"
    },
    {
     "data": {
      "text/plain": [
       "'Evaluation: 585, Energy: -1444.2634929455414, Std: 5.663091504536006'"
      ]
     },
     "metadata": {},
     "output_type": "display_data"
    },
    {
     "data": {
      "text/plain": [
       "'Evaluation: 586, Energy: -1447.8301288097762, Std: 5.502336328926233'"
      ]
     },
     "metadata": {},
     "output_type": "display_data"
    },
    {
     "data": {
      "text/plain": [
       "'Evaluation: 587, Energy: -1447.240140684868, Std: 5.74781780874312'"
      ]
     },
     "metadata": {},
     "output_type": "display_data"
    },
    {
     "data": {
      "text/plain": [
       "'Evaluation: 588, Energy: -1441.9133378434108, Std: 5.873032714360121'"
      ]
     },
     "metadata": {},
     "output_type": "display_data"
    },
    {
     "data": {
      "text/plain": [
       "'Evaluation: 589, Energy: -1435.5346860157993, Std: 6.136560702198237'"
      ]
     },
     "metadata": {},
     "output_type": "display_data"
    },
    {
     "data": {
      "text/plain": [
       "'Evaluation: 590, Energy: -1444.3304722947976, Std: 5.527105833632618'"
      ]
     },
     "metadata": {},
     "output_type": "display_data"
    },
    {
     "data": {
      "text/plain": [
       "'Evaluation: 591, Energy: -1439.948018198329, Std: 6.021242744790128'"
      ]
     },
     "metadata": {},
     "output_type": "display_data"
    },
    {
     "data": {
      "text/plain": [
       "'Evaluation: 592, Energy: -1439.312018539418, Std: 5.978596849256258'"
      ]
     },
     "metadata": {},
     "output_type": "display_data"
    },
    {
     "data": {
      "text/plain": [
       "'Evaluation: 593, Energy: -1446.3684066013436, Std: 5.780214998142698'"
      ]
     },
     "metadata": {},
     "output_type": "display_data"
    },
    {
     "data": {
      "text/plain": [
       "'Evaluation: 594, Energy: -1439.6346361373344, Std: 5.828776642452628'"
      ]
     },
     "metadata": {},
     "output_type": "display_data"
    },
    {
     "data": {
      "text/plain": [
       "'Evaluation: 595, Energy: -1438.7290255171922, Std: 5.5802040908423365'"
      ]
     },
     "metadata": {},
     "output_type": "display_data"
    },
    {
     "data": {
      "text/plain": [
       "'Evaluation: 596, Energy: -1438.3289250253342, Std: 5.8277769524350225'"
      ]
     },
     "metadata": {},
     "output_type": "display_data"
    },
    {
     "data": {
      "text/plain": [
       "'Evaluation: 597, Energy: -1443.008093050907, Std: 5.9015046387553465'"
      ]
     },
     "metadata": {},
     "output_type": "display_data"
    },
    {
     "data": {
      "text/plain": [
       "'Evaluation: 598, Energy: -1450.3636727759476, Std: 5.689955622655534'"
      ]
     },
     "metadata": {},
     "output_type": "display_data"
    },
    {
     "data": {
      "text/plain": [
       "'Evaluation: 599, Energy: -1441.9400255045125, Std: 5.695836765116462'"
      ]
     },
     "metadata": {},
     "output_type": "display_data"
    },
    {
     "data": {
      "text/plain": [
       "'Evaluation: 600, Energy: -1446.1773642189457, Std: 5.9464064192031945'"
      ]
     },
     "metadata": {},
     "output_type": "display_data"
    },
    {
     "data": {
      "text/plain": [
       "'Evaluation: 601, Energy: -1447.2365092278187, Std: 5.623922362818429'"
      ]
     },
     "metadata": {},
     "output_type": "display_data"
    },
    {
     "data": {
      "text/plain": [
       "'Evaluation: 602, Energy: -1430.331111162678, Std: 6.0839533764831355'"
      ]
     },
     "metadata": {},
     "output_type": "display_data"
    },
    {
     "data": {
      "text/plain": [
       "'Evaluation: 603, Energy: -1432.599299435793, Std: 6.134042755042345'"
      ]
     },
     "metadata": {},
     "output_type": "display_data"
    },
    {
     "data": {
      "text/plain": [
       "'Evaluation: 604, Energy: -1446.209629717615, Std: 5.6279592387993045'"
      ]
     },
     "metadata": {},
     "output_type": "display_data"
    },
    {
     "data": {
      "text/plain": [
       "'Evaluation: 605, Energy: -1451.5503354931916, Std: 5.3551904743890635'"
      ]
     },
     "metadata": {},
     "output_type": "display_data"
    },
    {
     "data": {
      "text/plain": [
       "'Evaluation: 606, Energy: -1446.7233078637596, Std: 5.731683519602523'"
      ]
     },
     "metadata": {},
     "output_type": "display_data"
    },
    {
     "data": {
      "text/plain": [
       "'Evaluation: 607, Energy: -1454.655083671978, Std: 5.399961524301089'"
      ]
     },
     "metadata": {},
     "output_type": "display_data"
    },
    {
     "data": {
      "text/plain": [
       "'Evaluation: 608, Energy: -1445.2809511703629, Std: 5.795362128697035'"
      ]
     },
     "metadata": {},
     "output_type": "display_data"
    },
    {
     "data": {
      "text/plain": [
       "'Evaluation: 609, Energy: -1441.3471998202447, Std: 5.699986369181469'"
      ]
     },
     "metadata": {},
     "output_type": "display_data"
    },
    {
     "data": {
      "text/plain": [
       "'Evaluation: 610, Energy: -1442.6062210843993, Std: 5.804627702163907'"
      ]
     },
     "metadata": {},
     "output_type": "display_data"
    },
    {
     "data": {
      "text/plain": [
       "'Evaluation: 611, Energy: -1449.5945625248448, Std: 5.823878837394763'"
      ]
     },
     "metadata": {},
     "output_type": "display_data"
    },
    {
     "data": {
      "text/plain": [
       "'Evaluation: 612, Energy: -1437.5765742686433, Std: 5.790789300626004'"
      ]
     },
     "metadata": {},
     "output_type": "display_data"
    },
    {
     "data": {
      "text/plain": [
       "'Evaluation: 613, Energy: -1431.7663240236586, Std: 6.12728807596644'"
      ]
     },
     "metadata": {},
     "output_type": "display_data"
    },
    {
     "data": {
      "text/plain": [
       "'Evaluation: 614, Energy: -1442.871077534153, Std: 5.659129840243509'"
      ]
     },
     "metadata": {},
     "output_type": "display_data"
    },
    {
     "data": {
      "text/plain": [
       "'Evaluation: 615, Energy: -1442.895406966496, Std: 5.588477169895075'"
      ]
     },
     "metadata": {},
     "output_type": "display_data"
    },
    {
     "data": {
      "text/plain": [
       "'Evaluation: 616, Energy: -1460.3833958821729, Std: 5.311117548209026'"
      ]
     },
     "metadata": {},
     "output_type": "display_data"
    },
    {
     "data": {
      "text/plain": [
       "'Evaluation: 617, Energy: -1436.9616694404044, Std: 5.8812743302528805'"
      ]
     },
     "metadata": {},
     "output_type": "display_data"
    },
    {
     "data": {
      "text/plain": [
       "'Evaluation: 618, Energy: -1447.1805742546792, Std: 5.658245667971526'"
      ]
     },
     "metadata": {},
     "output_type": "display_data"
    },
    {
     "data": {
      "text/plain": [
       "'Evaluation: 619, Energy: -1439.294288236199, Std: 5.740344002675136'"
      ]
     },
     "metadata": {},
     "output_type": "display_data"
    },
    {
     "data": {
      "text/plain": [
       "'Evaluation: 620, Energy: -1445.832785233822, Std: 5.8461135943957085'"
      ]
     },
     "metadata": {},
     "output_type": "display_data"
    },
    {
     "data": {
      "text/plain": [
       "'Evaluation: 621, Energy: -1444.950566843545, Std: 5.814870304307304'"
      ]
     },
     "metadata": {},
     "output_type": "display_data"
    },
    {
     "data": {
      "text/plain": [
       "'Evaluation: 622, Energy: -1453.4759218488616, Std: 5.394534242457769'"
      ]
     },
     "metadata": {},
     "output_type": "display_data"
    },
    {
     "data": {
      "text/plain": [
       "'Evaluation: 623, Energy: -1445.967684700929, Std: 5.575663934546815'"
      ]
     },
     "metadata": {},
     "output_type": "display_data"
    },
    {
     "data": {
      "text/plain": [
       "'Evaluation: 624, Energy: -1441.2849085809207, Std: 5.949729970080749'"
      ]
     },
     "metadata": {},
     "output_type": "display_data"
    },
    {
     "data": {
      "text/plain": [
       "'Evaluation: 625, Energy: -1448.6184986446997, Std: 5.333597815969901'"
      ]
     },
     "metadata": {},
     "output_type": "display_data"
    },
    {
     "data": {
      "text/plain": [
       "'Evaluation: 626, Energy: -1446.7092263445786, Std: 5.632209914619492'"
      ]
     },
     "metadata": {},
     "output_type": "display_data"
    },
    {
     "data": {
      "text/plain": [
       "'Evaluation: 627, Energy: -1449.4928674838486, Std: 5.680275912907223'"
      ]
     },
     "metadata": {},
     "output_type": "display_data"
    },
    {
     "data": {
      "text/plain": [
       "'Evaluation: 628, Energy: -1438.913022939431, Std: 5.7083017706704835'"
      ]
     },
     "metadata": {},
     "output_type": "display_data"
    },
    {
     "data": {
      "text/plain": [
       "'Evaluation: 629, Energy: -1447.5958796191262, Std: 6.007874346966285'"
      ]
     },
     "metadata": {},
     "output_type": "display_data"
    },
    {
     "data": {
      "text/plain": [
       "'Evaluation: 630, Energy: -1439.9013321592076, Std: 5.757408771915229'"
      ]
     },
     "metadata": {},
     "output_type": "display_data"
    },
    {
     "data": {
      "text/plain": [
       "'Evaluation: 631, Energy: -1437.0553527368756, Std: 5.946912857947143'"
      ]
     },
     "metadata": {},
     "output_type": "display_data"
    },
    {
     "data": {
      "text/plain": [
       "'Evaluation: 632, Energy: -1438.2519902444387, Std: 5.792646446353225'"
      ]
     },
     "metadata": {},
     "output_type": "display_data"
    },
    {
     "data": {
      "text/plain": [
       "'Evaluation: 633, Energy: -1440.2054197481013, Std: 5.706432881590742'"
      ]
     },
     "metadata": {},
     "output_type": "display_data"
    },
    {
     "data": {
      "text/plain": [
       "'Evaluation: 634, Energy: -1442.5483341155887, Std: 5.92146196875687'"
      ]
     },
     "metadata": {},
     "output_type": "display_data"
    },
    {
     "data": {
      "text/plain": [
       "'Evaluation: 635, Energy: -1450.8436873298751, Std: 5.599894031937659'"
      ]
     },
     "metadata": {},
     "output_type": "display_data"
    },
    {
     "data": {
      "text/plain": [
       "'Evaluation: 636, Energy: -1442.6485645300684, Std: 5.687865366945055'"
      ]
     },
     "metadata": {},
     "output_type": "display_data"
    },
    {
     "data": {
      "text/plain": [
       "'Evaluation: 637, Energy: -1439.6279072854898, Std: 5.8873427637647255'"
      ]
     },
     "metadata": {},
     "output_type": "display_data"
    },
    {
     "data": {
      "text/plain": [
       "'Evaluation: 638, Energy: -1458.1543204501181, Std: 5.620083149689852'"
      ]
     },
     "metadata": {},
     "output_type": "display_data"
    },
    {
     "data": {
      "text/plain": [
       "'Evaluation: 639, Energy: -1438.0005606980192, Std: 5.795683355968189'"
      ]
     },
     "metadata": {},
     "output_type": "display_data"
    },
    {
     "data": {
      "text/plain": [
       "'Evaluation: 640, Energy: -1448.6227821013752, Std: 5.45216995745262'"
      ]
     },
     "metadata": {},
     "output_type": "display_data"
    },
    {
     "data": {
      "text/plain": [
       "'Evaluation: 641, Energy: -1452.7668497580057, Std: 5.71901830281823'"
      ]
     },
     "metadata": {},
     "output_type": "display_data"
    },
    {
     "data": {
      "text/plain": [
       "'Evaluation: 642, Energy: -1451.3182681871547, Std: 5.4883981884523045'"
      ]
     },
     "metadata": {},
     "output_type": "display_data"
    },
    {
     "data": {
      "text/plain": [
       "'Evaluation: 643, Energy: -1435.1006827517308, Std: 5.869236978103957'"
      ]
     },
     "metadata": {},
     "output_type": "display_data"
    },
    {
     "data": {
      "text/plain": [
       "'Evaluation: 644, Energy: -1445.1761047140392, Std: 5.691171858302681'"
      ]
     },
     "metadata": {},
     "output_type": "display_data"
    },
    {
     "data": {
      "text/plain": [
       "'Evaluation: 645, Energy: -1448.1791324654262, Std: 5.728241363479699'"
      ]
     },
     "metadata": {},
     "output_type": "display_data"
    },
    {
     "data": {
      "text/plain": [
       "'Evaluation: 646, Energy: -1442.1256598638474, Std: 5.586848219380646'"
      ]
     },
     "metadata": {},
     "output_type": "display_data"
    },
    {
     "data": {
      "text/plain": [
       "'Evaluation: 647, Energy: -1447.7971375044694, Std: 5.634354269936911'"
      ]
     },
     "metadata": {},
     "output_type": "display_data"
    },
    {
     "data": {
      "text/plain": [
       "'Evaluation: 648, Energy: -1441.4116837103552, Std: 5.769023567352068'"
      ]
     },
     "metadata": {},
     "output_type": "display_data"
    },
    {
     "data": {
      "text/plain": [
       "'Evaluation: 649, Energy: -1445.484445538693, Std: 5.729840396059252'"
      ]
     },
     "metadata": {},
     "output_type": "display_data"
    },
    {
     "data": {
      "text/plain": [
       "'Evaluation: 650, Energy: -1442.5152010312545, Std: 5.574874032979492'"
      ]
     },
     "metadata": {},
     "output_type": "display_data"
    },
    {
     "data": {
      "text/plain": [
       "'Evaluation: 651, Energy: -1441.466908022484, Std: 5.803146838619684'"
      ]
     },
     "metadata": {},
     "output_type": "display_data"
    },
    {
     "data": {
      "text/plain": [
       "'Evaluation: 652, Energy: -1451.3061884357103, Std: 5.726695852522706'"
      ]
     },
     "metadata": {},
     "output_type": "display_data"
    },
    {
     "data": {
      "text/plain": [
       "'Evaluation: 653, Energy: -1446.636681338891, Std: 5.522374746904452'"
      ]
     },
     "metadata": {},
     "output_type": "display_data"
    },
    {
     "data": {
      "text/plain": [
       "'Evaluation: 654, Energy: -1442.5233269123867, Std: 5.686978550875259'"
      ]
     },
     "metadata": {},
     "output_type": "display_data"
    },
    {
     "data": {
      "text/plain": [
       "'Evaluation: 655, Energy: -1447.848111335236, Std: 5.494863191175052'"
      ]
     },
     "metadata": {},
     "output_type": "display_data"
    },
    {
     "data": {
      "text/plain": [
       "'Evaluation: 656, Energy: -1451.1822682270576, Std: 5.743042400747439'"
      ]
     },
     "metadata": {},
     "output_type": "display_data"
    },
    {
     "data": {
      "text/plain": [
       "'Evaluation: 657, Energy: -1439.6799140899195, Std: 5.589061601965144'"
      ]
     },
     "metadata": {},
     "output_type": "display_data"
    },
    {
     "data": {
      "text/plain": [
       "'Evaluation: 658, Energy: -1434.9831934484343, Std: 5.900249383831991'"
      ]
     },
     "metadata": {},
     "output_type": "display_data"
    },
    {
     "data": {
      "text/plain": [
       "'Evaluation: 659, Energy: -1445.7105520666573, Std: 5.5008476559189825'"
      ]
     },
     "metadata": {},
     "output_type": "display_data"
    },
    {
     "data": {
      "text/plain": [
       "'Evaluation: 660, Energy: -1453.8728833437112, Std: 5.49081711738902'"
      ]
     },
     "metadata": {},
     "output_type": "display_data"
    },
    {
     "data": {
      "text/plain": [
       "'Evaluation: 661, Energy: -1439.8557503512754, Std: 5.840664359363574'"
      ]
     },
     "metadata": {},
     "output_type": "display_data"
    },
    {
     "data": {
      "text/plain": [
       "'Evaluation: 662, Energy: -1445.476455905734, Std: 5.635432870499822'"
      ]
     },
     "metadata": {},
     "output_type": "display_data"
    },
    {
     "data": {
      "text/plain": [
       "'Evaluation: 663, Energy: -1436.0138856893027, Std: 5.7696750289864385'"
      ]
     },
     "metadata": {},
     "output_type": "display_data"
    },
    {
     "data": {
      "text/plain": [
       "'Evaluation: 664, Energy: -1441.0450399415959, Std: 5.89982903507401'"
      ]
     },
     "metadata": {},
     "output_type": "display_data"
    },
    {
     "data": {
      "text/plain": [
       "'Evaluation: 665, Energy: -1457.1584233630404, Std: 5.473807001717342'"
      ]
     },
     "metadata": {},
     "output_type": "display_data"
    },
    {
     "data": {
      "text/plain": [
       "'Evaluation: 666, Energy: -1448.3309854757063, Std: 5.6860786132143755'"
      ]
     },
     "metadata": {},
     "output_type": "display_data"
    },
    {
     "data": {
      "text/plain": [
       "'Evaluation: 667, Energy: -1452.790009104923, Std: 5.6525848374570655'"
      ]
     },
     "metadata": {},
     "output_type": "display_data"
    },
    {
     "data": {
      "text/plain": [
       "'Evaluation: 668, Energy: -1442.3128475827755, Std: 6.041646423523084'"
      ]
     },
     "metadata": {},
     "output_type": "display_data"
    },
    {
     "data": {
      "text/plain": [
       "'Evaluation: 669, Energy: -1430.5837290847262, Std: 6.145700378354686'"
      ]
     },
     "metadata": {},
     "output_type": "display_data"
    },
    {
     "data": {
      "text/plain": [
       "'Evaluation: 670, Energy: -1444.7257198730704, Std: 5.95057124853032'"
      ]
     },
     "metadata": {},
     "output_type": "display_data"
    },
    {
     "data": {
      "text/plain": [
       "'Evaluation: 671, Energy: -1445.5511479634024, Std: 5.82467337165172'"
      ]
     },
     "metadata": {},
     "output_type": "display_data"
    },
    {
     "data": {
      "text/plain": [
       "'Evaluation: 672, Energy: -1448.8888591581285, Std: 5.751964229512777'"
      ]
     },
     "metadata": {},
     "output_type": "display_data"
    },
    {
     "data": {
      "text/plain": [
       "'Evaluation: 673, Energy: -1442.3499472766375, Std: 5.947225579761965'"
      ]
     },
     "metadata": {},
     "output_type": "display_data"
    },
    {
     "data": {
      "text/plain": [
       "'Evaluation: 674, Energy: -1441.268283730433, Std: 5.689710936210154'"
      ]
     },
     "metadata": {},
     "output_type": "display_data"
    },
    {
     "data": {
      "text/plain": [
       "'Evaluation: 675, Energy: -1444.574070341886, Std: 5.520479801054821'"
      ]
     },
     "metadata": {},
     "output_type": "display_data"
    },
    {
     "data": {
      "text/plain": [
       "'Evaluation: 676, Energy: -1437.7095112899776, Std: 5.893200998737841'"
      ]
     },
     "metadata": {},
     "output_type": "display_data"
    },
    {
     "data": {
      "text/plain": [
       "'Evaluation: 677, Energy: -1451.3328413286417, Std: 5.52242565660996'"
      ]
     },
     "metadata": {},
     "output_type": "display_data"
    },
    {
     "data": {
      "text/plain": [
       "'Evaluation: 678, Energy: -1438.9510139524436, Std: 5.777930946503171'"
      ]
     },
     "metadata": {},
     "output_type": "display_data"
    },
    {
     "data": {
      "text/plain": [
       "'Evaluation: 679, Energy: -1455.5186736263192, Std: 5.576291872562669'"
      ]
     },
     "metadata": {},
     "output_type": "display_data"
    },
    {
     "data": {
      "text/plain": [
       "'Evaluation: 680, Energy: -1447.2861992261376, Std: 5.5765966035553864'"
      ]
     },
     "metadata": {},
     "output_type": "display_data"
    },
    {
     "data": {
      "text/plain": [
       "'Evaluation: 681, Energy: -1444.9373393613193, Std: 5.7350269956872815'"
      ]
     },
     "metadata": {},
     "output_type": "display_data"
    },
    {
     "data": {
      "text/plain": [
       "'Evaluation: 682, Energy: -1436.66212657459, Std: 5.7444318167125825'"
      ]
     },
     "metadata": {},
     "output_type": "display_data"
    },
    {
     "data": {
      "text/plain": [
       "'Evaluation: 683, Energy: -1438.489889904161, Std: 5.978756082629769'"
      ]
     },
     "metadata": {},
     "output_type": "display_data"
    },
    {
     "data": {
      "text/plain": [
       "'Evaluation: 684, Energy: -1444.7740874200524, Std: 5.718728665965364'"
      ]
     },
     "metadata": {},
     "output_type": "display_data"
    },
    {
     "data": {
      "text/plain": [
       "'Evaluation: 685, Energy: -1444.1798818186671, Std: 5.9214102248479215'"
      ]
     },
     "metadata": {},
     "output_type": "display_data"
    },
    {
     "data": {
      "text/plain": [
       "'Evaluation: 686, Energy: -1448.2840132645413, Std: 5.726245029560079'"
      ]
     },
     "metadata": {},
     "output_type": "display_data"
    },
    {
     "data": {
      "text/plain": [
       "'Evaluation: 687, Energy: -1441.9307409917258, Std: 5.5159410585959225'"
      ]
     },
     "metadata": {},
     "output_type": "display_data"
    },
    {
     "data": {
      "text/plain": [
       "'Evaluation: 688, Energy: -1448.1756346678126, Std: 5.848506883206954'"
      ]
     },
     "metadata": {},
     "output_type": "display_data"
    },
    {
     "data": {
      "text/plain": [
       "'Evaluation: 689, Energy: -1443.0306967149497, Std: 5.649905325654284'"
      ]
     },
     "metadata": {},
     "output_type": "display_data"
    },
    {
     "data": {
      "text/plain": [
       "'Evaluation: 690, Energy: -1440.9733803579445, Std: 5.820999229170347'"
      ]
     },
     "metadata": {},
     "output_type": "display_data"
    },
    {
     "data": {
      "text/plain": [
       "'Evaluation: 691, Energy: -1442.972024927542, Std: 5.698392061206548'"
      ]
     },
     "metadata": {},
     "output_type": "display_data"
    },
    {
     "data": {
      "text/plain": [
       "'Evaluation: 692, Energy: -1439.4557095267646, Std: 5.735368768645276'"
      ]
     },
     "metadata": {},
     "output_type": "display_data"
    },
    {
     "data": {
      "text/plain": [
       "'Evaluation: 693, Energy: -1437.5633166587052, Std: 6.125340437593575'"
      ]
     },
     "metadata": {},
     "output_type": "display_data"
    },
    {
     "data": {
      "text/plain": [
       "'Evaluation: 694, Energy: -1439.122930348473, Std: 6.0301548341864235'"
      ]
     },
     "metadata": {},
     "output_type": "display_data"
    },
    {
     "data": {
      "text/plain": [
       "'Evaluation: 695, Energy: -1452.3888666419857, Std: 5.317368487190862'"
      ]
     },
     "metadata": {},
     "output_type": "display_data"
    },
    {
     "data": {
      "text/plain": [
       "'Evaluation: 696, Energy: -1445.7044787990503, Std: 5.9389173542045'"
      ]
     },
     "metadata": {},
     "output_type": "display_data"
    },
    {
     "data": {
      "text/plain": [
       "'Evaluation: 697, Energy: -1449.4362396144122, Std: 5.54109370845907'"
      ]
     },
     "metadata": {},
     "output_type": "display_data"
    },
    {
     "data": {
      "text/plain": [
       "'Evaluation: 698, Energy: -1447.3897320340152, Std: 5.5337084496052515'"
      ]
     },
     "metadata": {},
     "output_type": "display_data"
    },
    {
     "data": {
      "text/plain": [
       "'Evaluation: 699, Energy: -1434.9330678393617, Std: 6.078745465521624'"
      ]
     },
     "metadata": {},
     "output_type": "display_data"
    },
    {
     "data": {
      "text/plain": [
       "'Evaluation: 700, Energy: -1447.5286460504326, Std: 5.477387347101077'"
      ]
     },
     "metadata": {},
     "output_type": "display_data"
    },
    {
     "data": {
      "text/plain": [
       "'Evaluation: 701, Energy: -1440.3430826602812, Std: 6.100110169889569'"
      ]
     },
     "metadata": {},
     "output_type": "display_data"
    },
    {
     "data": {
      "text/plain": [
       "'Evaluation: 702, Energy: -1441.80112700996, Std: 6.0252989345166865'"
      ]
     },
     "metadata": {},
     "output_type": "display_data"
    },
    {
     "data": {
      "text/plain": [
       "'Evaluation: 703, Energy: -1458.031540807341, Std: 5.754001822968879'"
      ]
     },
     "metadata": {},
     "output_type": "display_data"
    },
    {
     "data": {
      "text/plain": [
       "'Evaluation: 704, Energy: -1444.602128345774, Std: 5.4893913911899865'"
      ]
     },
     "metadata": {},
     "output_type": "display_data"
    },
    {
     "data": {
      "text/plain": [
       "'Evaluation: 705, Energy: -1446.0746262424047, Std: 5.642930738666472'"
      ]
     },
     "metadata": {},
     "output_type": "display_data"
    },
    {
     "data": {
      "text/plain": [
       "'Evaluation: 706, Energy: -1453.1240016176362, Std: 5.759050935834787'"
      ]
     },
     "metadata": {},
     "output_type": "display_data"
    },
    {
     "data": {
      "text/plain": [
       "'Evaluation: 707, Energy: -1437.8518945459239, Std: 6.106679440904678'"
      ]
     },
     "metadata": {},
     "output_type": "display_data"
    },
    {
     "data": {
      "text/plain": [
       "'Evaluation: 708, Energy: -1440.9668937415531, Std: 5.468182099427107'"
      ]
     },
     "metadata": {},
     "output_type": "display_data"
    },
    {
     "data": {
      "text/plain": [
       "'Evaluation: 709, Energy: -1450.1002674646247, Std: 5.891998106257499'"
      ]
     },
     "metadata": {},
     "output_type": "display_data"
    },
    {
     "data": {
      "text/plain": [
       "'Evaluation: 710, Energy: -1455.2465626250653, Std: 5.509445473054731'"
      ]
     },
     "metadata": {},
     "output_type": "display_data"
    },
    {
     "data": {
      "text/plain": [
       "'Evaluation: 711, Energy: -1440.3950193292735, Std: 5.613253707277754'"
      ]
     },
     "metadata": {},
     "output_type": "display_data"
    },
    {
     "data": {
      "text/plain": [
       "'Evaluation: 712, Energy: -1446.578599729166, Std: 5.85305345594429'"
      ]
     },
     "metadata": {},
     "output_type": "display_data"
    },
    {
     "data": {
      "text/plain": [
       "'Evaluation: 713, Energy: -1447.622328045406, Std: 5.684366426205071'"
      ]
     },
     "metadata": {},
     "output_type": "display_data"
    },
    {
     "data": {
      "text/plain": [
       "'Evaluation: 714, Energy: -1446.2873049994896, Std: 5.707667771958198'"
      ]
     },
     "metadata": {},
     "output_type": "display_data"
    },
    {
     "data": {
      "text/plain": [
       "'Evaluation: 715, Energy: -1449.7752542991618, Std: 5.614076916083349'"
      ]
     },
     "metadata": {},
     "output_type": "display_data"
    },
    {
     "data": {
      "text/plain": [
       "'Evaluation: 716, Energy: -1446.4824471345198, Std: 5.508318405101289'"
      ]
     },
     "metadata": {},
     "output_type": "display_data"
    },
    {
     "data": {
      "text/plain": [
       "'Evaluation: 717, Energy: -1455.1775214094794, Std: 5.655256096500045'"
      ]
     },
     "metadata": {},
     "output_type": "display_data"
    },
    {
     "data": {
      "text/plain": [
       "'Evaluation: 718, Energy: -1445.116404507336, Std: 5.9017896577339855'"
      ]
     },
     "metadata": {},
     "output_type": "display_data"
    },
    {
     "data": {
      "text/plain": [
       "'Evaluation: 719, Energy: -1443.9158460532008, Std: 5.755497870508255'"
      ]
     },
     "metadata": {},
     "output_type": "display_data"
    },
    {
     "data": {
      "text/plain": [
       "'Evaluation: 720, Energy: -1444.6921097710228, Std: 5.865244741970304'"
      ]
     },
     "metadata": {},
     "output_type": "display_data"
    },
    {
     "data": {
      "text/plain": [
       "'Evaluation: 721, Energy: -1443.7409586219255, Std: 5.581840377684082'"
      ]
     },
     "metadata": {},
     "output_type": "display_data"
    },
    {
     "data": {
      "text/plain": [
       "'Evaluation: 722, Energy: -1452.212916811564, Std: 5.428836315536463'"
      ]
     },
     "metadata": {},
     "output_type": "display_data"
    },
    {
     "data": {
      "text/plain": [
       "'Evaluation: 723, Energy: -1444.544545204192, Std: 5.635895996131793'"
      ]
     },
     "metadata": {},
     "output_type": "display_data"
    },
    {
     "data": {
      "text/plain": [
       "'Evaluation: 724, Energy: -1442.2061624569697, Std: 5.790979782688421'"
      ]
     },
     "metadata": {},
     "output_type": "display_data"
    },
    {
     "data": {
      "text/plain": [
       "'Evaluation: 725, Energy: -1444.6326669813523, Std: 5.730397229630459'"
      ]
     },
     "metadata": {},
     "output_type": "display_data"
    },
    {
     "data": {
      "text/plain": [
       "'Evaluation: 726, Energy: -1455.1328551768527, Std: 5.4265383722152585'"
      ]
     },
     "metadata": {},
     "output_type": "display_data"
    },
    {
     "data": {
      "text/plain": [
       "'Evaluation: 727, Energy: -1446.3963007611992, Std: 5.594426534396767'"
      ]
     },
     "metadata": {},
     "output_type": "display_data"
    },
    {
     "data": {
      "text/plain": [
       "'Evaluation: 728, Energy: -1437.364704908988, Std: 5.724598314181829'"
      ]
     },
     "metadata": {},
     "output_type": "display_data"
    },
    {
     "data": {
      "text/plain": [
       "'Evaluation: 729, Energy: -1440.2148827282197, Std: 5.747825851432863'"
      ]
     },
     "metadata": {},
     "output_type": "display_data"
    },
    {
     "data": {
      "text/plain": [
       "'Evaluation: 730, Energy: -1449.8524766242454, Std: 5.563567836097566'"
      ]
     },
     "metadata": {},
     "output_type": "display_data"
    },
    {
     "data": {
      "text/plain": [
       "'Evaluation: 731, Energy: -1446.6950563678142, Std: 5.464273716152788'"
      ]
     },
     "metadata": {},
     "output_type": "display_data"
    },
    {
     "data": {
      "text/plain": [
       "'Evaluation: 732, Energy: -1443.437841966377, Std: 5.719424415952649'"
      ]
     },
     "metadata": {},
     "output_type": "display_data"
    },
    {
     "data": {
      "text/plain": [
       "'Evaluation: 733, Energy: -1449.645245485073, Std: 5.549698211065908'"
      ]
     },
     "metadata": {},
     "output_type": "display_data"
    },
    {
     "data": {
      "text/plain": [
       "'Evaluation: 734, Energy: -1440.552409482546, Std: 5.768719426689741'"
      ]
     },
     "metadata": {},
     "output_type": "display_data"
    },
    {
     "data": {
      "text/plain": [
       "'Evaluation: 735, Energy: -1448.1440059958566, Std: 5.476835738004015'"
      ]
     },
     "metadata": {},
     "output_type": "display_data"
    },
    {
     "data": {
      "text/plain": [
       "'Evaluation: 736, Energy: -1448.17894801753, Std: 5.60667054888842'"
      ]
     },
     "metadata": {},
     "output_type": "display_data"
    },
    {
     "data": {
      "text/plain": [
       "'Evaluation: 737, Energy: -1454.1741999288383, Std: 5.447477838242026'"
      ]
     },
     "metadata": {},
     "output_type": "display_data"
    },
    {
     "data": {
      "text/plain": [
       "'Evaluation: 738, Energy: -1439.8977010533526, Std: 6.053603490961995'"
      ]
     },
     "metadata": {},
     "output_type": "display_data"
    },
    {
     "data": {
      "text/plain": [
       "'Evaluation: 739, Energy: -1445.5919297094651, Std: 5.704135417631006'"
      ]
     },
     "metadata": {},
     "output_type": "display_data"
    },
    {
     "data": {
      "text/plain": [
       "'Evaluation: 740, Energy: -1434.7161326769863, Std: 5.73736999797951'"
      ]
     },
     "metadata": {},
     "output_type": "display_data"
    },
    {
     "data": {
      "text/plain": [
       "'Evaluation: 741, Energy: -1450.7932851649678, Std: 5.6685833342865255'"
      ]
     },
     "metadata": {},
     "output_type": "display_data"
    },
    {
     "data": {
      "text/plain": [
       "'Evaluation: 742, Energy: -1449.1684802036282, Std: 5.758407369826878'"
      ]
     },
     "metadata": {},
     "output_type": "display_data"
    },
    {
     "data": {
      "text/plain": [
       "'Evaluation: 743, Energy: -1436.007715032173, Std: 5.822944217907337'"
      ]
     },
     "metadata": {},
     "output_type": "display_data"
    },
    {
     "data": {
      "text/plain": [
       "'Evaluation: 744, Energy: -1449.917406792247, Std: 5.610142895985558'"
      ]
     },
     "metadata": {},
     "output_type": "display_data"
    },
    {
     "data": {
      "text/plain": [
       "'Evaluation: 745, Energy: -1450.3305767317322, Std: 5.661150840847504'"
      ]
     },
     "metadata": {},
     "output_type": "display_data"
    },
    {
     "data": {
      "text/plain": [
       "'Evaluation: 746, Energy: -1461.7086136073333, Std: 5.343260178334407'"
      ]
     },
     "metadata": {},
     "output_type": "display_data"
    },
    {
     "data": {
      "text/plain": [
       "'Evaluation: 747, Energy: -1446.3147687294318, Std: 5.671364048096409'"
      ]
     },
     "metadata": {},
     "output_type": "display_data"
    },
    {
     "data": {
      "text/plain": [
       "'Evaluation: 748, Energy: -1443.5510449480519, Std: 5.789026908106437'"
      ]
     },
     "metadata": {},
     "output_type": "display_data"
    },
    {
     "data": {
      "text/plain": [
       "'Evaluation: 749, Energy: -1445.5152676128914, Std: 5.797002187215568'"
      ]
     },
     "metadata": {},
     "output_type": "display_data"
    },
    {
     "data": {
      "text/plain": [
       "'Evaluation: 750, Energy: -1449.6588633784709, Std: 5.441292164486502'"
      ]
     },
     "metadata": {},
     "output_type": "display_data"
    }
   ],
   "source": [
    "ansatz15 = TwoLocal(qubo_15vars.get_num_vars(), rotation_blocks='ry', entanglement_blocks='cz')\n",
    "sol15_qasm_vqe_cobyla = Optimization_VQE(qubo_15vars,ansatz=ansatz15, local=False, backend=provider2.backend.ibmq_qasm_simulator,\n",
    "                                       provider=provider2, optimizer=COBYLA(maxiter=100))"
   ]
  },
  {
   "cell_type": "code",
   "execution_count": 92,
   "id": "86a18cc7",
   "metadata": {},
   "outputs": [
    {
     "data": {
      "image/png": "[encoded data removed]",
      "text/plain": [
       "<Figure size 432x288 with 1 Axes>"
      ]
     },
     "metadata": {},
     "output_type": "display_data"
    }
   ],
   "source": [
    "solution15_vqe =  sol15_qasm_vqe_cobyla[0].variables_dict\n",
    "G_sol15_vqe = nx.Graph()\n",
    "G_sol15_vqe.add_nodes_from(range(n_companies))\n",
    "for k, v in solution15_vqe.items():\n",
    "    if v == 1:\n",
    "        nodes = k[2:].split(\"_\")\n",
    "        G_sol15_vqe.add_edge(int(nodes[0]), int(nodes[1]))\n",
    "for k, v in solution_not_kept.items():\n",
    "    if v == 1:\n",
    "        nodes = k[2:].split(\"_\")\n",
    "        G_sol15_vqe.add_edge(int(nodes[0]), int(nodes[1]))\n",
    "nx.draw(G_sol15_vqe, pos=companies, with_labels=True, node_size=500,\n",
    "        edge_color=colors, width=1, font_color=\"white\",font_size=14,\n",
    "        node_color = [\"tab:red\"] + (n_companies-1)*[\"darkblue\"])"
   ]
  },
  {
   "cell_type": "code",
   "execution_count": 57,
   "id": "da63ac07",
   "metadata": {},
   "outputs": [],
   "source": [
    "sol15_qasm = {\"qaoa_cobyla\":sol15_qasm_qaoa_cobyla, \"vqe_cobyla\":sol15_qasm_vqe_cobyla}\n",
    "np.save(\"./Data/sol15_qasm.npy\", sol15_qasm)"
   ]
  },
  {
   "cell_type": "code",
   "execution_count": 94,
   "id": "21d19048",
   "metadata": {},
   "outputs": [
    {
     "data": {
      "image/png": "[encoded data removed]",
      "text/plain": [
       "<Figure size 1080x720 with 4 Axes>"
      ]
     },
     "metadata": {},
     "output_type": "display_data"
    }
   ],
   "source": [
    "solution15 = [G_sol15_qaoa, G_sol15_vqe]\n",
    "fig, ax = plt.subplots(2,2, figsize=(15,10))\n",
    "ax[0,0].plot(sol15_qasm_qaoa_cobyla[1][\"mean\"], color=\"darkblue\", label=\"QAOA-COBYLA\")\n",
    "ax[0,1].plot(sol15_qasm_vqe_cobyla[1][\"mean\"], color=\"slateblue\", label=\"VQE-COBYLA\")\n",
    "for i in range(2):\n",
    "    ax[0,i].grid()\n",
    "    ax[0,i].set_xlabel(\"Iterations\", fontsize=14)\n",
    "    ax[0,i].set_ylabel(\"Cost\", fontsize=14)\n",
    "    ax[0,i].legend()\n",
    "    plt.sca(ax[1,i])\n",
    "    nx.draw(solution15[i], pos=companies, with_labels=True, node_size=500,\n",
    "        edge_color=colors, width=1, font_color=\"white\",font_size=14,\n",
    "        node_color = [\"tab:red\"] + (n_companies-1)*[\"darkblue\"])\n",
    "fig.savefig(\"./Images/Sol15Q.png\")"
   ]
  },
  {
   "cell_type": "markdown",
   "id": "251091df",
   "metadata": {},
   "source": [
    "## Solution with 20 variables"
   ]
  },
  {
   "cell_type": "code",
   "execution_count": 59,
   "id": "fea00687",
   "metadata": {},
   "outputs": [],
   "source": [
    "num_1s = 8\n",
    "num_0s = 12\n",
    "random.seed(1)\n",
    "keep_1s = random.sample(index_1s, num_1s)\n",
    "keep_0s = random.sample(index_0s, num_0s)\n",
    "sol_qubo = sol.variables_dict\n",
    "solution_not_kept = {i:sol_qubo[i] for i in sol_qubo.keys() if i not in keep_1s + keep_0s} \n",
    "\n",
    "qubo_20vars = qubo_no_slack.substitute_variables(solution_not_kept)"
   ]
  },
  {
   "cell_type": "code",
   "execution_count": null,
   "id": "c332f4de",
   "metadata": {},
   "outputs": [],
   "source": [
    "sol20_qasm_qaoa_cobyla_r1 = Optimization_QAOA(qubo_20vars, reps=1, local=False, backend=provider2.backend.ibmq_qasm_simulator,\n",
    "                                       provider=provider2, optimizer=COBYLA(maxiter=10))"
   ]
  },
  {
   "cell_type": "code",
   "execution_count": null,
   "id": "262621a9",
   "metadata": {},
   "outputs": [],
   "source": []
  }
 ],
 "metadata": {
  "kernelspec": {
   "display_name": "Avocados",
   "language": "python",
   "name": "avocados"
  },
  "language_info": {
   "codemirror_mode": {
    "name": "ipython",
    "version": 3
   },
   "file_extension": ".py",
   "mimetype": "text/x-python",
   "name": "python",
   "nbconvert_exporter": "python",
   "pygments_lexer": "ipython3",
   "version": "3.8.13"
  }
 },
 "nbformat": 4,
 "nbformat_minor": 5
}
